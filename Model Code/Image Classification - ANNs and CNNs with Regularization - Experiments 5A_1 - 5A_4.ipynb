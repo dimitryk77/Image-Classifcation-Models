{
 "cells": [
  {
   "cell_type": "code",
   "execution_count": 1,
   "metadata": {
    "colab": {
     "base_uri": "https://localhost:8080/"
    },
    "executionInfo": {
     "elapsed": 11052,
     "status": "ok",
     "timestamp": 1651020321424,
     "user": {
      "displayName": "Dimitry Kirtsman",
      "userId": "11988189828040272864"
     },
     "user_tz": 420
    },
    "id": "hRVedTQ-D6EJ",
    "outputId": "57f13ece-291b-4ae7-ca28-9582aa064d5e"
   },
   "outputs": [
    {
     "name": "stdout",
     "output_type": "stream",
     "text": [
      "INFO:tensorflow:Deallocate tpu buffers before initializing tpu system.\n"
     ]
    },
    {
     "name": "stderr",
     "output_type": "stream",
     "text": [
      "INFO:tensorflow:Deallocate tpu buffers before initializing tpu system.\n"
     ]
    },
    {
     "name": "stdout",
     "output_type": "stream",
     "text": [
      "INFO:tensorflow:Initializing the TPU system: grpc://10.54.53.138:8470\n"
     ]
    },
    {
     "name": "stderr",
     "output_type": "stream",
     "text": [
      "INFO:tensorflow:Initializing the TPU system: grpc://10.54.53.138:8470\n"
     ]
    },
    {
     "name": "stdout",
     "output_type": "stream",
     "text": [
      "INFO:tensorflow:Finished initializing TPU system.\n"
     ]
    },
    {
     "name": "stderr",
     "output_type": "stream",
     "text": [
      "INFO:tensorflow:Finished initializing TPU system.\n"
     ]
    },
    {
     "name": "stdout",
     "output_type": "stream",
     "text": [
      "Device: grpc://10.54.53.138:8470\n"
     ]
    }
   ],
   "source": [
    "import datetime\n",
    "import time\n",
    "import numpy as np\n",
    "import pandas as pd\n",
    "from packaging import version\n",
    "from collections import Counter\n",
    "\n",
    "from sklearn.metrics import confusion_matrix, classification_report\n",
    "from sklearn.metrics import accuracy_score\n",
    "from sklearn.metrics import mean_squared_error as MSE\n",
    "from sklearn.model_selection import train_test_split\n",
    "from sklearn.manifold import TSNE\n",
    "\n",
    "import matplotlib.pyplot as plt\n",
    "import matplotlib as mpl\n",
    "import seaborn as sns\n",
    "\n",
    "import tensorflow as tf\n",
    "from tensorflow import keras\n",
    "from tensorflow.keras import models, layers\n",
    "from tensorflow.keras.models import Sequential\n",
    "from tensorflow.keras.layers import Conv2D, MaxPool2D, BatchNormalization, Dropout, Flatten, Input, Dense\n",
    "from tensorflow.keras.callbacks import ModelCheckpoint, EarlyStopping\n",
    "from tensorflow.keras.preprocessing import image\n",
    "from tensorflow.keras.utils import to_categorical\n",
    "tf.keras.utils.set_random_seed(4)\n",
    "%matplotlib inline\n",
    "np.set_printoptions(precision=3, suppress=True)\n",
    "tpu = tf.distribute.cluster_resolver.TPUClusterResolver.connect()\n",
    "print(\"Device:\", tpu.master())"
   ]
  },
  {
   "cell_type": "code",
   "execution_count": 2,
   "metadata": {
    "colab": {
     "base_uri": "https://localhost:8080/"
    },
    "executionInfo": {
     "elapsed": 13,
     "status": "ok",
     "timestamp": 1651020321424,
     "user": {
      "displayName": "Dimitry Kirtsman",
      "userId": "11988189828040272864"
     },
     "user_tz": 420
    },
    "id": "6FoDS9G2EI8y",
    "outputId": "be1e5439-40f7-4d7b-f5e6-ee8b5daa9ad8"
   },
   "outputs": [
    {
     "name": "stdout",
     "output_type": "stream",
     "text": [
      "This notebook requires TensorFlow 2.0 or above\n",
      "TensorFlow version:  2.8.0\n"
     ]
    }
   ],
   "source": [
    "print(\"This notebook requires TensorFlow 2.0 or above\")\n",
    "print(\"TensorFlow version: \", tf.__version__)\n",
    "assert version.parse(tf.__version__).release[0] >=2"
   ]
  },
  {
   "cell_type": "code",
   "execution_count": 3,
   "metadata": {
    "colab": {
     "base_uri": "https://localhost:8080/"
    },
    "executionInfo": {
     "elapsed": 11,
     "status": "ok",
     "timestamp": 1651020321425,
     "user": {
      "displayName": "Dimitry Kirtsman",
      "userId": "11988189828040272864"
     },
     "user_tz": 420
    },
    "id": "jvSH_ClREI_Q",
    "outputId": "74908aa7-a174-45c1-b829-6d9edc1bac9a"
   },
   "outputs": [
    {
     "name": "stdout",
     "output_type": "stream",
     "text": [
      "Keras version:  2.8.0\n"
     ]
    }
   ],
   "source": [
    "print(\"Keras version: \", keras.__version__)"
   ]
  },
  {
   "cell_type": "code",
   "execution_count": 4,
   "metadata": {
    "colab": {
     "base_uri": "https://localhost:8080/"
    },
    "executionInfo": {
     "elapsed": 732,
     "status": "ok",
     "timestamp": 1651020322148,
     "user": {
      "displayName": "Dimitry Kirtsman",
      "userId": "11988189828040272864"
     },
     "user_tz": 420
    },
    "id": "mNQpZd4nEJBh",
    "outputId": "002443a7-a928-4642-8633-19c50947807b"
   },
   "outputs": [
    {
     "name": "stdout",
     "output_type": "stream",
     "text": [
      "Drive already mounted at /content/gdrive; to attempt to forcibly remount, call drive.mount(\"/content/gdrive\", force_remount=True).\n"
     ]
    }
   ],
   "source": [
    "#mounting Google Drive\n",
    "from google.colab import drive\n",
    "drive.mount('/content/gdrive')"
   ]
  },
  {
   "cell_type": "code",
   "execution_count": 5,
   "metadata": {
    "executionInfo": {
     "elapsed": 698,
     "status": "ok",
     "timestamp": 1651020322842,
     "user": {
      "displayName": "Dimitry Kirtsman",
      "userId": "11988189828040272864"
     },
     "user_tz": 420
    },
    "id": "PPExqJzYEJEA"
   },
   "outputs": [],
   "source": [
    "#getting dataset\n",
    "(x_train, y_train), (x_test, y_test) = keras.datasets.cifar10.load_data()"
   ]
  },
  {
   "cell_type": "code",
   "execution_count": 6,
   "metadata": {
    "colab": {
     "base_uri": "https://localhost:8080/"
    },
    "executionInfo": {
     "elapsed": 12,
     "status": "ok",
     "timestamp": 1651020322842,
     "user": {
      "displayName": "Dimitry Kirtsman",
      "userId": "11988189828040272864"
     },
     "user_tz": 420
    },
    "id": "dKNP-y2dEJGh",
    "outputId": "a18e8dc8-517b-4184-c165-937e70c08139"
   },
   "outputs": [
    {
     "name": "stdout",
     "output_type": "stream",
     "text": [
      "train_images:\t(50000, 32, 32, 3)\n",
      "train_labels:\t(50000, 1)\n",
      "test_images:\t(10000, 32, 32, 3)\n",
      "test_labels:\t(10000, 1)\n"
     ]
    }
   ],
   "source": [
    "#checking train and test size\n",
    "print('train_images:\\t{}'.format(x_train.shape))\n",
    "print('train_labels:\\t{}'.format(y_train.shape))\n",
    "print('test_images:\\t{}'.format(x_test.shape))\n",
    "print('test_labels:\\t{}'.format(y_test.shape))"
   ]
  },
  {
   "cell_type": "code",
   "execution_count": 6,
   "metadata": {
    "executionInfo": {
     "elapsed": 9,
     "status": "ok",
     "timestamp": 1651020322843,
     "user": {
      "displayName": "Dimitry Kirtsman",
      "userId": "11988189828040272864"
     },
     "user_tz": 420
    },
    "id": "hDzZK1FxEJI4"
   },
   "outputs": [],
   "source": []
  },
  {
   "cell_type": "code",
   "execution_count": 6,
   "metadata": {
    "executionInfo": {
     "elapsed": 8,
     "status": "ok",
     "timestamp": 1651020322843,
     "user": {
      "displayName": "Dimitry Kirtsman",
      "userId": "11988189828040272864"
     },
     "user_tz": 420
    },
    "id": "weoVgTe8EJLJ"
   },
   "outputs": [],
   "source": []
  },
  {
   "cell_type": "markdown",
   "metadata": {
    "id": "D4VggkK4GNQR"
   },
   "source": [
    "##EDA"
   ]
  },
  {
   "cell_type": "code",
   "execution_count": 7,
   "metadata": {
    "colab": {
     "base_uri": "https://localhost:8080/"
    },
    "executionInfo": {
     "elapsed": 7,
     "status": "ok",
     "timestamp": 1651020322843,
     "user": {
      "displayName": "Dimitry Kirtsman",
      "userId": "11988189828040272864"
     },
     "user_tz": 420
    },
    "id": "oW9Q5cDxEJP5",
    "outputId": "e1aa3ca7-a660-4d6a-d971-b4be0184cec5"
   },
   "outputs": [
    {
     "name": "stdout",
     "output_type": "stream",
     "text": [
      "First ten labels training dataset:\n",
      " [[6]\n",
      " [9]\n",
      " [9]\n",
      " [4]\n",
      " [1]\n",
      " [1]\n",
      " [2]\n",
      " [7]\n",
      " [8]\n",
      " [3]]\n",
      "\n"
     ]
    }
   ],
   "source": [
    "#Look at labels for training set- they are numeric\n",
    "print(\"First ten labels training dataset:\\n {}\\n\".format(y_train[0:10]))"
   ]
  },
  {
   "cell_type": "code",
   "execution_count": 8,
   "metadata": {
    "executionInfo": {
     "elapsed": 3,
     "status": "ok",
     "timestamp": 1651020322843,
     "user": {
      "displayName": "Dimitry Kirtsman",
      "userId": "11988189828040272864"
     },
     "user_tz": 420
    },
    "id": "3VjcmH7xEJSZ"
   },
   "outputs": [],
   "source": [
    "# function to help plot some of the pictures from the dataset\n",
    "def get_three_classes(x, y):\n",
    "    def indices_of(class_id):\n",
    "        indices, _ = np.where(y == float(class_id))\n",
    "        return indices\n",
    "\n",
    "    indices = np.concatenate([indices_of(0), indices_of(1), indices_of(2)], axis=0)\n",
    "    \n",
    "    x = x[indices]\n",
    "    y = y[indices]\n",
    "    \n",
    "    count = x.shape[0]\n",
    "    indices = np.random.choice(range(count), count, replace=False)\n",
    "    \n",
    "    x = x[indices]\n",
    "    y = y[indices]\n",
    "    \n",
    "    y = tf.keras.utils.to_categorical(y)\n",
    "    \n",
    "    return x, y"
   ]
  },
  {
   "cell_type": "code",
   "execution_count": 9,
   "metadata": {
    "executionInfo": {
     "elapsed": 713,
     "status": "ok",
     "timestamp": 1651020323554,
     "user": {
      "displayName": "Dimitry Kirtsman",
      "userId": "11988189828040272864"
     },
     "user_tz": 420
    },
    "id": "yjLW4NB9EJUY"
   },
   "outputs": [],
   "source": [
    "(train_images, train_labels),(test_images, test_labels)= tf.keras.datasets.cifar10.load_data()"
   ]
  },
  {
   "cell_type": "code",
   "execution_count": 10,
   "metadata": {
    "executionInfo": {
     "elapsed": 7,
     "status": "ok",
     "timestamp": 1651020323555,
     "user": {
      "displayName": "Dimitry Kirtsman",
      "userId": "11988189828040272864"
     },
     "user_tz": 420
    },
    "id": "zOq_le6FHKkj"
   },
   "outputs": [],
   "source": [
    "x_preview, y_preview = get_three_classes(train_images, train_labels)\n",
    "x_preview, y_preview = get_three_classes(test_images, test_labels)"
   ]
  },
  {
   "cell_type": "code",
   "execution_count": 11,
   "metadata": {
    "colab": {
     "base_uri": "https://localhost:8080/",
     "height": 288
    },
    "executionInfo": {
     "elapsed": 528,
     "status": "ok",
     "timestamp": 1651020324078,
     "user": {
      "displayName": "Dimitry Kirtsman",
      "userId": "11988189828040272864"
     },
     "user_tz": 420
    },
    "id": "xEWvKZ7QHKm6",
    "outputId": "db776b29-7bae-4792-e72b-41ae96ae904d"
   },
   "outputs": [
    {
     "data": {
      "image/png": "[encoded data removed]",
      "text/plain": [
       "<Figure size 720x360 with 10 Axes>"
      ]
     },
     "metadata": {},
     "output_type": "display_data"
    }
   ],
   "source": [
    "class_names_preview = ['aeroplane', 'car', 'bird']\n",
    "\n",
    "def show_random_examples(x, y, p):\n",
    "    indices = np.random.choice(range(x.shape[0]), 10, replace=False)\n",
    "    \n",
    "    x = x[indices]\n",
    "    y = y[indices]\n",
    "    p = p[indices]\n",
    "    \n",
    "    plt.figure(figsize=(10, 5))\n",
    "    for i in range(10):\n",
    "        plt.subplot(2, 5, i + 1)\n",
    "        plt.imshow(x[i])\n",
    "        plt.xticks([])\n",
    "        plt.yticks([])\n",
    "        col = 'green' if np.argmax(y[i]) == np.argmax(p[i]) else 'red'\n",
    "        plt.xlabel(class_names_preview[np.argmax(p[i])], color=col)\n",
    "    plt.show()\n",
    "\n",
    "show_random_examples(x_preview, y_preview, y_preview)"
   ]
  },
  {
   "cell_type": "code",
   "execution_count": 11,
   "metadata": {
    "executionInfo": {
     "elapsed": 9,
     "status": "ok",
     "timestamp": 1651020324079,
     "user": {
      "displayName": "Dimitry Kirtsman",
      "userId": "11988189828040272864"
     },
     "user_tz": 420
    },
    "id": "LPUK29FIHKpa"
   },
   "outputs": [],
   "source": []
  },
  {
   "cell_type": "markdown",
   "metadata": {
    "id": "Fj7LlZXWII5v"
   },
   "source": [
    "# Data Preprocessing"
   ]
  },
  {
   "cell_type": "code",
   "execution_count": null,
   "metadata": {},
   "outputs": [],
   "source": []
  },
  {
   "cell_type": "code",
   "execution_count": 12,
   "metadata": {
    "executionInfo": {
     "elapsed": 8,
     "status": "ok",
     "timestamp": 1651020324079,
     "user": {
      "displayName": "Dimitry Kirtsman",
      "userId": "11988189828040272864"
     },
     "user_tz": 420
    },
    "id": "Z1jEwhuOHgfi"
   },
   "outputs": [],
   "source": [
    "#use train_test_split to create validation set.\n",
    "x_train_split, x_valid_split, y_train_split, y_valid_split = train_test_split(x_train\n",
    "                                                                              ,y_train\n",
    "                                                                              ,test_size=.1\n",
    "                                                                              ,random_state=10\n",
    "                                                                              ,shuffle=True)"
   ]
  },
  {
   "cell_type": "code",
   "execution_count": 13,
   "metadata": {
    "colab": {
     "base_uri": "https://localhost:8080/"
    },
    "executionInfo": {
     "elapsed": 8,
     "status": "ok",
     "timestamp": 1651020324079,
     "user": {
      "displayName": "Dimitry Kirtsman",
      "userId": "11988189828040272864"
     },
     "user_tz": 420
    },
    "id": "tkVWQ1n2Hgh6",
    "outputId": "3dbaa339-a41b-4245-b80c-6888fbcf30a1"
   },
   "outputs": [
    {
     "name": "stdout",
     "output_type": "stream",
     "text": [
      "(45000, 32, 32, 3) (5000, 32, 32, 3) (10000, 32, 32, 3)\n"
     ]
    }
   ],
   "source": [
    "#looking at train, validation and test set shapes\n",
    "print(x_train_split.shape, x_valid_split.shape, x_test.shape)"
   ]
  },
  {
   "cell_type": "code",
   "execution_count": 14,
   "metadata": {
    "executionInfo": {
     "elapsed": 361,
     "status": "ok",
     "timestamp": 1651020324435,
     "user": {
      "displayName": "Dimitry Kirtsman",
      "userId": "11988189828040272864"
     },
     "user_tz": 420
    },
    "id": "NX3BpfQWJRFo"
   },
   "outputs": [],
   "source": [
    "#scaling the train, validation and test sets by 255. Equivelant to min_max scaling\n",
    "\n",
    "x_train_norm = x_train_split/255\n",
    "x_valid_norm = x_valid_split/255\n",
    "x_test_norm = x_test/255"
   ]
  },
  {
   "cell_type": "code",
   "execution_count": 14,
   "metadata": {
    "executionInfo": {
     "elapsed": 8,
     "status": "ok",
     "timestamp": 1651020324435,
     "user": {
      "displayName": "Dimitry Kirtsman",
      "userId": "11988189828040272864"
     },
     "user_tz": 420
    },
    "id": "M8xGmK_GJRII"
   },
   "outputs": [],
   "source": []
  },
  {
   "cell_type": "markdown",
   "metadata": {
    "id": "5rRVNorpKQnM"
   },
   "source": [
    "# Helpful Model Fitting and Results Functions"
   ]
  },
  {
   "cell_type": "code",
   "execution_count": 14,
   "metadata": {
    "executionInfo": {
     "elapsed": 7,
     "status": "ok",
     "timestamp": 1651020324436,
     "user": {
      "displayName": "Dimitry Kirtsman",
      "userId": "11988189828040272864"
     },
     "user_tz": 420
    },
    "id": "AdR4YftkX8fQ"
   },
   "outputs": [],
   "source": []
  },
  {
   "cell_type": "code",
   "execution_count": 15,
   "metadata": {
    "executionInfo": {
     "elapsed": 7,
     "status": "ok",
     "timestamp": 1651020324436,
     "user": {
      "displayName": "Dimitry Kirtsman",
      "userId": "11988189828040272864"
     },
     "user_tz": 420
    },
    "id": "3LrzjRnrX8iX"
   },
   "outputs": [],
   "source": [
    "#creating callback class to get the amount of seconds each epoch takes. Code from:\n",
    "#https://stackoverflow.com/questions/43178668/record-the-computation-time-for-each-epoch-in-keras-during-model-fit\n",
    "\n",
    "class EpochTimeHistory(keras.callbacks.Callback):\n",
    "    def on_train_begin(self, logs={}):\n",
    "        self.times = []\n",
    "\n",
    "    def on_epoch_begin(self, batch, logs={}):\n",
    "        self.epoch_time_start = time.time()\n",
    "\n",
    "    def on_epoch_end(self, batch, logs={}):\n",
    "        self.times.append(time.time() - self.epoch_time_start)\n"
   ]
  },
  {
   "cell_type": "code",
   "execution_count": 16,
   "metadata": {
    "executionInfo": {
     "elapsed": 6,
     "status": "ok",
     "timestamp": 1651020324436,
     "user": {
      "displayName": "Dimitry Kirtsman",
      "userId": "11988189828040272864"
     },
     "user_tz": 420
    },
    "id": "s-_zrfnNKYG6"
   },
   "outputs": [],
   "source": [
    "def compile_train_model(model, x_train, y_train, x_valid, y_valid, model_num, epochs=100, patience=3):\n",
    "    timestamp=int(time.time())\n",
    "    epoch_times=EpochTimeHistory()\n",
    "  \n",
    "    # Compile\n",
    "    model.compile(optimizer='adam',\n",
    "                loss = 'SparseCategoricalCrossentropy',\n",
    "                metrics=['accuracy'])\n",
    "\n",
    "  # Train\n",
    "    start_time = time.time()\n",
    "    history = model.fit(\n",
    "      x_train,\n",
    "      y_train,\n",
    "      epochs=epochs,\n",
    "      batch_size=512,\n",
    "      validation_data=(x_valid, y_valid),\n",
    "      verbose=1,\n",
    "      callbacks=[    \n",
    "          EarlyStopping(monitor='val_accuracy', patience=patience, restore_best_weights=True, verbose=2),\n",
    "          \n",
    "        epoch_times]\n",
    "       )\n",
    "    end_time = time.time()\n",
    "    second_elapsed = round(end_time - start_time)\n",
    "    epoch_times_values =epoch_times.times\n",
    "    print(\"\\n\")\n",
    "    print(f'Finished model training in {second_elapsed}s')\n",
    "    print(f'Average time to run each epoch is: {  np.round(np.mean(epoch_times.times[1:-1]),4) }') \n",
    "                                                                        \n",
    "  \n",
    "\n",
    "    return history, model"
   ]
  },
  {
   "cell_type": "code",
   "execution_count": 17,
   "metadata": {
    "executionInfo": {
     "elapsed": 6,
     "status": "ok",
     "timestamp": 1651020324436,
     "user": {
      "displayName": "Dimitry Kirtsman",
      "userId": "11988189828040272864"
     },
     "user_tz": 420
    },
    "id": "dGVokoYVKYJi"
   },
   "outputs": [],
   "source": [
    "#Classificatin report function\n",
    "def print_validation_report(test_labels, predictions):\n",
    "    print(\"Classification Report\")\n",
    "    print(classification_report(test_labels, predictions))\n",
    "    print('Accuracy Score: {}'.format(accuracy_score(test_labels, predictions)))\n",
    "    print('Root Mean Square Error: {}'.format(np.sqrt(MSE(test_labels, predictions))))#included per class instruction "
   ]
  },
  {
   "cell_type": "code",
   "execution_count": 17,
   "metadata": {
    "executionInfo": {
     "elapsed": 6,
     "status": "ok",
     "timestamp": 1651020324436,
     "user": {
      "displayName": "Dimitry Kirtsman",
      "userId": "11988189828040272864"
     },
     "user_tz": 420
    },
    "id": "LCySGp9FKYOi"
   },
   "outputs": [],
   "source": []
  },
  {
   "cell_type": "code",
   "execution_count": 18,
   "metadata": {
    "executionInfo": {
     "elapsed": 5,
     "status": "ok",
     "timestamp": 1651020324436,
     "user": {
      "displayName": "Dimitry Kirtsman",
      "userId": "11988189828040272864"
     },
     "user_tz": 420
    },
    "id": "lQhqv0DaKYR6"
   },
   "outputs": [],
   "source": [
    "#function to print out training and validation set loss and accuracy values of the best model\n",
    "def loss_accuracy_values(model_history, model_num, epochs, patience=3):  \n",
    "  if len(model_history.history[\"val_loss\"])==epochs:\n",
    "      print(\"Model Experiment {} Training Loss: \".format(model_num),np.round(model_history.history[\"loss\"][-1],4))\n",
    "      print(\"Model Experiment {} Training Accuracy: \".format(model_num),np.round(model_history.history[\"accuracy\"][-1],4))\n",
    "      print(\"Model Experiment {}  Validation Loss: \".format(model_num),np.round(model_history.history[\"val_loss\"][-1],4))\n",
    "      print(\"Model Experiment {}  Validation Accuracy: \".format(model_num),np.round(model_history.history[\"val_accuracy\"][-1],4))\n",
    "  else:\n",
    "      print(\"Model Experiment {}  Training Loss: \".format(model_num),np.round(model_history.history[\"loss\"][-(1+patience)],4))\n",
    "      print(\"Model Experiment {}  Training Accuracy: \".format(model_num),np.round(model_history.history[\"accuracy\"][-(1+patience)],4))\n",
    "      print(\"Model Experiment {}  Validation Loss: \".format(model_num), np.round(model_history.history[\"val_loss\"][-(1+patience)],4))\n",
    "      print(\"Model Experiment {}  Validation Accuracy:\".format(model_num), np.round(model_history.history[\"val_accuracy\"][-(1+patience)],4)) "
   ]
  },
  {
   "cell_type": "code",
   "execution_count": 19,
   "metadata": {
    "executionInfo": {
     "elapsed": 6,
     "status": "ok",
     "timestamp": 1651020324437,
     "user": {
      "displayName": "Dimitry Kirtsman",
      "userId": "11988189828040272864"
     },
     "user_tz": 420
    },
    "id": "QOaZ_ewHKYUq"
   },
   "outputs": [],
   "source": [
    "#creating function for charts of train vs validation accuracy and loss functions\n",
    "def train_val_accuracy_and_loss_charts(model_history, model_num):\n",
    "    model_df=pd.DataFrame(model_history.history)\n",
    "\n",
    "    model_df[[\"loss\",\"val_loss\"]].plot(figsize=(9,7))\n",
    "    plt.grid(True)\n",
    "    plt.title(\"Model Experiment {}: Train vs. Validation - Loss\".format(model_num), size =17)\n",
    "    plt.xlabel(\"Epochs\", size=15)\n",
    "\n",
    "    model_df[[\"accuracy\",\"val_accuracy\"]].plot(figsize=(9,7))\n",
    "    plt.grid(True)\n",
    "    plt.title(\"Model Experiment {}: Train vs. Validation - Accuracy\".format(model_num), size =17)\n",
    "    plt.xlabel(\"Epochs\", size=15)\n",
    "\n",
    "    plt.show()    "
   ]
  },
  {
   "cell_type": "code",
   "execution_count": 20,
   "metadata": {
    "executionInfo": {
     "elapsed": 6,
     "status": "ok",
     "timestamp": 1651020324437,
     "user": {
      "displayName": "Dimitry Kirtsman",
      "userId": "11988189828040272864"
     },
     "user_tz": 420
    },
    "id": "HOatJjgzPYol"
   },
   "outputs": [],
   "source": [
    "# Function for creating multi-class confusion matrix\n",
    "\n",
    "#class names for confusion matrix\n",
    "class_names = ['airplane'\n",
    ",'automobile'\n",
    ",'bird'\n",
    ",'cat'\n",
    ",'deer'\n",
    ",'dog'\n",
    ",'frog' \n",
    ",'horse'\n",
    ",'ship'\n",
    ",'truck']\n",
    "\n",
    "\n",
    "\n",
    "def confusion_matrix_multi_class(model_for_matrix,test_set, actual_test_labels, model_num):\n",
    "    #predicting test set with model for confusion matrix and setting as sparse with argmax\n",
    "    confusion_matrix_predictions=model_for_matrix.predict(test_set).argmax(axis=1)\n",
    "\n",
    "\n",
    "\n",
    "    #creating confusion matrix - using test set labels as they were already sparse before one-hot encoding\n",
    "    confusion_matrix_for_model = confusion_matrix( actual_test_labels ,  confusion_matrix_predictions)\n",
    "\n",
    "\n",
    "    confusion_matrix_df = pd.DataFrame(confusion_matrix_for_model,\n",
    "                     #index = [0,1,2,3,4,5,6,7,8,9], \n",
    "                     #columns = [0,1,2,3,4,5,6,7,8,9]\n",
    "                     index=class_names,\n",
    "                     columns=class_names)\n",
    "\n",
    "    #Plotting the confusion matrix\n",
    "    plt.figure(figsize=(10,8))\n",
    "    sns.heatmap(confusion_matrix_df, annot=True, fmt=\"d\", cmap=\"rocket_r\")\n",
    "    plt.title('Confusion Matrix - Model Experiment {}'.format(model_num), size=17)\n",
    "    plt.ylabel('Actual Labels', size=15)\n",
    "    plt.xlabel('Predicted Labels',size=15)\n",
    "    plt.xticks(fontsize=15)\n",
    "    plt.yticks(fontsize=15)\n",
    "    plt.show()"
   ]
  },
  {
   "cell_type": "code",
   "execution_count": 20,
   "metadata": {
    "executionInfo": {
     "elapsed": 6,
     "status": "ok",
     "timestamp": 1651020324437,
     "user": {
      "displayName": "Dimitry Kirtsman",
      "userId": "11988189828040272864"
     },
     "user_tz": 420
    },
    "id": "XCWwT6IHPYzD"
   },
   "outputs": [],
   "source": []
  },
  {
   "cell_type": "markdown",
   "metadata": {
    "id": "z2Y8CynIXzYI"
   },
   "source": [
    "# Experiment 5a_1 - ANN with 2 Dense Hidden Layer and Dropout"
   ]
  },
  {
   "cell_type": "code",
   "execution_count": 20,
   "metadata": {
    "executionInfo": {
     "elapsed": 5,
     "status": "ok",
     "timestamp": 1651020324437,
     "user": {
      "displayName": "Dimitry Kirtsman",
      "userId": "11988189828040272864"
     },
     "user_tz": 420
    },
    "id": "bJqdHgwhXyQi"
   },
   "outputs": [],
   "source": []
  },
  {
   "cell_type": "code",
   "execution_count": 21,
   "metadata": {
    "executionInfo": {
     "elapsed": 5,
     "status": "ok",
     "timestamp": 1651020324437,
     "user": {
      "displayName": "Dimitry Kirtsman",
      "userId": "11988189828040272864"
     },
     "user_tz": 420
    },
    "id": "7Ebw6UuqKYXF"
   },
   "outputs": [],
   "source": [
    "#Experiment 5a_1 model\n",
    "def create_model_exp_5a_1():\n",
    "    model = Sequential()\n",
    "    model.add(Flatten(input_shape=(32,32,3)))\n",
    "    model.add(Dense(128, activation=\"relu\"))\n",
    "    model.add(Dropout(0.30))\n",
    "    model.add(Dense(128, activation=\"relu\"))\n",
    "    model.add(Dropout(0.30))\n",
    "    model.add(Dense(10, activation = \"softmax\"))\n",
    "    return model\n"
   ]
  },
  {
   "cell_type": "code",
   "execution_count": 22,
   "metadata": {
    "colab": {
     "base_uri": "https://localhost:8080/"
    },
    "executionInfo": {
     "elapsed": 154,
     "status": "ok",
     "timestamp": 1651020324586,
     "user": {
      "displayName": "Dimitry Kirtsman",
      "userId": "11988189828040272864"
     },
     "user_tz": 420
    },
    "id": "yyNWMDL_n4O3",
    "outputId": "e5a69653-b546-4a5f-9e4d-eb2403a2db92"
   },
   "outputs": [
    {
     "name": "stdout",
     "output_type": "stream",
     "text": [
      "INFO:tensorflow:Found TPU system:\n"
     ]
    },
    {
     "name": "stderr",
     "output_type": "stream",
     "text": [
      "INFO:tensorflow:Found TPU system:\n"
     ]
    },
    {
     "name": "stdout",
     "output_type": "stream",
     "text": [
      "INFO:tensorflow:*** Num TPU Cores: 8\n"
     ]
    },
    {
     "name": "stderr",
     "output_type": "stream",
     "text": [
      "INFO:tensorflow:*** Num TPU Cores: 8\n"
     ]
    },
    {
     "name": "stdout",
     "output_type": "stream",
     "text": [
      "INFO:tensorflow:*** Num TPU Workers: 1\n"
     ]
    },
    {
     "name": "stderr",
     "output_type": "stream",
     "text": [
      "INFO:tensorflow:*** Num TPU Workers: 1\n"
     ]
    },
    {
     "name": "stdout",
     "output_type": "stream",
     "text": [
      "INFO:tensorflow:*** Num TPU Cores Per Worker: 8\n"
     ]
    },
    {
     "name": "stderr",
     "output_type": "stream",
     "text": [
      "INFO:tensorflow:*** Num TPU Cores Per Worker: 8\n"
     ]
    },
    {
     "name": "stdout",
     "output_type": "stream",
     "text": [
      "INFO:tensorflow:*** Available Device: _DeviceAttributes(/job:localhost/replica:0/task:0/device:CPU:0, CPU, 0, 0)\n"
     ]
    },
    {
     "name": "stderr",
     "output_type": "stream",
     "text": [
      "INFO:tensorflow:*** Available Device: _DeviceAttributes(/job:localhost/replica:0/task:0/device:CPU:0, CPU, 0, 0)\n"
     ]
    },
    {
     "name": "stdout",
     "output_type": "stream",
     "text": [
      "INFO:tensorflow:*** Available Device: _DeviceAttributes(/job:worker/replica:0/task:0/device:CPU:0, CPU, 0, 0)\n"
     ]
    },
    {
     "name": "stderr",
     "output_type": "stream",
     "text": [
      "INFO:tensorflow:*** Available Device: _DeviceAttributes(/job:worker/replica:0/task:0/device:CPU:0, CPU, 0, 0)\n"
     ]
    },
    {
     "name": "stdout",
     "output_type": "stream",
     "text": [
      "INFO:tensorflow:*** Available Device: _DeviceAttributes(/job:worker/replica:0/task:0/device:TPU:0, TPU, 0, 0)\n"
     ]
    },
    {
     "name": "stderr",
     "output_type": "stream",
     "text": [
      "INFO:tensorflow:*** Available Device: _DeviceAttributes(/job:worker/replica:0/task:0/device:TPU:0, TPU, 0, 0)\n"
     ]
    },
    {
     "name": "stdout",
     "output_type": "stream",
     "text": [
      "INFO:tensorflow:*** Available Device: _DeviceAttributes(/job:worker/replica:0/task:0/device:TPU:1, TPU, 0, 0)\n"
     ]
    },
    {
     "name": "stderr",
     "output_type": "stream",
     "text": [
      "INFO:tensorflow:*** Available Device: _DeviceAttributes(/job:worker/replica:0/task:0/device:TPU:1, TPU, 0, 0)\n"
     ]
    },
    {
     "name": "stdout",
     "output_type": "stream",
     "text": [
      "INFO:tensorflow:*** Available Device: _DeviceAttributes(/job:worker/replica:0/task:0/device:TPU:2, TPU, 0, 0)\n"
     ]
    },
    {
     "name": "stderr",
     "output_type": "stream",
     "text": [
      "INFO:tensorflow:*** Available Device: _DeviceAttributes(/job:worker/replica:0/task:0/device:TPU:2, TPU, 0, 0)\n"
     ]
    },
    {
     "name": "stdout",
     "output_type": "stream",
     "text": [
      "INFO:tensorflow:*** Available Device: _DeviceAttributes(/job:worker/replica:0/task:0/device:TPU:3, TPU, 0, 0)\n"
     ]
    },
    {
     "name": "stderr",
     "output_type": "stream",
     "text": [
      "INFO:tensorflow:*** Available Device: _DeviceAttributes(/job:worker/replica:0/task:0/device:TPU:3, TPU, 0, 0)\n"
     ]
    },
    {
     "name": "stdout",
     "output_type": "stream",
     "text": [
      "INFO:tensorflow:*** Available Device: _DeviceAttributes(/job:worker/replica:0/task:0/device:TPU:4, TPU, 0, 0)\n"
     ]
    },
    {
     "name": "stderr",
     "output_type": "stream",
     "text": [
      "INFO:tensorflow:*** Available Device: _DeviceAttributes(/job:worker/replica:0/task:0/device:TPU:4, TPU, 0, 0)\n"
     ]
    },
    {
     "name": "stdout",
     "output_type": "stream",
     "text": [
      "INFO:tensorflow:*** Available Device: _DeviceAttributes(/job:worker/replica:0/task:0/device:TPU:5, TPU, 0, 0)\n"
     ]
    },
    {
     "name": "stderr",
     "output_type": "stream",
     "text": [
      "INFO:tensorflow:*** Available Device: _DeviceAttributes(/job:worker/replica:0/task:0/device:TPU:5, TPU, 0, 0)\n"
     ]
    },
    {
     "name": "stdout",
     "output_type": "stream",
     "text": [
      "INFO:tensorflow:*** Available Device: _DeviceAttributes(/job:worker/replica:0/task:0/device:TPU:6, TPU, 0, 0)\n"
     ]
    },
    {
     "name": "stderr",
     "output_type": "stream",
     "text": [
      "INFO:tensorflow:*** Available Device: _DeviceAttributes(/job:worker/replica:0/task:0/device:TPU:6, TPU, 0, 0)\n"
     ]
    },
    {
     "name": "stdout",
     "output_type": "stream",
     "text": [
      "INFO:tensorflow:*** Available Device: _DeviceAttributes(/job:worker/replica:0/task:0/device:TPU:7, TPU, 0, 0)\n"
     ]
    },
    {
     "name": "stderr",
     "output_type": "stream",
     "text": [
      "INFO:tensorflow:*** Available Device: _DeviceAttributes(/job:worker/replica:0/task:0/device:TPU:7, TPU, 0, 0)\n"
     ]
    },
    {
     "name": "stdout",
     "output_type": "stream",
     "text": [
      "INFO:tensorflow:*** Available Device: _DeviceAttributes(/job:worker/replica:0/task:0/device:TPU_SYSTEM:0, TPU_SYSTEM, 0, 0)\n"
     ]
    },
    {
     "name": "stderr",
     "output_type": "stream",
     "text": [
      "INFO:tensorflow:*** Available Device: _DeviceAttributes(/job:worker/replica:0/task:0/device:TPU_SYSTEM:0, TPU_SYSTEM, 0, 0)\n"
     ]
    },
    {
     "name": "stdout",
     "output_type": "stream",
     "text": [
      "INFO:tensorflow:*** Available Device: _DeviceAttributes(/job:worker/replica:0/task:0/device:XLA_CPU:0, XLA_CPU, 0, 0)\n"
     ]
    },
    {
     "name": "stderr",
     "output_type": "stream",
     "text": [
      "INFO:tensorflow:*** Available Device: _DeviceAttributes(/job:worker/replica:0/task:0/device:XLA_CPU:0, XLA_CPU, 0, 0)\n"
     ]
    }
   ],
   "source": [
    "#TPU Strategy\n",
    "strategy_exp_5a_1  = tf.distribute.TPUStrategy(tpu) "
   ]
  },
  {
   "cell_type": "code",
   "execution_count": 23,
   "metadata": {
    "colab": {
     "base_uri": "https://localhost:8080/"
    },
    "executionInfo": {
     "elapsed": 137,
     "status": "ok",
     "timestamp": 1651020324722,
     "user": {
      "displayName": "Dimitry Kirtsman",
      "userId": "11988189828040272864"
     },
     "user_tz": 420
    },
    "id": "sKVwYvVZn4bF",
    "outputId": "e8fb4b78-9646-4ac5-d652-486d0444a8a0"
   },
   "outputs": [
    {
     "name": "stdout",
     "output_type": "stream",
     "text": [
      "Model: \"sequential\"\n",
      "_________________________________________________________________\n",
      " Layer (type)                Output Shape              Param #   \n",
      "=================================================================\n",
      " flatten (Flatten)           (None, 3072)              0         \n",
      "                                                                 \n",
      " dense (Dense)               (None, 128)               393344    \n",
      "                                                                 \n",
      " dropout (Dropout)           (None, 128)               0         \n",
      "                                                                 \n",
      " dense_1 (Dense)             (None, 128)               16512     \n",
      "                                                                 \n",
      " dropout_1 (Dropout)         (None, 128)               0         \n",
      "                                                                 \n",
      " dense_2 (Dense)             (None, 10)                1290      \n",
      "                                                                 \n",
      "=================================================================\n",
      "Total params: 411,146\n",
      "Trainable params: 411,146\n",
      "Non-trainable params: 0\n",
      "_________________________________________________________________\n"
     ]
    }
   ],
   "source": [
    "#assigning model to TPU strategy\n",
    "with strategy_exp_5a_1.scope():\n",
    "    model_exp_5a_1 = create_model_exp_5a_1()\n",
    "\n",
    "model_exp_5a_1.summary()"
   ]
  },
  {
   "cell_type": "code",
   "execution_count": 24,
   "metadata": {
    "colab": {
     "base_uri": "https://localhost:8080/"
    },
    "executionInfo": {
     "elapsed": 56733,
     "status": "ok",
     "timestamp": 1651020381454,
     "user": {
      "displayName": "Dimitry Kirtsman",
      "userId": "11988189828040272864"
     },
     "user_tz": 420
    },
    "id": "gpver6ArKYae",
    "outputId": "2d91b78d-48b8-49ff-a526-d11be22a9a6c"
   },
   "outputs": [
    {
     "name": "stdout",
     "output_type": "stream",
     "text": [
      "Epoch 1/100\n",
      " 4/88 [>.............................] - ETA: 1s - loss: 2.5622 - accuracy: 0.1123  WARNING:tensorflow:Callback method `on_train_batch_end` is slow compared to the batch time (batch time: 0.0013s vs `on_train_batch_end` time: 0.1917s). Check your callbacks.\n"
     ]
    },
    {
     "name": "stderr",
     "output_type": "stream",
     "text": [
      "WARNING:tensorflow:Callback method `on_train_batch_end` is slow compared to the batch time (batch time: 0.0013s vs `on_train_batch_end` time: 0.1917s). Check your callbacks.\n"
     ]
    },
    {
     "name": "stdout",
     "output_type": "stream",
     "text": [
      "88/88 [==============================] - 8s 57ms/step - loss: 2.1563 - accuracy: 0.1905 - val_loss: 1.9787 - val_accuracy: 0.2998\n",
      "Epoch 2/100\n",
      "88/88 [==============================] - 2s 22ms/step - loss: 2.0001 - accuracy: 0.2648 - val_loss: 1.9110 - val_accuracy: 0.3254\n",
      "Epoch 3/100\n",
      "88/88 [==============================] - 2s 22ms/step - loss: 1.9396 - accuracy: 0.2939 - val_loss: 1.8484 - val_accuracy: 0.3432\n",
      "Epoch 4/100\n",
      "88/88 [==============================] - 2s 22ms/step - loss: 1.9099 - accuracy: 0.3000 - val_loss: 1.8337 - val_accuracy: 0.3602\n",
      "Epoch 5/100\n",
      "88/88 [==============================] - 2s 23ms/step - loss: 1.8816 - accuracy: 0.3105 - val_loss: 1.7850 - val_accuracy: 0.3678\n",
      "Epoch 6/100\n",
      "88/88 [==============================] - 2s 22ms/step - loss: 1.8679 - accuracy: 0.3168 - val_loss: 1.7782 - val_accuracy: 0.3704\n",
      "Epoch 7/100\n",
      "88/88 [==============================] - 2s 23ms/step - loss: 1.8496 - accuracy: 0.3254 - val_loss: 1.7775 - val_accuracy: 0.3684\n",
      "Epoch 8/100\n",
      "88/88 [==============================] - 2s 23ms/step - loss: 1.8404 - accuracy: 0.3289 - val_loss: 1.7557 - val_accuracy: 0.3816\n",
      "Epoch 9/100\n",
      "88/88 [==============================] - 2s 23ms/step - loss: 1.8312 - accuracy: 0.3292 - val_loss: 1.7580 - val_accuracy: 0.3858\n",
      "Epoch 10/100\n",
      "88/88 [==============================] - 2s 22ms/step - loss: 1.8311 - accuracy: 0.3337 - val_loss: 1.7720 - val_accuracy: 0.3776\n",
      "Epoch 11/100\n",
      "88/88 [==============================] - 2s 23ms/step - loss: 1.8141 - accuracy: 0.3364 - val_loss: 1.7476 - val_accuracy: 0.3896\n",
      "Epoch 12/100\n",
      "88/88 [==============================] - 2s 23ms/step - loss: 1.8103 - accuracy: 0.3399 - val_loss: 1.7406 - val_accuracy: 0.3844\n",
      "Epoch 13/100\n",
      "88/88 [==============================] - 2s 23ms/step - loss: 1.8048 - accuracy: 0.3419 - val_loss: 1.7404 - val_accuracy: 0.3880\n",
      "Epoch 14/100\n",
      "88/88 [==============================] - 2s 23ms/step - loss: 1.8019 - accuracy: 0.3413 - val_loss: 1.7317 - val_accuracy: 0.3904\n",
      "Epoch 15/100\n",
      "88/88 [==============================] - 2s 22ms/step - loss: 1.7962 - accuracy: 0.3446 - val_loss: 1.7383 - val_accuracy: 0.3890\n",
      "Epoch 16/100\n",
      "88/88 [==============================] - 2s 23ms/step - loss: 1.8034 - accuracy: 0.3420 - val_loss: 1.7477 - val_accuracy: 0.3880\n",
      "Epoch 17/100\n",
      "88/88 [==============================] - 2s 22ms/step - loss: 1.7835 - accuracy: 0.3520 - val_loss: 1.7358 - val_accuracy: 0.3946\n",
      "Epoch 18/100\n",
      "88/88 [==============================] - 2s 22ms/step - loss: 1.7788 - accuracy: 0.3525 - val_loss: 1.7291 - val_accuracy: 0.3988\n",
      "Epoch 19/100\n",
      "88/88 [==============================] - 2s 22ms/step - loss: 1.7812 - accuracy: 0.3508 - val_loss: 1.7407 - val_accuracy: 0.3882\n",
      "Epoch 20/100\n",
      "88/88 [==============================] - 2s 22ms/step - loss: 1.7718 - accuracy: 0.3553 - val_loss: 1.7338 - val_accuracy: 0.3928\n",
      "Epoch 21/100\n",
      "87/88 [============================>.] - ETA: 0s - loss: 1.7756 - accuracy: 0.3508Restoring model weights from the end of the best epoch: 18.\n",
      "88/88 [==============================] - 2s 22ms/step - loss: 1.7756 - accuracy: 0.3508 - val_loss: 1.7175 - val_accuracy: 0.3946\n",
      "Epoch 21: early stopping\n",
      "\n",
      "\n",
      "Finished model training in 57s\n",
      "Average time to run each epoch is: 2.0009\n"
     ]
    }
   ],
   "source": [
    "# Compile and train\n",
    "epochs=100\n",
    "patience=3\n",
    "model_number=\"5a_1\"\n",
    "history_exp_5a_1, model_exp_5a_1 = compile_train_model(model_exp_5a_1,\n",
    "                                     x_train_norm, y_train_split,\n",
    "                                     x_valid_norm, y_valid_split, model_number, epochs\n",
    "                                    )"
   ]
  },
  {
   "cell_type": "code",
   "execution_count": 25,
   "metadata": {
    "colab": {
     "base_uri": "https://localhost:8080/"
    },
    "executionInfo": {
     "elapsed": 17,
     "status": "ok",
     "timestamp": 1651020381454,
     "user": {
      "displayName": "Dimitry Kirtsman",
      "userId": "11988189828040272864"
     },
     "user_tz": 420
    },
    "id": "6FVsu963KYcr",
    "outputId": "a55cfe4a-8110-43de-bed3-2accb747b473"
   },
   "outputs": [
    {
     "name": "stdout",
     "output_type": "stream",
     "text": [
      "Model Experiment 5a_1  Training Loss:  1.7788\n",
      "Model Experiment 5a_1  Training Accuracy:  0.3525\n",
      "Model Experiment 5a_1  Validation Loss:  1.7291\n",
      "Model Experiment 5a_1  Validation Accuracy: 0.3988\n"
     ]
    }
   ],
   "source": [
    "#printing train and validation loss and accuracy for the model\n",
    "\n",
    "loss_accuracy_values(history_exp_5a_1, model_number, epochs, patience=patience)"
   ]
  },
  {
   "cell_type": "code",
   "execution_count": 26,
   "metadata": {
    "colab": {
     "base_uri": "https://localhost:8080/",
     "height": 916
    },
    "executionInfo": {
     "elapsed": 374,
     "status": "ok",
     "timestamp": 1651020381826,
     "user": {
      "displayName": "Dimitry Kirtsman",
      "userId": "11988189828040272864"
     },
     "user_tz": 420
    },
    "id": "nhjX3rzz2JHY",
    "outputId": "10884114-e419-47a9-8c1a-7c03bd8e70b6"
   },
   "outputs": [
    {
     "data": {
      "image/png": "[encoded data removed]",
      "text/plain": [
       "<Figure size 648x504 with 1 Axes>"
      ]
     },
     "metadata": {
      "needs_background": "light"
     },
     "output_type": "display_data"
    },
    {
     "data": {
      "image/png": "[encoded data removed]",
      "text/plain": [
       "<Figure size 648x504 with 1 Axes>"
      ]
     },
     "metadata": {
      "needs_background": "light"
     },
     "output_type": "display_data"
    }
   ],
   "source": [
    "#printing charts of  train vs validation accuracy and loss functions\n",
    "\n",
    "train_val_accuracy_and_loss_charts(history_exp_5a_1, model_number)"
   ]
  },
  {
   "cell_type": "code",
   "execution_count": 27,
   "metadata": {
    "colab": {
     "base_uri": "https://localhost:8080/"
    },
    "executionInfo": {
     "elapsed": 5862,
     "status": "ok",
     "timestamp": 1651020387684,
     "user": {
      "displayName": "Dimitry Kirtsman",
      "userId": "11988189828040272864"
     },
     "user_tz": 420
    },
    "id": "GMnocJCIWlHq",
    "outputId": "6a9e929f-d232-46e8-f193-f1eb318e3b2e"
   },
   "outputs": [
    {
     "name": "stdout",
     "output_type": "stream",
     "text": [
      "Classification Report\n",
      "              precision    recall  f1-score   support\n",
      "\n",
      "           0       0.47      0.47      0.47      1000\n",
      "           1       0.59      0.44      0.50      1000\n",
      "           2       0.24      0.17      0.20      1000\n",
      "           3       0.29      0.16      0.21      1000\n",
      "           4       0.32      0.34      0.33      1000\n",
      "           5       0.40      0.30      0.34      1000\n",
      "           6       0.35      0.63      0.45      1000\n",
      "           7       0.47      0.45      0.46      1000\n",
      "           8       0.50      0.46      0.48      1000\n",
      "           9       0.40      0.62      0.49      1000\n",
      "\n",
      "    accuracy                           0.40     10000\n",
      "   macro avg       0.40      0.40      0.39     10000\n",
      "weighted avg       0.40      0.40      0.39     10000\n",
      "\n",
      "Accuracy Score: 0.4039\n",
      "Root Mean Square Error: 3.401646660075088\n"
     ]
    }
   ],
   "source": [
    "#creating  classification report\n",
    "\n",
    "#getting predictions\n",
    "\n",
    "model_exp_5a_1_predictions=model_exp_5a_1.predict(x_test_norm).argmax(axis=1)\n",
    "print_validation_report(test_labels, model_exp_5a_1_predictions)"
   ]
  },
  {
   "cell_type": "code",
   "execution_count": 28,
   "metadata": {
    "colab": {
     "base_uri": "https://localhost:8080/",
     "height": 596
    },
    "executionInfo": {
     "elapsed": 4653,
     "status": "ok",
     "timestamp": 1651020392330,
     "user": {
      "displayName": "Dimitry Kirtsman",
      "userId": "11988189828040272864"
     },
     "user_tz": 420
    },
    "id": "Q-eQjhuyKYgC",
    "outputId": "65007bc0-7772-401f-c1d1-0595ba11416b"
   },
   "outputs": [
    {
     "data": {
      "image/png": "[encoded data removed]",
      "text/plain": [
       "<Figure size 720x576 with 2 Axes>"
      ]
     },
     "metadata": {
      "needs_background": "light"
     },
     "output_type": "display_data"
    }
   ],
   "source": [
    "#printing out confusion matrix\n",
    "confusion_matrix_multi_class(model_exp_5a_1, x_test_norm, y_test, model_number)"
   ]
  },
  {
   "cell_type": "code",
   "execution_count": 28,
   "metadata": {
    "executionInfo": {
     "elapsed": 15,
     "status": "ok",
     "timestamp": 1651020392330,
     "user": {
      "displayName": "Dimitry Kirtsman",
      "userId": "11988189828040272864"
     },
     "user_tz": 420
    },
    "id": "Sie3-edXKYnx"
   },
   "outputs": [],
   "source": []
  },
  {
   "cell_type": "code",
   "execution_count": 28,
   "metadata": {
    "executionInfo": {
     "elapsed": 15,
     "status": "ok",
     "timestamp": 1651020392331,
     "user": {
      "displayName": "Dimitry Kirtsman",
      "userId": "11988189828040272864"
     },
     "user_tz": 420
    },
    "id": "fGd7eO1ZKYrK"
   },
   "outputs": [],
   "source": []
  },
  {
   "cell_type": "markdown",
   "metadata": {
    "id": "JhlAXR7VldKp"
   },
   "source": [
    "# Experiment 5a_2 - ANN with 3 Dense Hidden Layer with Dropout"
   ]
  },
  {
   "cell_type": "code",
   "execution_count": 28,
   "metadata": {
    "executionInfo": {
     "elapsed": 14,
     "status": "ok",
     "timestamp": 1651020392331,
     "user": {
      "displayName": "Dimitry Kirtsman",
      "userId": "11988189828040272864"
     },
     "user_tz": 420
    },
    "id": "M8SzFvmhk19D"
   },
   "outputs": [],
   "source": []
  },
  {
   "cell_type": "code",
   "execution_count": 41,
   "metadata": {
    "executionInfo": {
     "elapsed": 170,
     "status": "ok",
     "timestamp": 1651020443104,
     "user": {
      "displayName": "Dimitry Kirtsman",
      "userId": "11988189828040272864"
     },
     "user_tz": 420
    },
    "id": "6xlw9HnDlWFm"
   },
   "outputs": [],
   "source": [
    "#Experiment 5a_2 model\n",
    "def create_model_exp_5a_2():\n",
    "    model = Sequential() \n",
    "    model.add(Flatten(input_shape=(32,32,3)))\n",
    "    model.add(Dense(128, activation=\"relu\"))\n",
    "    model.add(Dropout(0.30))\n",
    "    model.add(Dense(128, activation=\"relu\"))\n",
    "    model.add(Dropout(0.30))\n",
    "    model.add(Dense(128, activation=\"relu\"))\n",
    "    model.add(Dropout(0.30))\n",
    "    model.add(Dense(10, activation = \"softmax\"))\n",
    "    return model\n",
    "\n"
   ]
  },
  {
   "cell_type": "code",
   "execution_count": 42,
   "metadata": {
    "colab": {
     "base_uri": "https://localhost:8080/"
    },
    "executionInfo": {
     "elapsed": 134,
     "status": "ok",
     "timestamp": 1651020444900,
     "user": {
      "displayName": "Dimitry Kirtsman",
      "userId": "11988189828040272864"
     },
     "user_tz": 420
    },
    "id": "bRqeiDsIrCk2",
    "outputId": "bd2c2668-3354-49c1-9dac-8ad4715a8bb3"
   },
   "outputs": [
    {
     "name": "stdout",
     "output_type": "stream",
     "text": [
      "INFO:tensorflow:Found TPU system:\n"
     ]
    },
    {
     "name": "stderr",
     "output_type": "stream",
     "text": [
      "INFO:tensorflow:Found TPU system:\n"
     ]
    },
    {
     "name": "stdout",
     "output_type": "stream",
     "text": [
      "INFO:tensorflow:*** Num TPU Cores: 8\n"
     ]
    },
    {
     "name": "stderr",
     "output_type": "stream",
     "text": [
      "INFO:tensorflow:*** Num TPU Cores: 8\n"
     ]
    },
    {
     "name": "stdout",
     "output_type": "stream",
     "text": [
      "INFO:tensorflow:*** Num TPU Workers: 1\n"
     ]
    },
    {
     "name": "stderr",
     "output_type": "stream",
     "text": [
      "INFO:tensorflow:*** Num TPU Workers: 1\n"
     ]
    },
    {
     "name": "stdout",
     "output_type": "stream",
     "text": [
      "INFO:tensorflow:*** Num TPU Cores Per Worker: 8\n"
     ]
    },
    {
     "name": "stderr",
     "output_type": "stream",
     "text": [
      "INFO:tensorflow:*** Num TPU Cores Per Worker: 8\n"
     ]
    },
    {
     "name": "stdout",
     "output_type": "stream",
     "text": [
      "INFO:tensorflow:*** Available Device: _DeviceAttributes(/job:localhost/replica:0/task:0/device:CPU:0, CPU, 0, 0)\n"
     ]
    },
    {
     "name": "stderr",
     "output_type": "stream",
     "text": [
      "INFO:tensorflow:*** Available Device: _DeviceAttributes(/job:localhost/replica:0/task:0/device:CPU:0, CPU, 0, 0)\n"
     ]
    },
    {
     "name": "stdout",
     "output_type": "stream",
     "text": [
      "INFO:tensorflow:*** Available Device: _DeviceAttributes(/job:worker/replica:0/task:0/device:CPU:0, CPU, 0, 0)\n"
     ]
    },
    {
     "name": "stderr",
     "output_type": "stream",
     "text": [
      "INFO:tensorflow:*** Available Device: _DeviceAttributes(/job:worker/replica:0/task:0/device:CPU:0, CPU, 0, 0)\n"
     ]
    },
    {
     "name": "stdout",
     "output_type": "stream",
     "text": [
      "INFO:tensorflow:*** Available Device: _DeviceAttributes(/job:worker/replica:0/task:0/device:TPU:0, TPU, 0, 0)\n"
     ]
    },
    {
     "name": "stderr",
     "output_type": "stream",
     "text": [
      "INFO:tensorflow:*** Available Device: _DeviceAttributes(/job:worker/replica:0/task:0/device:TPU:0, TPU, 0, 0)\n"
     ]
    },
    {
     "name": "stdout",
     "output_type": "stream",
     "text": [
      "INFO:tensorflow:*** Available Device: _DeviceAttributes(/job:worker/replica:0/task:0/device:TPU:1, TPU, 0, 0)\n"
     ]
    },
    {
     "name": "stderr",
     "output_type": "stream",
     "text": [
      "INFO:tensorflow:*** Available Device: _DeviceAttributes(/job:worker/replica:0/task:0/device:TPU:1, TPU, 0, 0)\n"
     ]
    },
    {
     "name": "stdout",
     "output_type": "stream",
     "text": [
      "INFO:tensorflow:*** Available Device: _DeviceAttributes(/job:worker/replica:0/task:0/device:TPU:2, TPU, 0, 0)\n"
     ]
    },
    {
     "name": "stderr",
     "output_type": "stream",
     "text": [
      "INFO:tensorflow:*** Available Device: _DeviceAttributes(/job:worker/replica:0/task:0/device:TPU:2, TPU, 0, 0)\n"
     ]
    },
    {
     "name": "stdout",
     "output_type": "stream",
     "text": [
      "INFO:tensorflow:*** Available Device: _DeviceAttributes(/job:worker/replica:0/task:0/device:TPU:3, TPU, 0, 0)\n"
     ]
    },
    {
     "name": "stderr",
     "output_type": "stream",
     "text": [
      "INFO:tensorflow:*** Available Device: _DeviceAttributes(/job:worker/replica:0/task:0/device:TPU:3, TPU, 0, 0)\n"
     ]
    },
    {
     "name": "stdout",
     "output_type": "stream",
     "text": [
      "INFO:tensorflow:*** Available Device: _DeviceAttributes(/job:worker/replica:0/task:0/device:TPU:4, TPU, 0, 0)\n"
     ]
    },
    {
     "name": "stderr",
     "output_type": "stream",
     "text": [
      "INFO:tensorflow:*** Available Device: _DeviceAttributes(/job:worker/replica:0/task:0/device:TPU:4, TPU, 0, 0)\n"
     ]
    },
    {
     "name": "stdout",
     "output_type": "stream",
     "text": [
      "INFO:tensorflow:*** Available Device: _DeviceAttributes(/job:worker/replica:0/task:0/device:TPU:5, TPU, 0, 0)\n"
     ]
    },
    {
     "name": "stderr",
     "output_type": "stream",
     "text": [
      "INFO:tensorflow:*** Available Device: _DeviceAttributes(/job:worker/replica:0/task:0/device:TPU:5, TPU, 0, 0)\n"
     ]
    },
    {
     "name": "stdout",
     "output_type": "stream",
     "text": [
      "INFO:tensorflow:*** Available Device: _DeviceAttributes(/job:worker/replica:0/task:0/device:TPU:6, TPU, 0, 0)\n"
     ]
    },
    {
     "name": "stderr",
     "output_type": "stream",
     "text": [
      "INFO:tensorflow:*** Available Device: _DeviceAttributes(/job:worker/replica:0/task:0/device:TPU:6, TPU, 0, 0)\n"
     ]
    },
    {
     "name": "stdout",
     "output_type": "stream",
     "text": [
      "INFO:tensorflow:*** Available Device: _DeviceAttributes(/job:worker/replica:0/task:0/device:TPU:7, TPU, 0, 0)\n"
     ]
    },
    {
     "name": "stderr",
     "output_type": "stream",
     "text": [
      "INFO:tensorflow:*** Available Device: _DeviceAttributes(/job:worker/replica:0/task:0/device:TPU:7, TPU, 0, 0)\n"
     ]
    },
    {
     "name": "stdout",
     "output_type": "stream",
     "text": [
      "INFO:tensorflow:*** Available Device: _DeviceAttributes(/job:worker/replica:0/task:0/device:TPU_SYSTEM:0, TPU_SYSTEM, 0, 0)\n"
     ]
    },
    {
     "name": "stderr",
     "output_type": "stream",
     "text": [
      "INFO:tensorflow:*** Available Device: _DeviceAttributes(/job:worker/replica:0/task:0/device:TPU_SYSTEM:0, TPU_SYSTEM, 0, 0)\n"
     ]
    },
    {
     "name": "stdout",
     "output_type": "stream",
     "text": [
      "INFO:tensorflow:*** Available Device: _DeviceAttributes(/job:worker/replica:0/task:0/device:XLA_CPU:0, XLA_CPU, 0, 0)\n"
     ]
    },
    {
     "name": "stderr",
     "output_type": "stream",
     "text": [
      "INFO:tensorflow:*** Available Device: _DeviceAttributes(/job:worker/replica:0/task:0/device:XLA_CPU:0, XLA_CPU, 0, 0)\n"
     ]
    }
   ],
   "source": [
    "#TPU Strategy\n",
    "strategy_exp_5a_2  = tf.distribute.TPUStrategy(tpu) "
   ]
  },
  {
   "cell_type": "code",
   "execution_count": 43,
   "metadata": {
    "colab": {
     "base_uri": "https://localhost:8080/"
    },
    "executionInfo": {
     "elapsed": 279,
     "status": "ok",
     "timestamp": 1651020446813,
     "user": {
      "displayName": "Dimitry Kirtsman",
      "userId": "11988189828040272864"
     },
     "user_tz": 420
    },
    "id": "ZrA1QuSRrCnD",
    "outputId": "8d4f8e2f-e975-4414-b9aa-e0438f5e489d"
   },
   "outputs": [
    {
     "name": "stdout",
     "output_type": "stream",
     "text": [
      "Model: \"sequential_3\"\n",
      "_________________________________________________________________\n",
      " Layer (type)                Output Shape              Param #   \n",
      "=================================================================\n",
      " flatten_3 (Flatten)         (None, 3072)              0         \n",
      "                                                                 \n",
      " dense_9 (Dense)             (None, 128)               393344    \n",
      "                                                                 \n",
      " dropout_8 (Dropout)         (None, 128)               0         \n",
      "                                                                 \n",
      " dense_10 (Dense)            (None, 128)               16512     \n",
      "                                                                 \n",
      " dropout_9 (Dropout)         (None, 128)               0         \n",
      "                                                                 \n",
      " dense_11 (Dense)            (None, 128)               16512     \n",
      "                                                                 \n",
      " dropout_10 (Dropout)        (None, 128)               0         \n",
      "                                                                 \n",
      " dense_12 (Dense)            (None, 10)                1290      \n",
      "                                                                 \n",
      "=================================================================\n",
      "Total params: 427,658\n",
      "Trainable params: 427,658\n",
      "Non-trainable params: 0\n",
      "_________________________________________________________________\n"
     ]
    }
   ],
   "source": [
    "#assigning model to tpu strategy\n",
    "with strategy_exp_5a_2.scope():\n",
    "    model_exp_5a_2 = create_model_exp_5a_2()\n",
    "\n",
    "model_exp_5a_2.summary()"
   ]
  },
  {
   "cell_type": "code",
   "execution_count": 44,
   "metadata": {
    "colab": {
     "base_uri": "https://localhost:8080/"
    },
    "executionInfo": {
     "elapsed": 38946,
     "status": "ok",
     "timestamp": 1651020488832,
     "user": {
      "displayName": "Dimitry Kirtsman",
      "userId": "11988189828040272864"
     },
     "user_tz": 420
    },
    "id": "P5gUt6s3lWFq",
    "outputId": "3276d1ed-4e31-4833-bc6f-afffc789fdfb"
   },
   "outputs": [
    {
     "name": "stdout",
     "output_type": "stream",
     "text": [
      "Epoch 1/100\n",
      " 5/88 [>.............................] - ETA: 1s - loss: 2.4012 - accuracy: 0.1098  WARNING:tensorflow:Callback method `on_train_batch_end` is slow compared to the batch time (batch time: 0.0015s vs `on_train_batch_end` time: 0.1979s). Check your callbacks.\n"
     ]
    },
    {
     "name": "stderr",
     "output_type": "stream",
     "text": [
      "WARNING:tensorflow:Callback method `on_train_batch_end` is slow compared to the batch time (batch time: 0.0015s vs `on_train_batch_end` time: 0.1979s). Check your callbacks.\n"
     ]
    },
    {
     "name": "stdout",
     "output_type": "stream",
     "text": [
      "88/88 [==============================] - 8s 56ms/step - loss: 2.1372 - accuracy: 0.1914 - val_loss: 1.9511 - val_accuracy: 0.2986\n",
      "Epoch 2/100\n",
      "88/88 [==============================] - 2s 23ms/step - loss: 1.9707 - accuracy: 0.2686 - val_loss: 1.8654 - val_accuracy: 0.3334\n",
      "Epoch 3/100\n",
      "88/88 [==============================] - 2s 22ms/step - loss: 1.9179 - accuracy: 0.2927 - val_loss: 1.8165 - val_accuracy: 0.3418\n",
      "Epoch 4/100\n",
      "88/88 [==============================] - 2s 23ms/step - loss: 1.8901 - accuracy: 0.3054 - val_loss: 1.7898 - val_accuracy: 0.3696\n",
      "Epoch 5/100\n",
      "88/88 [==============================] - 2s 23ms/step - loss: 1.8661 - accuracy: 0.3162 - val_loss: 1.8142 - val_accuracy: 0.3542\n",
      "Epoch 6/100\n",
      "88/88 [==============================] - 2s 23ms/step - loss: 1.8581 - accuracy: 0.3175 - val_loss: 1.7414 - val_accuracy: 0.3806\n",
      "Epoch 7/100\n",
      "88/88 [==============================] - 2s 23ms/step - loss: 1.8354 - accuracy: 0.3279 - val_loss: 1.7715 - val_accuracy: 0.3808\n",
      "Epoch 8/100\n",
      "88/88 [==============================] - 2s 22ms/step - loss: 1.8290 - accuracy: 0.3325 - val_loss: 1.7582 - val_accuracy: 0.3732\n",
      "Epoch 9/100\n",
      "88/88 [==============================] - 2s 23ms/step - loss: 1.8219 - accuracy: 0.3330 - val_loss: 1.7588 - val_accuracy: 0.3868\n",
      "Epoch 10/100\n",
      "88/88 [==============================] - 2s 23ms/step - loss: 1.8145 - accuracy: 0.3362 - val_loss: 1.7544 - val_accuracy: 0.3862\n",
      "Epoch 11/100\n",
      "88/88 [==============================] - 2s 22ms/step - loss: 1.8064 - accuracy: 0.3401 - val_loss: 1.7487 - val_accuracy: 0.3784\n",
      "Epoch 12/100\n",
      "85/88 [===========================>..] - ETA: 0s - loss: 1.8006 - accuracy: 0.3428Restoring model weights from the end of the best epoch: 9.\n",
      "88/88 [==============================] - 2s 23ms/step - loss: 1.8002 - accuracy: 0.3431 - val_loss: 1.7283 - val_accuracy: 0.3838\n",
      "Epoch 12: early stopping\n",
      "\n",
      "\n",
      "Finished model training in 39s\n",
      "Average time to run each epoch is: 2.016\n"
     ]
    }
   ],
   "source": [
    "# Compile and train\n",
    "epochs=100\n",
    "patience=3\n",
    "model_number=\"5a_2\"\n",
    "history_exp_5a_2, model_exp_5a_2 = compile_train_model(model_exp_5a_2,\n",
    "                                     x_train_norm, y_train_split,\n",
    "                                     x_valid_norm, y_valid_split, model_number, epochs\n",
    "                                    )"
   ]
  },
  {
   "cell_type": "code",
   "execution_count": 44,
   "metadata": {
    "executionInfo": {
     "elapsed": 110,
     "status": "ok",
     "timestamp": 1651020494613,
     "user": {
      "displayName": "Dimitry Kirtsman",
      "userId": "11988189828040272864"
     },
     "user_tz": 420
    },
    "id": "cckBr0v5k2Kp"
   },
   "outputs": [],
   "source": []
  },
  {
   "cell_type": "code",
   "execution_count": 45,
   "metadata": {
    "colab": {
     "base_uri": "https://localhost:8080/"
    },
    "executionInfo": {
     "elapsed": 7,
     "status": "ok",
     "timestamp": 1651020494787,
     "user": {
      "displayName": "Dimitry Kirtsman",
      "userId": "11988189828040272864"
     },
     "user_tz": 420
    },
    "id": "GWXdbhpE5HQE",
    "outputId": "f362862c-f0a4-47c0-a9af-b980b1511452"
   },
   "outputs": [
    {
     "name": "stdout",
     "output_type": "stream",
     "text": [
      "Model Experiment 5a_2  Training Loss:  1.8219\n",
      "Model Experiment 5a_2  Training Accuracy:  0.333\n",
      "Model Experiment 5a_2  Validation Loss:  1.7588\n",
      "Model Experiment 5a_2  Validation Accuracy: 0.3868\n"
     ]
    }
   ],
   "source": [
    "#printing train and validation loss and accuracy for the model\n",
    "\n",
    "loss_accuracy_values(history_exp_5a_2, model_number, epochs, patience=patience)"
   ]
  },
  {
   "cell_type": "code",
   "execution_count": 46,
   "metadata": {
    "colab": {
     "base_uri": "https://localhost:8080/",
     "height": 916
    },
    "executionInfo": {
     "elapsed": 669,
     "status": "ok",
     "timestamp": 1651020495452,
     "user": {
      "displayName": "Dimitry Kirtsman",
      "userId": "11988189828040272864"
     },
     "user_tz": 420
    },
    "id": "fXAThyFb5HQK",
    "outputId": "3a909bce-88a9-4860-f014-0b57f98d3af2"
   },
   "outputs": [
    {
     "data": {
      "image/png": "[encoded data removed]",
      "text/plain": [
       "<Figure size 648x504 with 1 Axes>"
      ]
     },
     "metadata": {
      "needs_background": "light"
     },
     "output_type": "display_data"
    },
    {
     "data": {
      "image/png": "[encoded data removed]",
      "text/plain": [
       "<Figure size 648x504 with 1 Axes>"
      ]
     },
     "metadata": {
      "needs_background": "light"
     },
     "output_type": "display_data"
    }
   ],
   "source": [
    "#printing charts of  train vs validation accuracy and loss functions\n",
    "\n",
    "train_val_accuracy_and_loss_charts(history_exp_5a_2, model_number)"
   ]
  },
  {
   "cell_type": "code",
   "execution_count": 47,
   "metadata": {
    "colab": {
     "base_uri": "https://localhost:8080/"
    },
    "executionInfo": {
     "elapsed": 6051,
     "status": "ok",
     "timestamp": 1651020501502,
     "user": {
      "displayName": "Dimitry Kirtsman",
      "userId": "11988189828040272864"
     },
     "user_tz": 420
    },
    "id": "1AZl_yi85HQL",
    "outputId": "d7b101e6-1699-44d4-f6bc-8c4f813df0de"
   },
   "outputs": [
    {
     "name": "stdout",
     "output_type": "stream",
     "text": [
      "Classification Report\n",
      "              precision    recall  f1-score   support\n",
      "\n",
      "           0       0.43      0.49      0.46      1000\n",
      "           1       0.38      0.60      0.47      1000\n",
      "           2       0.27      0.16      0.20      1000\n",
      "           3       0.29      0.18      0.22      1000\n",
      "           4       0.31      0.41      0.35      1000\n",
      "           5       0.49      0.18      0.26      1000\n",
      "           6       0.34      0.61      0.44      1000\n",
      "           7       0.43      0.43      0.43      1000\n",
      "           8       0.51      0.35      0.41      1000\n",
      "           9       0.45      0.44      0.45      1000\n",
      "\n",
      "    accuracy                           0.38     10000\n",
      "   macro avg       0.39      0.38      0.37     10000\n",
      "weighted avg       0.39      0.38      0.37     10000\n",
      "\n",
      "Accuracy Score: 0.3836\n",
      "Root Mean Square Error: 3.457325555975312\n"
     ]
    }
   ],
   "source": [
    "#creating  classification report\n",
    "\n",
    "#getting predictions\n",
    "\n",
    "model_exp_5a_2_predictions=model_exp_5a_2.predict(x_test_norm).argmax(axis=1)\n",
    "print_validation_report(test_labels, model_exp_5a_2_predictions)"
   ]
  },
  {
   "cell_type": "code",
   "execution_count": 48,
   "metadata": {
    "colab": {
     "base_uri": "https://localhost:8080/",
     "height": 596
    },
    "executionInfo": {
     "elapsed": 4716,
     "status": "ok",
     "timestamp": 1651020506211,
     "user": {
      "displayName": "Dimitry Kirtsman",
      "userId": "11988189828040272864"
     },
     "user_tz": 420
    },
    "id": "3ViIN7b-5HQL",
    "outputId": "ac13586b-da38-4802-e99f-e555e26c5fee"
   },
   "outputs": [
    {
     "data": {
      "image/png": "[encoded data removed]",
      "text/plain": [
       "<Figure size 720x576 with 2 Axes>"
      ]
     },
     "metadata": {
      "needs_background": "light"
     },
     "output_type": "display_data"
    }
   ],
   "source": [
    "#printing out confusion matrix\n",
    "confusion_matrix_multi_class(model_exp_5a_2, x_test_norm, y_test, model_number)"
   ]
  },
  {
   "cell_type": "code",
   "execution_count": 48,
   "metadata": {
    "executionInfo": {
     "elapsed": 12,
     "status": "ok",
     "timestamp": 1651020506211,
     "user": {
      "displayName": "Dimitry Kirtsman",
      "userId": "11988189828040272864"
     },
     "user_tz": 420
    },
    "id": "IS6Z-Aqy5jOX"
   },
   "outputs": [],
   "source": []
  },
  {
   "cell_type": "markdown",
   "metadata": {
    "id": "OwDMKfdS5osG"
   },
   "source": [
    "# Experiment 5a_3 - CNN with 2 sets of Conv2D/MaxPool2D layers and 1 Dense Layer. Includes Dropout and Batch Normalization"
   ]
  },
  {
   "cell_type": "code",
   "execution_count": 48,
   "metadata": {
    "executionInfo": {
     "elapsed": 13,
     "status": "ok",
     "timestamp": 1651020506213,
     "user": {
      "displayName": "Dimitry Kirtsman",
      "userId": "11988189828040272864"
     },
     "user_tz": 420
    },
    "id": "bJ-tCZVM5osG"
   },
   "outputs": [],
   "source": []
  },
  {
   "cell_type": "code",
   "execution_count": 49,
   "metadata": {
    "executionInfo": {
     "elapsed": 14,
     "status": "ok",
     "timestamp": 1651020506214,
     "user": {
      "displayName": "Dimitry Kirtsman",
      "userId": "11988189828040272864"
     },
     "user_tz": 420
    },
    "id": "Tfqn7q535osG"
   },
   "outputs": [],
   "source": [
    "#Experiment 5a_3 model\n",
    "def create_model_exp_5a_3():\n",
    "    model = Sequential()\n",
    "    model.add(Conv2D(128, kernel_size=(5,5), activation=\"relu\", padding=\"same\", input_shape=[32,32,3]))\n",
    "    model.add(MaxPool2D(2, strides=1))\n",
    "    model.add(Dropout(0.30))\n",
    "    model.add(Conv2D(256, kernel_size=(3,3), activation=\"relu\", padding=\"same\"))\n",
    "    model.add(MaxPool2D(2, strides=1))\n",
    "    model.add(Dropout(0.30))\n",
    "    model.add(Flatten())\n",
    "    model.add(Dense(512, activation=\"relu\"))\n",
    "    model.add(BatchNormalization())\n",
    "    model.add(Dropout(0.30))\n",
    "    model.add(Dense(10, activation = \"softmax\"))\n",
    "    return model\n",
    "\n"
   ]
  },
  {
   "cell_type": "code",
   "execution_count": 50,
   "metadata": {
    "colab": {
     "base_uri": "https://localhost:8080/"
    },
    "executionInfo": {
     "elapsed": 13,
     "status": "ok",
     "timestamp": 1651020506214,
     "user": {
      "displayName": "Dimitry Kirtsman",
      "userId": "11988189828040272864"
     },
     "user_tz": 420
    },
    "id": "N2TZNwztr5eW",
    "outputId": "d8e8c7ab-b46c-4786-d705-f7cc5d253d5d"
   },
   "outputs": [
    {
     "name": "stdout",
     "output_type": "stream",
     "text": [
      "INFO:tensorflow:Found TPU system:\n"
     ]
    },
    {
     "name": "stderr",
     "output_type": "stream",
     "text": [
      "INFO:tensorflow:Found TPU system:\n"
     ]
    },
    {
     "name": "stdout",
     "output_type": "stream",
     "text": [
      "INFO:tensorflow:*** Num TPU Cores: 8\n"
     ]
    },
    {
     "name": "stderr",
     "output_type": "stream",
     "text": [
      "INFO:tensorflow:*** Num TPU Cores: 8\n"
     ]
    },
    {
     "name": "stdout",
     "output_type": "stream",
     "text": [
      "INFO:tensorflow:*** Num TPU Workers: 1\n"
     ]
    },
    {
     "name": "stderr",
     "output_type": "stream",
     "text": [
      "INFO:tensorflow:*** Num TPU Workers: 1\n"
     ]
    },
    {
     "name": "stdout",
     "output_type": "stream",
     "text": [
      "INFO:tensorflow:*** Num TPU Cores Per Worker: 8\n"
     ]
    },
    {
     "name": "stderr",
     "output_type": "stream",
     "text": [
      "INFO:tensorflow:*** Num TPU Cores Per Worker: 8\n"
     ]
    },
    {
     "name": "stdout",
     "output_type": "stream",
     "text": [
      "INFO:tensorflow:*** Available Device: _DeviceAttributes(/job:localhost/replica:0/task:0/device:CPU:0, CPU, 0, 0)\n"
     ]
    },
    {
     "name": "stderr",
     "output_type": "stream",
     "text": [
      "INFO:tensorflow:*** Available Device: _DeviceAttributes(/job:localhost/replica:0/task:0/device:CPU:0, CPU, 0, 0)\n"
     ]
    },
    {
     "name": "stdout",
     "output_type": "stream",
     "text": [
      "INFO:tensorflow:*** Available Device: _DeviceAttributes(/job:worker/replica:0/task:0/device:CPU:0, CPU, 0, 0)\n"
     ]
    },
    {
     "name": "stderr",
     "output_type": "stream",
     "text": [
      "INFO:tensorflow:*** Available Device: _DeviceAttributes(/job:worker/replica:0/task:0/device:CPU:0, CPU, 0, 0)\n"
     ]
    },
    {
     "name": "stdout",
     "output_type": "stream",
     "text": [
      "INFO:tensorflow:*** Available Device: _DeviceAttributes(/job:worker/replica:0/task:0/device:TPU:0, TPU, 0, 0)\n"
     ]
    },
    {
     "name": "stderr",
     "output_type": "stream",
     "text": [
      "INFO:tensorflow:*** Available Device: _DeviceAttributes(/job:worker/replica:0/task:0/device:TPU:0, TPU, 0, 0)\n"
     ]
    },
    {
     "name": "stdout",
     "output_type": "stream",
     "text": [
      "INFO:tensorflow:*** Available Device: _DeviceAttributes(/job:worker/replica:0/task:0/device:TPU:1, TPU, 0, 0)\n"
     ]
    },
    {
     "name": "stderr",
     "output_type": "stream",
     "text": [
      "INFO:tensorflow:*** Available Device: _DeviceAttributes(/job:worker/replica:0/task:0/device:TPU:1, TPU, 0, 0)\n"
     ]
    },
    {
     "name": "stdout",
     "output_type": "stream",
     "text": [
      "INFO:tensorflow:*** Available Device: _DeviceAttributes(/job:worker/replica:0/task:0/device:TPU:2, TPU, 0, 0)\n"
     ]
    },
    {
     "name": "stderr",
     "output_type": "stream",
     "text": [
      "INFO:tensorflow:*** Available Device: _DeviceAttributes(/job:worker/replica:0/task:0/device:TPU:2, TPU, 0, 0)\n"
     ]
    },
    {
     "name": "stdout",
     "output_type": "stream",
     "text": [
      "INFO:tensorflow:*** Available Device: _DeviceAttributes(/job:worker/replica:0/task:0/device:TPU:3, TPU, 0, 0)\n"
     ]
    },
    {
     "name": "stderr",
     "output_type": "stream",
     "text": [
      "INFO:tensorflow:*** Available Device: _DeviceAttributes(/job:worker/replica:0/task:0/device:TPU:3, TPU, 0, 0)\n"
     ]
    },
    {
     "name": "stdout",
     "output_type": "stream",
     "text": [
      "INFO:tensorflow:*** Available Device: _DeviceAttributes(/job:worker/replica:0/task:0/device:TPU:4, TPU, 0, 0)\n"
     ]
    },
    {
     "name": "stderr",
     "output_type": "stream",
     "text": [
      "INFO:tensorflow:*** Available Device: _DeviceAttributes(/job:worker/replica:0/task:0/device:TPU:4, TPU, 0, 0)\n"
     ]
    },
    {
     "name": "stdout",
     "output_type": "stream",
     "text": [
      "INFO:tensorflow:*** Available Device: _DeviceAttributes(/job:worker/replica:0/task:0/device:TPU:5, TPU, 0, 0)\n"
     ]
    },
    {
     "name": "stderr",
     "output_type": "stream",
     "text": [
      "INFO:tensorflow:*** Available Device: _DeviceAttributes(/job:worker/replica:0/task:0/device:TPU:5, TPU, 0, 0)\n"
     ]
    },
    {
     "name": "stdout",
     "output_type": "stream",
     "text": [
      "INFO:tensorflow:*** Available Device: _DeviceAttributes(/job:worker/replica:0/task:0/device:TPU:6, TPU, 0, 0)\n"
     ]
    },
    {
     "name": "stderr",
     "output_type": "stream",
     "text": [
      "INFO:tensorflow:*** Available Device: _DeviceAttributes(/job:worker/replica:0/task:0/device:TPU:6, TPU, 0, 0)\n"
     ]
    },
    {
     "name": "stdout",
     "output_type": "stream",
     "text": [
      "INFO:tensorflow:*** Available Device: _DeviceAttributes(/job:worker/replica:0/task:0/device:TPU:7, TPU, 0, 0)\n"
     ]
    },
    {
     "name": "stderr",
     "output_type": "stream",
     "text": [
      "INFO:tensorflow:*** Available Device: _DeviceAttributes(/job:worker/replica:0/task:0/device:TPU:7, TPU, 0, 0)\n"
     ]
    },
    {
     "name": "stdout",
     "output_type": "stream",
     "text": [
      "INFO:tensorflow:*** Available Device: _DeviceAttributes(/job:worker/replica:0/task:0/device:TPU_SYSTEM:0, TPU_SYSTEM, 0, 0)\n"
     ]
    },
    {
     "name": "stderr",
     "output_type": "stream",
     "text": [
      "INFO:tensorflow:*** Available Device: _DeviceAttributes(/job:worker/replica:0/task:0/device:TPU_SYSTEM:0, TPU_SYSTEM, 0, 0)\n"
     ]
    },
    {
     "name": "stdout",
     "output_type": "stream",
     "text": [
      "INFO:tensorflow:*** Available Device: _DeviceAttributes(/job:worker/replica:0/task:0/device:XLA_CPU:0, XLA_CPU, 0, 0)\n"
     ]
    },
    {
     "name": "stderr",
     "output_type": "stream",
     "text": [
      "INFO:tensorflow:*** Available Device: _DeviceAttributes(/job:worker/replica:0/task:0/device:XLA_CPU:0, XLA_CPU, 0, 0)\n"
     ]
    }
   ],
   "source": [
    "#TPU Strategy\n",
    "strategy_exp_5a_3  = tf.distribute.TPUStrategy(tpu) "
   ]
  },
  {
   "cell_type": "code",
   "execution_count": 51,
   "metadata": {
    "colab": {
     "base_uri": "https://localhost:8080/"
    },
    "executionInfo": {
     "elapsed": 1002,
     "status": "ok",
     "timestamp": 1651020507206,
     "user": {
      "displayName": "Dimitry Kirtsman",
      "userId": "11988189828040272864"
     },
     "user_tz": 420
    },
    "id": "K760L_uAr5hs",
    "outputId": "b01067a7-b823-411e-f0c6-ac815f2c559c"
   },
   "outputs": [
    {
     "name": "stdout",
     "output_type": "stream",
     "text": [
      "Model: \"sequential_4\"\n",
      "_________________________________________________________________\n",
      " Layer (type)                Output Shape              Param #   \n",
      "=================================================================\n",
      " conv2d_2 (Conv2D)           (None, 32, 32, 128)       9728      \n",
      "                                                                 \n",
      " max_pooling2d_2 (MaxPooling  (None, 31, 31, 128)      0         \n",
      " 2D)                                                             \n",
      "                                                                 \n",
      " dropout_11 (Dropout)        (None, 31, 31, 128)       0         \n",
      "                                                                 \n",
      " conv2d_3 (Conv2D)           (None, 31, 31, 256)       295168    \n",
      "                                                                 \n",
      " max_pooling2d_3 (MaxPooling  (None, 30, 30, 256)      0         \n",
      " 2D)                                                             \n",
      "                                                                 \n",
      " dropout_12 (Dropout)        (None, 30, 30, 256)       0         \n",
      "                                                                 \n",
      " flatten_4 (Flatten)         (None, 230400)            0         \n",
      "                                                                 \n",
      " dense_13 (Dense)            (None, 512)               117965312 \n",
      "                                                                 \n",
      " batch_normalization_1 (Batc  (None, 512)              2048      \n",
      " hNormalization)                                                 \n",
      "                                                                 \n",
      " dropout_13 (Dropout)        (None, 512)               0         \n",
      "                                                                 \n",
      " dense_14 (Dense)            (None, 10)                5130      \n",
      "                                                                 \n",
      "=================================================================\n",
      "Total params: 118,277,386\n",
      "Trainable params: 118,276,362\n",
      "Non-trainable params: 1,024\n",
      "_________________________________________________________________\n"
     ]
    }
   ],
   "source": [
    "#assigning model to tpu strategy\n",
    "with strategy_exp_5a_3.scope():\n",
    "    model_exp_5a_3 = create_model_exp_5a_3()\n",
    "\n",
    "model_exp_5a_3.summary()"
   ]
  },
  {
   "cell_type": "code",
   "execution_count": 52,
   "metadata": {
    "colab": {
     "base_uri": "https://localhost:8080/"
    },
    "executionInfo": {
     "elapsed": 91429,
     "status": "ok",
     "timestamp": 1651020598634,
     "user": {
      "displayName": "Dimitry Kirtsman",
      "userId": "11988189828040272864"
     },
     "user_tz": 420
    },
    "id": "ItwMqSVD5osG",
    "outputId": "77befd5f-43b2-451b-b206-7241aac00d4c"
   },
   "outputs": [
    {
     "name": "stdout",
     "output_type": "stream",
     "text": [
      "Epoch 1/100\n",
      " 6/88 [=>............................] - ETA: 4s - loss: 2.6406 - accuracy: 0.2155WARNING:tensorflow:Callback method `on_train_batch_end` is slow compared to the batch time (batch time: 0.0016s vs `on_train_batch_end` time: 0.8735s). Check your callbacks.\n"
     ]
    },
    {
     "name": "stderr",
     "output_type": "stream",
     "text": [
      "WARNING:tensorflow:Callback method `on_train_batch_end` is slow compared to the batch time (batch time: 0.0016s vs `on_train_batch_end` time: 0.8735s). Check your callbacks.\n"
     ]
    },
    {
     "name": "stdout",
     "output_type": "stream",
     "text": [
      "88/88 [==============================] - 24s 195ms/step - loss: 1.6033 - accuracy: 0.4429 - val_loss: 1.3248 - val_accuracy: 0.5314\n",
      "Epoch 2/100\n",
      "88/88 [==============================] - 6s 67ms/step - loss: 1.1519 - accuracy: 0.5950 - val_loss: 1.4325 - val_accuracy: 0.4934\n",
      "Epoch 3/100\n",
      "88/88 [==============================] - 6s 67ms/step - loss: 0.9803 - accuracy: 0.6579 - val_loss: 1.6737 - val_accuracy: 0.4392\n",
      "Epoch 4/100\n",
      "88/88 [==============================] - 7s 76ms/step - loss: 0.8653 - accuracy: 0.6978 - val_loss: 1.0818 - val_accuracy: 0.6368\n",
      "Epoch 5/100\n",
      "88/88 [==============================] - 6s 67ms/step - loss: 0.7847 - accuracy: 0.7264 - val_loss: 1.3619 - val_accuracy: 0.5530\n",
      "Epoch 6/100\n",
      "88/88 [==============================] - 7s 75ms/step - loss: 0.7130 - accuracy: 0.7507 - val_loss: 0.8826 - val_accuracy: 0.6994\n",
      "Epoch 7/100\n",
      "88/88 [==============================] - 7s 76ms/step - loss: 0.6226 - accuracy: 0.7819 - val_loss: 0.8675 - val_accuracy: 0.7038\n",
      "Epoch 8/100\n",
      "88/88 [==============================] - 6s 68ms/step - loss: 0.5487 - accuracy: 0.8100 - val_loss: 1.0781 - val_accuracy: 0.6302\n",
      "Epoch 9/100\n",
      "88/88 [==============================] - 6s 68ms/step - loss: 0.4708 - accuracy: 0.8354 - val_loss: 1.1157 - val_accuracy: 0.6390\n",
      "Epoch 10/100\n",
      "88/88 [==============================] - ETA: 0s - loss: 0.4045 - accuracy: 0.8614Restoring model weights from the end of the best epoch: 7.\n",
      "88/88 [==============================] - 9s 103ms/step - loss: 0.4045 - accuracy: 0.8614 - val_loss: 0.9658 - val_accuracy: 0.6866\n",
      "Epoch 10: early stopping\n",
      "\n",
      "\n",
      "Finished model training in 91s\n",
      "Average time to run each epoch is: 6.2157\n"
     ]
    }
   ],
   "source": [
    "# Compile and train\n",
    "epochs=100\n",
    "patience=3\n",
    "model_number=\"5a_3\"\n",
    "history_exp_5a_3, model_exp_5a_3 = compile_train_model(model_exp_5a_3,\n",
    "                                     x_train_norm, y_train_split,\n",
    "                                     x_valid_norm, y_valid_split, model_number, epochs\n",
    "                                    )"
   ]
  },
  {
   "cell_type": "code",
   "execution_count": 52,
   "metadata": {
    "executionInfo": {
     "elapsed": 14,
     "status": "ok",
     "timestamp": 1651020598634,
     "user": {
      "displayName": "Dimitry Kirtsman",
      "userId": "11988189828040272864"
     },
     "user_tz": 420
    },
    "id": "dhGBniFr5osG"
   },
   "outputs": [],
   "source": []
  },
  {
   "cell_type": "code",
   "execution_count": 53,
   "metadata": {
    "colab": {
     "base_uri": "https://localhost:8080/"
    },
    "executionInfo": {
     "elapsed": 4,
     "status": "ok",
     "timestamp": 1651020598634,
     "user": {
      "displayName": "Dimitry Kirtsman",
      "userId": "11988189828040272864"
     },
     "user_tz": 420
    },
    "id": "mnTMNQ8j5osG",
    "outputId": "73bf1396-92e4-49ed-ed9c-a2a2e4ec3a03"
   },
   "outputs": [
    {
     "name": "stdout",
     "output_type": "stream",
     "text": [
      "Model Experiment 5a_3  Training Loss:  0.6226\n",
      "Model Experiment 5a_3  Training Accuracy:  0.7819\n",
      "Model Experiment 5a_3  Validation Loss:  0.8675\n",
      "Model Experiment 5a_3  Validation Accuracy: 0.7038\n"
     ]
    }
   ],
   "source": [
    "#printing train and validation loss and accuracy for the model\n",
    "\n",
    "loss_accuracy_values(history_exp_5a_3, model_number, epochs, patience=patience)"
   ]
  },
  {
   "cell_type": "code",
   "execution_count": 54,
   "metadata": {
    "colab": {
     "base_uri": "https://localhost:8080/",
     "height": 916
    },
    "executionInfo": {
     "elapsed": 477,
     "status": "ok",
     "timestamp": 1651020599109,
     "user": {
      "displayName": "Dimitry Kirtsman",
      "userId": "11988189828040272864"
     },
     "user_tz": 420
    },
    "id": "lplLvPR65osG",
    "outputId": "2b169043-dcf0-4a26-e858-e88983ff14d1"
   },
   "outputs": [
    {
     "data": {
      "image/png": "[encoded data removed]",
      "text/plain": [
       "<Figure size 648x504 with 1 Axes>"
      ]
     },
     "metadata": {
      "needs_background": "light"
     },
     "output_type": "display_data"
    },
    {
     "data": {
      "image/png": "[encoded data removed]",
      "text/plain": [
       "<Figure size 648x504 with 1 Axes>"
      ]
     },
     "metadata": {
      "needs_background": "light"
     },
     "output_type": "display_data"
    }
   ],
   "source": [
    "#printing charts of  train vs validation accuracy and loss functions\n",
    "\n",
    "train_val_accuracy_and_loss_charts(history_exp_5a_3, model_number)"
   ]
  },
  {
   "cell_type": "code",
   "execution_count": 55,
   "metadata": {
    "colab": {
     "base_uri": "https://localhost:8080/"
    },
    "executionInfo": {
     "elapsed": 36374,
     "status": "ok",
     "timestamp": 1651020635479,
     "user": {
      "displayName": "Dimitry Kirtsman",
      "userId": "11988189828040272864"
     },
     "user_tz": 420
    },
    "id": "OV9mmXBu5osG",
    "outputId": "1a784b72-7915-422a-8457-3702284afead"
   },
   "outputs": [
    {
     "name": "stdout",
     "output_type": "stream",
     "text": [
      "Classification Report\n",
      "              precision    recall  f1-score   support\n",
      "\n",
      "           0       0.82      0.64      0.72      1000\n",
      "           1       0.81      0.84      0.83      1000\n",
      "           2       0.55      0.62      0.58      1000\n",
      "           3       0.53      0.55      0.54      1000\n",
      "           4       0.60      0.69      0.64      1000\n",
      "           5       0.67      0.61      0.64      1000\n",
      "           6       0.68      0.85      0.75      1000\n",
      "           7       0.80      0.73      0.77      1000\n",
      "           8       0.88      0.76      0.81      1000\n",
      "           9       0.84      0.77      0.81      1000\n",
      "\n",
      "    accuracy                           0.71     10000\n",
      "   macro avg       0.72      0.71      0.71     10000\n",
      "weighted avg       0.72      0.71      0.71     10000\n",
      "\n",
      "Accuracy Score: 0.7069\n",
      "Root Mean Square Error: 2.1431985442324284\n"
     ]
    }
   ],
   "source": [
    "#creating  classification report\n",
    "\n",
    "#getting predictions\n",
    "\n",
    "model_exp_5a_3_predictions=model_exp_5a_3.predict(x_test_norm).argmax(axis=1)\n",
    "print_validation_report(test_labels, model_exp_5a_3_predictions)"
   ]
  },
  {
   "cell_type": "code",
   "execution_count": 56,
   "metadata": {
    "colab": {
     "base_uri": "https://localhost:8080/",
     "height": 596
    },
    "executionInfo": {
     "elapsed": 5352,
     "status": "ok",
     "timestamp": 1651020640827,
     "user": {
      "displayName": "Dimitry Kirtsman",
      "userId": "11988189828040272864"
     },
     "user_tz": 420
    },
    "id": "zSs0KmhH5osH",
    "outputId": "33049b4d-10a1-4fac-fc3f-168515000702"
   },
   "outputs": [
    {
     "data": {
      "image/png": "[encoded data removed]",
      "text/plain": [
       "<Figure size 720x576 with 2 Axes>"
      ]
     },
     "metadata": {
      "needs_background": "light"
     },
     "output_type": "display_data"
    }
   ],
   "source": [
    "#printing out confusion matrix\n",
    "confusion_matrix_multi_class(model_exp_5a_3, x_test_norm, y_test, model_number)"
   ]
  },
  {
   "cell_type": "code",
   "execution_count": 56,
   "metadata": {
    "executionInfo": {
     "elapsed": 6,
     "status": "ok",
     "timestamp": 1651020640828,
     "user": {
      "displayName": "Dimitry Kirtsman",
      "userId": "11988189828040272864"
     },
     "user_tz": 420
    },
    "id": "ElTBeas0C6ha"
   },
   "outputs": [],
   "source": []
  },
  {
   "cell_type": "markdown",
   "metadata": {
    "id": "_yQyQeaOC6hf"
   },
   "source": [
    "# Experiment 5a_4 - CNN with 3 sets of Conv2D/MaxPool2D layers and 1 Dense Layer. Includes Dropout and Batch Normalization"
   ]
  },
  {
   "cell_type": "code",
   "execution_count": 56,
   "metadata": {
    "executionInfo": {
     "elapsed": 5,
     "status": "ok",
     "timestamp": 1651020640828,
     "user": {
      "displayName": "Dimitry Kirtsman",
      "userId": "11988189828040272864"
     },
     "user_tz": 420
    },
    "id": "94BZISwFC6hf"
   },
   "outputs": [],
   "source": []
  },
  {
   "cell_type": "code",
   "execution_count": 57,
   "metadata": {
    "executionInfo": {
     "elapsed": 5,
     "status": "ok",
     "timestamp": 1651020640828,
     "user": {
      "displayName": "Dimitry Kirtsman",
      "userId": "11988189828040272864"
     },
     "user_tz": 420
    },
    "id": "LmEyUIANC6hg"
   },
   "outputs": [],
   "source": [
    "#Experiment 5a_4 model\n",
    "def create_model_exp_5a_4():\n",
    "    model = Sequential()\n",
    "    model.add(Conv2D(128, kernel_size=(5,5), activation=\"relu\", padding=\"same\", input_shape=[32,32,3]))\n",
    "    model.add(MaxPool2D(2, strides=1))\n",
    "    model.add(Dropout(0.30))\n",
    "    model.add(Conv2D(256, kernel_size=(3,3), activation=\"relu\", padding=\"same\"))\n",
    "    model.add(MaxPool2D(2, strides=1))\n",
    "    model.add(Dropout(0.30))\n",
    "    model.add(Conv2D(512, kernel_size=(3,3), activation=\"relu\", padding=\"same\"))\n",
    "    model.add(MaxPool2D(2, strides=1))\n",
    "    model.add(Dropout(0.30))\n",
    "    model.add(Flatten())\n",
    "    model.add(Dense(512, activation=\"relu\"))\n",
    "    model.add(BatchNormalization())\n",
    "    model.add(Dropout(0.30))\n",
    "    model.add(Dense(10, activation = \"softmax\"))\n",
    "    return model\n",
    "\n"
   ]
  },
  {
   "cell_type": "code",
   "execution_count": 58,
   "metadata": {
    "colab": {
     "base_uri": "https://localhost:8080/"
    },
    "executionInfo": {
     "elapsed": 6,
     "status": "ok",
     "timestamp": 1651020640829,
     "user": {
      "displayName": "Dimitry Kirtsman",
      "userId": "11988189828040272864"
     },
     "user_tz": 420
    },
    "id": "ZM--BJzEs9BF",
    "outputId": "4ea1f9a2-5827-4331-9b8b-954c9b428e28"
   },
   "outputs": [
    {
     "name": "stdout",
     "output_type": "stream",
     "text": [
      "INFO:tensorflow:Found TPU system:\n"
     ]
    },
    {
     "name": "stderr",
     "output_type": "stream",
     "text": [
      "INFO:tensorflow:Found TPU system:\n"
     ]
    },
    {
     "name": "stdout",
     "output_type": "stream",
     "text": [
      "INFO:tensorflow:*** Num TPU Cores: 8\n"
     ]
    },
    {
     "name": "stderr",
     "output_type": "stream",
     "text": [
      "INFO:tensorflow:*** Num TPU Cores: 8\n"
     ]
    },
    {
     "name": "stdout",
     "output_type": "stream",
     "text": [
      "INFO:tensorflow:*** Num TPU Workers: 1\n"
     ]
    },
    {
     "name": "stderr",
     "output_type": "stream",
     "text": [
      "INFO:tensorflow:*** Num TPU Workers: 1\n"
     ]
    },
    {
     "name": "stdout",
     "output_type": "stream",
     "text": [
      "INFO:tensorflow:*** Num TPU Cores Per Worker: 8\n"
     ]
    },
    {
     "name": "stderr",
     "output_type": "stream",
     "text": [
      "INFO:tensorflow:*** Num TPU Cores Per Worker: 8\n"
     ]
    },
    {
     "name": "stdout",
     "output_type": "stream",
     "text": [
      "INFO:tensorflow:*** Available Device: _DeviceAttributes(/job:localhost/replica:0/task:0/device:CPU:0, CPU, 0, 0)\n"
     ]
    },
    {
     "name": "stderr",
     "output_type": "stream",
     "text": [
      "INFO:tensorflow:*** Available Device: _DeviceAttributes(/job:localhost/replica:0/task:0/device:CPU:0, CPU, 0, 0)\n"
     ]
    },
    {
     "name": "stdout",
     "output_type": "stream",
     "text": [
      "INFO:tensorflow:*** Available Device: _DeviceAttributes(/job:worker/replica:0/task:0/device:CPU:0, CPU, 0, 0)\n"
     ]
    },
    {
     "name": "stderr",
     "output_type": "stream",
     "text": [
      "INFO:tensorflow:*** Available Device: _DeviceAttributes(/job:worker/replica:0/task:0/device:CPU:0, CPU, 0, 0)\n"
     ]
    },
    {
     "name": "stdout",
     "output_type": "stream",
     "text": [
      "INFO:tensorflow:*** Available Device: _DeviceAttributes(/job:worker/replica:0/task:0/device:TPU:0, TPU, 0, 0)\n"
     ]
    },
    {
     "name": "stderr",
     "output_type": "stream",
     "text": [
      "INFO:tensorflow:*** Available Device: _DeviceAttributes(/job:worker/replica:0/task:0/device:TPU:0, TPU, 0, 0)\n"
     ]
    },
    {
     "name": "stdout",
     "output_type": "stream",
     "text": [
      "INFO:tensorflow:*** Available Device: _DeviceAttributes(/job:worker/replica:0/task:0/device:TPU:1, TPU, 0, 0)\n"
     ]
    },
    {
     "name": "stderr",
     "output_type": "stream",
     "text": [
      "INFO:tensorflow:*** Available Device: _DeviceAttributes(/job:worker/replica:0/task:0/device:TPU:1, TPU, 0, 0)\n"
     ]
    },
    {
     "name": "stdout",
     "output_type": "stream",
     "text": [
      "INFO:tensorflow:*** Available Device: _DeviceAttributes(/job:worker/replica:0/task:0/device:TPU:2, TPU, 0, 0)\n"
     ]
    },
    {
     "name": "stderr",
     "output_type": "stream",
     "text": [
      "INFO:tensorflow:*** Available Device: _DeviceAttributes(/job:worker/replica:0/task:0/device:TPU:2, TPU, 0, 0)\n"
     ]
    },
    {
     "name": "stdout",
     "output_type": "stream",
     "text": [
      "INFO:tensorflow:*** Available Device: _DeviceAttributes(/job:worker/replica:0/task:0/device:TPU:3, TPU, 0, 0)\n"
     ]
    },
    {
     "name": "stderr",
     "output_type": "stream",
     "text": [
      "INFO:tensorflow:*** Available Device: _DeviceAttributes(/job:worker/replica:0/task:0/device:TPU:3, TPU, 0, 0)\n"
     ]
    },
    {
     "name": "stdout",
     "output_type": "stream",
     "text": [
      "INFO:tensorflow:*** Available Device: _DeviceAttributes(/job:worker/replica:0/task:0/device:TPU:4, TPU, 0, 0)\n"
     ]
    },
    {
     "name": "stderr",
     "output_type": "stream",
     "text": [
      "INFO:tensorflow:*** Available Device: _DeviceAttributes(/job:worker/replica:0/task:0/device:TPU:4, TPU, 0, 0)\n"
     ]
    },
    {
     "name": "stdout",
     "output_type": "stream",
     "text": [
      "INFO:tensorflow:*** Available Device: _DeviceAttributes(/job:worker/replica:0/task:0/device:TPU:5, TPU, 0, 0)\n"
     ]
    },
    {
     "name": "stderr",
     "output_type": "stream",
     "text": [
      "INFO:tensorflow:*** Available Device: _DeviceAttributes(/job:worker/replica:0/task:0/device:TPU:5, TPU, 0, 0)\n"
     ]
    },
    {
     "name": "stdout",
     "output_type": "stream",
     "text": [
      "INFO:tensorflow:*** Available Device: _DeviceAttributes(/job:worker/replica:0/task:0/device:TPU:6, TPU, 0, 0)\n"
     ]
    },
    {
     "name": "stderr",
     "output_type": "stream",
     "text": [
      "INFO:tensorflow:*** Available Device: _DeviceAttributes(/job:worker/replica:0/task:0/device:TPU:6, TPU, 0, 0)\n"
     ]
    },
    {
     "name": "stdout",
     "output_type": "stream",
     "text": [
      "INFO:tensorflow:*** Available Device: _DeviceAttributes(/job:worker/replica:0/task:0/device:TPU:7, TPU, 0, 0)\n"
     ]
    },
    {
     "name": "stderr",
     "output_type": "stream",
     "text": [
      "INFO:tensorflow:*** Available Device: _DeviceAttributes(/job:worker/replica:0/task:0/device:TPU:7, TPU, 0, 0)\n"
     ]
    },
    {
     "name": "stdout",
     "output_type": "stream",
     "text": [
      "INFO:tensorflow:*** Available Device: _DeviceAttributes(/job:worker/replica:0/task:0/device:TPU_SYSTEM:0, TPU_SYSTEM, 0, 0)\n"
     ]
    },
    {
     "name": "stderr",
     "output_type": "stream",
     "text": [
      "INFO:tensorflow:*** Available Device: _DeviceAttributes(/job:worker/replica:0/task:0/device:TPU_SYSTEM:0, TPU_SYSTEM, 0, 0)\n"
     ]
    },
    {
     "name": "stdout",
     "output_type": "stream",
     "text": [
      "INFO:tensorflow:*** Available Device: _DeviceAttributes(/job:worker/replica:0/task:0/device:XLA_CPU:0, XLA_CPU, 0, 0)\n"
     ]
    },
    {
     "name": "stderr",
     "output_type": "stream",
     "text": [
      "INFO:tensorflow:*** Available Device: _DeviceAttributes(/job:worker/replica:0/task:0/device:XLA_CPU:0, XLA_CPU, 0, 0)\n"
     ]
    }
   ],
   "source": [
    "strategy_exp_5a_4  = tf.distribute.TPUStrategy(tpu) "
   ]
  },
  {
   "cell_type": "code",
   "execution_count": 59,
   "metadata": {
    "colab": {
     "base_uri": "https://localhost:8080/"
    },
    "executionInfo": {
     "elapsed": 1861,
     "status": "ok",
     "timestamp": 1651020642686,
     "user": {
      "displayName": "Dimitry Kirtsman",
      "userId": "11988189828040272864"
     },
     "user_tz": 420
    },
    "id": "xCb5v-EMs9CT",
    "outputId": "f0b92d77-12d5-4f2b-e27b-b058ca98c2d0"
   },
   "outputs": [
    {
     "name": "stdout",
     "output_type": "stream",
     "text": [
      "Model: \"sequential_5\"\n",
      "_________________________________________________________________\n",
      " Layer (type)                Output Shape              Param #   \n",
      "=================================================================\n",
      " conv2d_4 (Conv2D)           (None, 32, 32, 128)       9728      \n",
      "                                                                 \n",
      " max_pooling2d_4 (MaxPooling  (None, 31, 31, 128)      0         \n",
      " 2D)                                                             \n",
      "                                                                 \n",
      " dropout_14 (Dropout)        (None, 31, 31, 128)       0         \n",
      "                                                                 \n",
      " conv2d_5 (Conv2D)           (None, 31, 31, 256)       295168    \n",
      "                                                                 \n",
      " max_pooling2d_5 (MaxPooling  (None, 30, 30, 256)      0         \n",
      " 2D)                                                             \n",
      "                                                                 \n",
      " dropout_15 (Dropout)        (None, 30, 30, 256)       0         \n",
      "                                                                 \n",
      " conv2d_6 (Conv2D)           (None, 30, 30, 512)       1180160   \n",
      "                                                                 \n",
      " max_pooling2d_6 (MaxPooling  (None, 29, 29, 512)      0         \n",
      " 2D)                                                             \n",
      "                                                                 \n",
      " dropout_16 (Dropout)        (None, 29, 29, 512)       0         \n",
      "                                                                 \n",
      " flatten_5 (Flatten)         (None, 430592)            0         \n",
      "                                                                 \n",
      " dense_15 (Dense)            (None, 512)               220463616 \n",
      "                                                                 \n",
      " batch_normalization_2 (Batc  (None, 512)              2048      \n",
      " hNormalization)                                                 \n",
      "                                                                 \n",
      " dropout_17 (Dropout)        (None, 512)               0         \n",
      "                                                                 \n",
      " dense_16 (Dense)            (None, 10)                5130      \n",
      "                                                                 \n",
      "=================================================================\n",
      "Total params: 221,955,850\n",
      "Trainable params: 221,954,826\n",
      "Non-trainable params: 1,024\n",
      "_________________________________________________________________\n"
     ]
    }
   ],
   "source": [
    "with strategy_exp_5a_4.scope():\n",
    "    model_exp_5a_4 = create_model_exp_5a_4()\n",
    "\n",
    "model_exp_5a_4.summary()"
   ]
  },
  {
   "cell_type": "code",
   "execution_count": 60,
   "metadata": {
    "colab": {
     "base_uri": "https://localhost:8080/"
    },
    "executionInfo": {
     "elapsed": 194831,
     "status": "ok",
     "timestamp": 1651020837515,
     "user": {
      "displayName": "Dimitry Kirtsman",
      "userId": "11988189828040272864"
     },
     "user_tz": 420
    },
    "id": "PB5G9XLSC6hg",
    "outputId": "57f529f4-28c4-464b-fed3-bc3414364098"
   },
   "outputs": [
    {
     "name": "stdout",
     "output_type": "stream",
     "text": [
      "Epoch 1/100\n",
      " 6/88 [=>............................] - ETA: 9s - loss: 2.7655 - accuracy: 0.1969WARNING:tensorflow:Callback method `on_train_batch_end` is slow compared to the batch time (batch time: 0.0016s vs `on_train_batch_end` time: 1.4876s). Check your callbacks.\n"
     ]
    },
    {
     "name": "stderr",
     "output_type": "stream",
     "text": [
      "WARNING:tensorflow:Callback method `on_train_batch_end` is slow compared to the batch time (batch time: 0.0016s vs `on_train_batch_end` time: 1.4876s). Check your callbacks.\n"
     ]
    },
    {
     "name": "stdout",
     "output_type": "stream",
     "text": [
      "88/88 [==============================] - 42s 354ms/step - loss: 1.7562 - accuracy: 0.3874 - val_loss: 1.5747 - val_accuracy: 0.4704\n",
      "Epoch 2/100\n",
      "88/88 [==============================] - 11s 121ms/step - loss: 1.2764 - accuracy: 0.5466 - val_loss: 1.7744 - val_accuracy: 0.3444\n",
      "Epoch 3/100\n",
      "88/88 [==============================] - 12s 138ms/step - loss: 1.0568 - accuracy: 0.6280 - val_loss: 1.4977 - val_accuracy: 0.4964\n",
      "Epoch 4/100\n",
      "88/88 [==============================] - 12s 137ms/step - loss: 0.9285 - accuracy: 0.6744 - val_loss: 1.1774 - val_accuracy: 0.5944\n",
      "Epoch 5/100\n",
      "88/88 [==============================] - 12s 137ms/step - loss: 0.8269 - accuracy: 0.7091 - val_loss: 1.0664 - val_accuracy: 0.6246\n",
      "Epoch 6/100\n",
      "88/88 [==============================] - 11s 123ms/step - loss: 0.7528 - accuracy: 0.7363 - val_loss: 1.2164 - val_accuracy: 0.5952\n",
      "Epoch 7/100\n",
      "88/88 [==============================] - 12s 138ms/step - loss: 0.6626 - accuracy: 0.7698 - val_loss: 1.0377 - val_accuracy: 0.6428\n",
      "Epoch 8/100\n",
      "88/88 [==============================] - 12s 138ms/step - loss: 0.5941 - accuracy: 0.7935 - val_loss: 0.8850 - val_accuracy: 0.6994\n",
      "Epoch 9/100\n",
      "88/88 [==============================] - 12s 138ms/step - loss: 0.5031 - accuracy: 0.8237 - val_loss: 0.8985 - val_accuracy: 0.7016\n",
      "Epoch 10/100\n",
      "88/88 [==============================] - 12s 138ms/step - loss: 0.4284 - accuracy: 0.8515 - val_loss: 0.7539 - val_accuracy: 0.7540\n",
      "Epoch 11/100\n",
      "88/88 [==============================] - 11s 122ms/step - loss: 0.3470 - accuracy: 0.8804 - val_loss: 0.7591 - val_accuracy: 0.7486\n",
      "Epoch 12/100\n",
      "88/88 [==============================] - 11s 121ms/step - loss: 0.2727 - accuracy: 0.9065 - val_loss: 0.8121 - val_accuracy: 0.7406\n",
      "Epoch 13/100\n",
      "88/88 [==============================] - ETA: 0s - loss: 0.2242 - accuracy: 0.9245Restoring model weights from the end of the best epoch: 10.\n",
      "88/88 [==============================] - 17s 191ms/step - loss: 0.2242 - accuracy: 0.9245 - val_loss: 0.9441 - val_accuracy: 0.7238\n",
      "Epoch 13: early stopping\n",
      "\n",
      "\n",
      "Finished model training in 194s\n",
      "Average time to run each epoch is: 11.6193\n"
     ]
    }
   ],
   "source": [
    "# Compile and train\n",
    "epochs=100\n",
    "patience=3\n",
    "model_number=\"5a_4\"\n",
    "history_exp_5a_4, model_exp_5a_4 = compile_train_model(model_exp_5a_4,\n",
    "                                     x_train_norm, y_train_split,\n",
    "                                     x_valid_norm, y_valid_split, model_number, epochs\n",
    "                                    )"
   ]
  },
  {
   "cell_type": "code",
   "execution_count": 60,
   "metadata": {
    "executionInfo": {
     "elapsed": 15,
     "status": "ok",
     "timestamp": 1651020837516,
     "user": {
      "displayName": "Dimitry Kirtsman",
      "userId": "11988189828040272864"
     },
     "user_tz": 420
    },
    "id": "anmXbHolC6hg"
   },
   "outputs": [],
   "source": []
  },
  {
   "cell_type": "code",
   "execution_count": 61,
   "metadata": {
    "colab": {
     "base_uri": "https://localhost:8080/"
    },
    "executionInfo": {
     "elapsed": 6,
     "status": "ok",
     "timestamp": 1651020837516,
     "user": {
      "displayName": "Dimitry Kirtsman",
      "userId": "11988189828040272864"
     },
     "user_tz": 420
    },
    "id": "NdTqsmzUC6hg",
    "outputId": "45a67cba-f19f-4bd1-c710-603c7fe0645b"
   },
   "outputs": [
    {
     "name": "stdout",
     "output_type": "stream",
     "text": [
      "Model Experiment 5a_4  Training Loss:  0.4284\n",
      "Model Experiment 5a_4  Training Accuracy:  0.8515\n",
      "Model Experiment 5a_4  Validation Loss:  0.7539\n",
      "Model Experiment 5a_4  Validation Accuracy: 0.754\n"
     ]
    }
   ],
   "source": [
    "#printing train and validation loss and accuracy for the model\n",
    "\n",
    "loss_accuracy_values(history_exp_5a_4, model_number, epochs, patience=patience)"
   ]
  },
  {
   "cell_type": "code",
   "execution_count": 62,
   "metadata": {
    "colab": {
     "base_uri": "https://localhost:8080/",
     "height": 916
    },
    "executionInfo": {
     "elapsed": 607,
     "status": "ok",
     "timestamp": 1651020838119,
     "user": {
      "displayName": "Dimitry Kirtsman",
      "userId": "11988189828040272864"
     },
     "user_tz": 420
    },
    "id": "i0gMEkD-C6hg",
    "outputId": "a6eae705-11fb-4f32-80ce-227d15155720"
   },
   "outputs": [
    {
     "data": {
      "image/png": "[encoded data removed]",
      "text/plain": [
       "<Figure size 648x504 with 1 Axes>"
      ]
     },
     "metadata": {
      "needs_background": "light"
     },
     "output_type": "display_data"
    },
    {
     "data": {
      "image/png": "[encoded data removed]",
      "text/plain": [
       "<Figure size 648x504 with 1 Axes>"
      ]
     },
     "metadata": {
      "needs_background": "light"
     },
     "output_type": "display_data"
    }
   ],
   "source": [
    "#printing charts of  train vs validation accuracy and loss functions\n",
    "\n",
    "train_val_accuracy_and_loss_charts(history_exp_5a_4, model_number)"
   ]
  },
  {
   "cell_type": "code",
   "execution_count": 63,
   "metadata": {
    "colab": {
     "base_uri": "https://localhost:8080/"
    },
    "executionInfo": {
     "elapsed": 62662,
     "status": "ok",
     "timestamp": 1651020900780,
     "user": {
      "displayName": "Dimitry Kirtsman",
      "userId": "11988189828040272864"
     },
     "user_tz": 420
    },
    "id": "xBwqsOcbC6hg",
    "outputId": "1cf6c0c4-a506-4620-c8a5-5180caf7f3de"
   },
   "outputs": [
    {
     "name": "stdout",
     "output_type": "stream",
     "text": [
      "Classification Report\n",
      "              precision    recall  f1-score   support\n",
      "\n",
      "           0       0.83      0.74      0.78      1000\n",
      "           1       0.85      0.89      0.87      1000\n",
      "           2       0.71      0.58      0.64      1000\n",
      "           3       0.64      0.56      0.59      1000\n",
      "           4       0.61      0.80      0.69      1000\n",
      "           5       0.75      0.59      0.66      1000\n",
      "           6       0.76      0.85      0.80      1000\n",
      "           7       0.79      0.81      0.80      1000\n",
      "           8       0.82      0.88      0.85      1000\n",
      "           9       0.82      0.84      0.83      1000\n",
      "\n",
      "    accuracy                           0.76     10000\n",
      "   macro avg       0.76      0.76      0.75     10000\n",
      "weighted avg       0.76      0.76      0.75     10000\n",
      "\n",
      "Accuracy Score: 0.7551\n",
      "Root Mean Square Error: 2.0390929355966096\n"
     ]
    }
   ],
   "source": [
    "#creating  classification report\n",
    "\n",
    "#getting predictions\n",
    "\n",
    "model_exp_5a_4_predictions=model_exp_5a_4.predict(x_test_norm).argmax(axis=1)\n",
    "print_validation_report(test_labels, model_exp_5a_4_predictions)"
   ]
  },
  {
   "cell_type": "code",
   "execution_count": 64,
   "metadata": {
    "colab": {
     "base_uri": "https://localhost:8080/",
     "height": 596
    },
    "executionInfo": {
     "elapsed": 6064,
     "status": "ok",
     "timestamp": 1651020906843,
     "user": {
      "displayName": "Dimitry Kirtsman",
      "userId": "11988189828040272864"
     },
     "user_tz": 420
    },
    "id": "8g0QhVwOC6hg",
    "outputId": "a2c01628-ccb7-4641-c2e3-0bb43800162a"
   },
   "outputs": [
    {
     "data": {
      "image/png": "[encoded data removed]",
      "text/plain": [
       "<Figure size 720x576 with 2 Axes>"
      ]
     },
     "metadata": {
      "needs_background": "light"
     },
     "output_type": "display_data"
    }
   ],
   "source": [
    "#printing out confusion matrix\n",
    "confusion_matrix_multi_class(model_exp_5a_4, x_test_norm, y_test, model_number)"
   ]
  },
  {
   "cell_type": "code",
   "execution_count": 64,
   "metadata": {
    "executionInfo": {
     "elapsed": 11,
     "status": "ok",
     "timestamp": 1651020906844,
     "user": {
      "displayName": "Dimitry Kirtsman",
      "userId": "11988189828040272864"
     },
     "user_tz": 420
    },
    "id": "HAKuRXJ55jXN"
   },
   "outputs": [],
   "source": []
  },
  {
   "cell_type": "code",
   "execution_count": 64,
   "metadata": {
    "executionInfo": {
     "elapsed": 11,
     "status": "ok",
     "timestamp": 1651020906844,
     "user": {
      "displayName": "Dimitry Kirtsman",
      "userId": "11988189828040272864"
     },
     "user_tz": 420
    },
    "id": "5Do_zC835jaH"
   },
   "outputs": [],
   "source": []
  }
 ],
 "metadata": {
  "accelerator": "TPU",
  "colab": {
   "authorship_tag": "ABX9TyOl9AftzYbs1WP/1iSCsZ01",
   "machine_shape": "hm",
   "name": "MSDS 458 - Assignment 2 - Experiments 5A_1 - 5A_4_v3_TPU.ipynb",
   "provenance": []
  },
  "kernelspec": {
   "display_name": "Python 3 (ipykernel)",
   "language": "python",
   "name": "python3"
  },
  "language_info": {
   "codemirror_mode": {
    "name": "ipython",
    "version": 3
   },
   "file_extension": ".py",
   "mimetype": "text/x-python",
   "name": "python",
   "nbconvert_exporter": "python",
   "pygments_lexer": "ipython3",
   "version": "3.8.8"
  }
 },
 "nbformat": 4,
 "nbformat_minor": 1
}
