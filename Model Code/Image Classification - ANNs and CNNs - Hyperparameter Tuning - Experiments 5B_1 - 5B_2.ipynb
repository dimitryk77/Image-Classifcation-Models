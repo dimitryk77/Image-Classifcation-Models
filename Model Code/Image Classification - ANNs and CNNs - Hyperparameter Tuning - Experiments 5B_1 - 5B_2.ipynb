{
 "cells": [
  {
   "cell_type": "code",
   "execution_count": 1,
   "metadata": {
    "colab": {
     "base_uri": "https://localhost:8080/"
    },
    "executionInfo": {
     "elapsed": 17107,
     "status": "ok",
     "timestamp": 1650762480669,
     "user": {
      "displayName": "Dimitry Kirtsman",
      "userId": "11988189828040272864"
     },
     "user_tz": 420
    },
    "id": "hRVedTQ-D6EJ",
    "outputId": "9debe7d9-805c-408a-c818-71e9e0156644"
   },
   "outputs": [
    {
     "name": "stdout",
     "output_type": "stream",
     "text": [
      "\u001b[?25l\r",
      "\u001b[K     |██▌                             | 10 kB 29.2 MB/s eta 0:00:01\r",
      "\u001b[K     |█████                           | 20 kB 10.7 MB/s eta 0:00:01\r",
      "\u001b[K     |███████▍                        | 30 kB 8.8 MB/s eta 0:00:01\r",
      "\u001b[K     |█████████▉                      | 40 kB 8.1 MB/s eta 0:00:01\r",
      "\u001b[K     |████████████▎                   | 51 kB 4.2 MB/s eta 0:00:01\r",
      "\u001b[K     |██████████████▊                 | 61 kB 4.9 MB/s eta 0:00:01\r",
      "\u001b[K     |█████████████████▏              | 71 kB 5.4 MB/s eta 0:00:01\r",
      "\u001b[K     |███████████████████▋            | 81 kB 4.0 MB/s eta 0:00:01\r",
      "\u001b[K     |██████████████████████          | 92 kB 4.4 MB/s eta 0:00:01\r",
      "\u001b[K     |████████████████████████▌       | 102 kB 4.9 MB/s eta 0:00:01\r",
      "\u001b[K     |███████████████████████████     | 112 kB 4.9 MB/s eta 0:00:01\r",
      "\u001b[K     |█████████████████████████████▍  | 122 kB 4.9 MB/s eta 0:00:01\r",
      "\u001b[K     |███████████████████████████████▉| 133 kB 4.9 MB/s eta 0:00:01\r",
      "\u001b[K     |████████████████████████████████| 133 kB 4.9 MB/s \n",
      "\u001b[?25hINFO:tensorflow:Deallocate tpu buffers before initializing tpu system.\n"
     ]
    },
    {
     "name": "stderr",
     "output_type": "stream",
     "text": [
      "INFO:tensorflow:Deallocate tpu buffers before initializing tpu system.\n"
     ]
    },
    {
     "name": "stdout",
     "output_type": "stream",
     "text": [
      "INFO:tensorflow:Initializing the TPU system: grpc://10.75.129.98:8470\n"
     ]
    },
    {
     "name": "stderr",
     "output_type": "stream",
     "text": [
      "INFO:tensorflow:Initializing the TPU system: grpc://10.75.129.98:8470\n"
     ]
    },
    {
     "name": "stdout",
     "output_type": "stream",
     "text": [
      "INFO:tensorflow:Finished initializing TPU system.\n"
     ]
    },
    {
     "name": "stderr",
     "output_type": "stream",
     "text": [
      "INFO:tensorflow:Finished initializing TPU system.\n"
     ]
    },
    {
     "name": "stdout",
     "output_type": "stream",
     "text": [
      "Device: grpc://10.75.129.98:8470\n"
     ]
    }
   ],
   "source": [
    "import datetime\n",
    "import time\n",
    "import numpy as np\n",
    "import pandas as pd\n",
    "from packaging import version\n",
    "from collections import Counter\n",
    "\n",
    "from sklearn.metrics import confusion_matrix, classification_report\n",
    "from sklearn.metrics import accuracy_score\n",
    "from sklearn.metrics import mean_squared_error as MSE\n",
    "from sklearn.model_selection import train_test_split\n",
    "from sklearn.manifold import TSNE\n",
    "\n",
    "import matplotlib.pyplot as plt\n",
    "import matplotlib as mpl\n",
    "import seaborn as sns\n",
    "!pip install -q -U keras-tuner\n",
    "import keras_tuner as kt\n",
    "import tensorflow as tf\n",
    "from tensorflow import keras\n",
    "from tensorflow.keras import models, layers\n",
    "from tensorflow.keras.models import Sequential\n",
    "from tensorflow.keras.layers import Conv2D, MaxPool2D, BatchNormalization, Dropout, Flatten, Input, Dense\n",
    "from tensorflow.keras.callbacks import ModelCheckpoint, EarlyStopping\n",
    "from tensorflow.keras.preprocessing import image\n",
    "from tensorflow.keras.utils import to_categorical\n",
    "tf.keras.utils.set_random_seed(42)\n",
    "%matplotlib inline\n",
    "np.set_printoptions(precision=3, suppress=True)\n",
    "\n",
    "tpu = tf.distribute.cluster_resolver.TPUClusterResolver.connect()\n",
    "print(\"Device:\", tpu.master())"
   ]
  },
  {
   "cell_type": "code",
   "execution_count": 2,
   "metadata": {
    "colab": {
     "base_uri": "https://localhost:8080/"
    },
    "executionInfo": {
     "elapsed": 8,
     "status": "ok",
     "timestamp": 1650762480670,
     "user": {
      "displayName": "Dimitry Kirtsman",
      "userId": "11988189828040272864"
     },
     "user_tz": 420
    },
    "id": "6FoDS9G2EI8y",
    "outputId": "6352df35-18d5-4f13-f200-aec55950d354"
   },
   "outputs": [
    {
     "name": "stdout",
     "output_type": "stream",
     "text": [
      "This notebook requires TensorFlow 2.0 or above\n",
      "TensorFlow version:  2.8.0\n"
     ]
    }
   ],
   "source": [
    "print(\"This notebook requires TensorFlow 2.0 or above\")\n",
    "print(\"TensorFlow version: \", tf.__version__)\n",
    "assert version.parse(tf.__version__).release[0] >=2"
   ]
  },
  {
   "cell_type": "code",
   "execution_count": 3,
   "metadata": {
    "colab": {
     "base_uri": "https://localhost:8080/"
    },
    "executionInfo": {
     "elapsed": 5,
     "status": "ok",
     "timestamp": 1650762480670,
     "user": {
      "displayName": "Dimitry Kirtsman",
      "userId": "11988189828040272864"
     },
     "user_tz": 420
    },
    "id": "jvSH_ClREI_Q",
    "outputId": "0dbf1f5c-ebc3-4fc1-d35d-26a095c8ea83"
   },
   "outputs": [
    {
     "name": "stdout",
     "output_type": "stream",
     "text": [
      "Keras version:  2.8.0\n"
     ]
    }
   ],
   "source": [
    "print(\"Keras version: \", keras.__version__)"
   ]
  },
  {
   "cell_type": "code",
   "execution_count": 4,
   "metadata": {
    "colab": {
     "base_uri": "https://localhost:8080/"
    },
    "executionInfo": {
     "elapsed": 16868,
     "status": "ok",
     "timestamp": 1650762497534,
     "user": {
      "displayName": "Dimitry Kirtsman",
      "userId": "11988189828040272864"
     },
     "user_tz": 420
    },
    "id": "mNQpZd4nEJBh",
    "outputId": "d2320b76-c0d6-468d-dcb2-95719cd31519"
   },
   "outputs": [
    {
     "name": "stdout",
     "output_type": "stream",
     "text": [
      "Mounted at /content/gdrive\n"
     ]
    }
   ],
   "source": [
    "#mounting Google Drive\n",
    "from google.colab import drive\n",
    "drive.mount('/content/gdrive')"
   ]
  },
  {
   "cell_type": "code",
   "execution_count": 5,
   "metadata": {
    "colab": {
     "base_uri": "https://localhost:8080/"
    },
    "executionInfo": {
     "elapsed": 3942,
     "status": "ok",
     "timestamp": 1650762501469,
     "user": {
      "displayName": "Dimitry Kirtsman",
      "userId": "11988189828040272864"
     },
     "user_tz": 420
    },
    "id": "PPExqJzYEJEA",
    "outputId": "b47c3fca-540f-47d6-f71e-de2579b4c58c"
   },
   "outputs": [
    {
     "name": "stdout",
     "output_type": "stream",
     "text": [
      "Downloading data from https://www.cs.toronto.edu/~kriz/cifar-10-python.tar.gz\n",
      "170500096/170498071 [==============================] - 2s 0us/step\n",
      "170508288/170498071 [==============================] - 2s 0us/step\n"
     ]
    }
   ],
   "source": [
    "#getting dataset\n",
    "(x_train, y_train), (x_test, y_test) = keras.datasets.cifar10.load_data()"
   ]
  },
  {
   "cell_type": "code",
   "execution_count": 6,
   "metadata": {
    "colab": {
     "base_uri": "https://localhost:8080/"
    },
    "executionInfo": {
     "elapsed": 6,
     "status": "ok",
     "timestamp": 1650762501469,
     "user": {
      "displayName": "Dimitry Kirtsman",
      "userId": "11988189828040272864"
     },
     "user_tz": 420
    },
    "id": "dKNP-y2dEJGh",
    "outputId": "7fb53113-a1a4-41e9-d06a-66e9a41cc6e8"
   },
   "outputs": [
    {
     "name": "stdout",
     "output_type": "stream",
     "text": [
      "train_images:\t(50000, 32, 32, 3)\n",
      "train_labels:\t(50000, 1)\n",
      "test_images:\t(10000, 32, 32, 3)\n",
      "test_labels:\t(10000, 1)\n"
     ]
    }
   ],
   "source": [
    "#checking train and test size\n",
    "print('train_images:\\t{}'.format(x_train.shape))\n",
    "print('train_labels:\\t{}'.format(y_train.shape))\n",
    "print('test_images:\\t{}'.format(x_test.shape))\n",
    "print('test_labels:\\t{}'.format(y_test.shape))"
   ]
  },
  {
   "cell_type": "code",
   "execution_count": 6,
   "metadata": {
    "executionInfo": {
     "elapsed": 5,
     "status": "ok",
     "timestamp": 1650762501469,
     "user": {
      "displayName": "Dimitry Kirtsman",
      "userId": "11988189828040272864"
     },
     "user_tz": 420
    },
    "id": "hDzZK1FxEJI4"
   },
   "outputs": [],
   "source": []
  },
  {
   "cell_type": "markdown",
   "metadata": {
    "id": "D4VggkK4GNQR"
   },
   "source": [
    "# EDA"
   ]
  },
  {
   "cell_type": "code",
   "execution_count": 7,
   "metadata": {
    "colab": {
     "base_uri": "https://localhost:8080/"
    },
    "executionInfo": {
     "elapsed": 5,
     "status": "ok",
     "timestamp": 1650762501470,
     "user": {
      "displayName": "Dimitry Kirtsman",
      "userId": "11988189828040272864"
     },
     "user_tz": 420
    },
    "id": "oW9Q5cDxEJP5",
    "outputId": "b40e7d99-1410-47ea-e2ff-5b4ac0f5a4a0"
   },
   "outputs": [
    {
     "name": "stdout",
     "output_type": "stream",
     "text": [
      "First ten labels training dataset:\n",
      " [[6]\n",
      " [9]\n",
      " [9]\n",
      " [4]\n",
      " [1]\n",
      " [1]\n",
      " [2]\n",
      " [7]\n",
      " [8]\n",
      " [3]]\n",
      "\n"
     ]
    }
   ],
   "source": [
    "#Look at labels for training set- they are numeric\n",
    "print(\"First ten labels training dataset:\\n {}\\n\".format(y_train[0:10]))"
   ]
  },
  {
   "cell_type": "code",
   "execution_count": 8,
   "metadata": {
    "executionInfo": {
     "elapsed": 3,
     "status": "ok",
     "timestamp": 1650762501470,
     "user": {
      "displayName": "Dimitry Kirtsman",
      "userId": "11988189828040272864"
     },
     "user_tz": 420
    },
    "id": "3VjcmH7xEJSZ"
   },
   "outputs": [],
   "source": [
    "#plotting some of the pictures from the dataset\n",
    "def get_three_classes(x, y):\n",
    "    def indices_of(class_id):\n",
    "        indices, _ = np.where(y == float(class_id))\n",
    "        return indices\n",
    "\n",
    "    indices = np.concatenate([indices_of(0), indices_of(1), indices_of(2)], axis=0)\n",
    "    \n",
    "    x = x[indices]\n",
    "    y = y[indices]\n",
    "    \n",
    "    count = x.shape[0]\n",
    "    indices = np.random.choice(range(count), count, replace=False)\n",
    "    \n",
    "    x = x[indices]\n",
    "    y = y[indices]\n",
    "    \n",
    "    y = tf.keras.utils.to_categorical(y)\n",
    "    \n",
    "    return x, y"
   ]
  },
  {
   "cell_type": "code",
   "execution_count": 9,
   "metadata": {
    "executionInfo": {
     "elapsed": 796,
     "status": "ok",
     "timestamp": 1650762502263,
     "user": {
      "displayName": "Dimitry Kirtsman",
      "userId": "11988189828040272864"
     },
     "user_tz": 420
    },
    "id": "yjLW4NB9EJUY"
   },
   "outputs": [],
   "source": [
    "(train_images, train_labels),(test_images, test_labels)= tf.keras.datasets.cifar10.load_data()"
   ]
  },
  {
   "cell_type": "code",
   "execution_count": 10,
   "metadata": {
    "executionInfo": {
     "elapsed": 6,
     "status": "ok",
     "timestamp": 1650762502264,
     "user": {
      "displayName": "Dimitry Kirtsman",
      "userId": "11988189828040272864"
     },
     "user_tz": 420
    },
    "id": "zOq_le6FHKkj"
   },
   "outputs": [],
   "source": [
    "x_preview, y_preview = get_three_classes(train_images, train_labels)\n",
    "x_preview, y_preview = get_three_classes(test_images, test_labels)"
   ]
  },
  {
   "cell_type": "code",
   "execution_count": 11,
   "metadata": {
    "colab": {
     "base_uri": "https://localhost:8080/",
     "height": 288
    },
    "executionInfo": {
     "elapsed": 477,
     "status": "ok",
     "timestamp": 1650762502737,
     "user": {
      "displayName": "Dimitry Kirtsman",
      "userId": "11988189828040272864"
     },
     "user_tz": 420
    },
    "id": "xEWvKZ7QHKm6",
    "outputId": "479a6495-9c56-4375-ef0f-6da00fd8821c"
   },
   "outputs": [
    {
     "data": {
      "image/png": "[encoded data removed]",
      "text/plain": [
       "<Figure size 720x360 with 10 Axes>"
      ]
     },
     "metadata": {},
     "output_type": "display_data"
    }
   ],
   "source": [
    "class_names_preview = ['aeroplane', 'car', 'bird']\n",
    "\n",
    "def show_random_examples(x, y, p):\n",
    "    indices = np.random.choice(range(x.shape[0]), 10, replace=False)\n",
    "    \n",
    "    x = x[indices]\n",
    "    y = y[indices]\n",
    "    p = p[indices]\n",
    "    \n",
    "    plt.figure(figsize=(10, 5))\n",
    "    for i in range(10):\n",
    "        plt.subplot(2, 5, i + 1)\n",
    "        plt.imshow(x[i])\n",
    "        plt.xticks([])\n",
    "        plt.yticks([])\n",
    "        col = 'green' if np.argmax(y[i]) == np.argmax(p[i]) else 'red'\n",
    "        plt.xlabel(class_names_preview[np.argmax(p[i])], color=col)\n",
    "    plt.show()\n",
    "\n",
    "show_random_examples(x_preview, y_preview, y_preview)"
   ]
  },
  {
   "cell_type": "code",
   "execution_count": 11,
   "metadata": {
    "executionInfo": {
     "elapsed": 3,
     "status": "ok",
     "timestamp": 1650762502738,
     "user": {
      "displayName": "Dimitry Kirtsman",
      "userId": "11988189828040272864"
     },
     "user_tz": 420
    },
    "id": "LPUK29FIHKpa"
   },
   "outputs": [],
   "source": []
  },
  {
   "cell_type": "markdown",
   "metadata": {
    "id": "Fj7LlZXWII5v"
   },
   "source": [
    "# Data Preprocessing"
   ]
  },
  {
   "cell_type": "code",
   "execution_count": 12,
   "metadata": {
    "executionInfo": {
     "elapsed": 7,
     "status": "ok",
     "timestamp": 1650762502902,
     "user": {
      "displayName": "Dimitry Kirtsman",
      "userId": "11988189828040272864"
     },
     "user_tz": 420
    },
    "id": "Z1jEwhuOHgfi"
   },
   "outputs": [],
   "source": [
    "#use train_test_split to create validation set.\n",
    "x_train_split, x_valid_split, y_train_split, y_valid_split = train_test_split(x_train\n",
    "                                                                              ,y_train\n",
    "                                                                              ,test_size=.1\n",
    "                                                                              ,random_state=10\n",
    "                                                                              ,shuffle=True)"
   ]
  },
  {
   "cell_type": "code",
   "execution_count": 13,
   "metadata": {
    "colab": {
     "base_uri": "https://localhost:8080/"
    },
    "executionInfo": {
     "elapsed": 6,
     "status": "ok",
     "timestamp": 1650762502902,
     "user": {
      "displayName": "Dimitry Kirtsman",
      "userId": "11988189828040272864"
     },
     "user_tz": 420
    },
    "id": "tkVWQ1n2Hgh6",
    "outputId": "5ddbdce1-fe64-42b6-8719-df1f4576faee"
   },
   "outputs": [
    {
     "name": "stdout",
     "output_type": "stream",
     "text": [
      "(45000, 32, 32, 3) (5000, 32, 32, 3) (10000, 32, 32, 3)\n"
     ]
    }
   ],
   "source": [
    "#looking at train, validation and test set shapes\n",
    "print(x_train_split.shape, x_valid_split.shape, x_test.shape)"
   ]
  },
  {
   "cell_type": "code",
   "execution_count": 14,
   "metadata": {
    "executionInfo": {
     "elapsed": 471,
     "status": "ok",
     "timestamp": 1650762503369,
     "user": {
      "displayName": "Dimitry Kirtsman",
      "userId": "11988189828040272864"
     },
     "user_tz": 420
    },
    "id": "NX3BpfQWJRFo"
   },
   "outputs": [],
   "source": [
    "#scaling the train, validation and test sets by 255. Equivelant to min_max scaling\n",
    "\n",
    "x_train_norm = x_train_split/255\n",
    "x_valid_norm = x_valid_split/255\n",
    "x_test_norm = x_test/255"
   ]
  },
  {
   "cell_type": "code",
   "execution_count": 14,
   "metadata": {
    "executionInfo": {
     "elapsed": 7,
     "status": "ok",
     "timestamp": 1650762503369,
     "user": {
      "displayName": "Dimitry Kirtsman",
      "userId": "11988189828040272864"
     },
     "user_tz": 420
    },
    "id": "M8xGmK_GJRII"
   },
   "outputs": [],
   "source": []
  },
  {
   "cell_type": "markdown",
   "metadata": {
    "id": "5rRVNorpKQnM"
   },
   "source": [
    "# Helpful Model Fitting and Results Functions"
   ]
  },
  {
   "cell_type": "code",
   "execution_count": 14,
   "metadata": {
    "executionInfo": {
     "elapsed": 5,
     "status": "ok",
     "timestamp": 1650762503369,
     "user": {
      "displayName": "Dimitry Kirtsman",
      "userId": "11988189828040272864"
     },
     "user_tz": 420
    },
    "id": "AdR4YftkX8fQ"
   },
   "outputs": [],
   "source": []
  },
  {
   "cell_type": "code",
   "execution_count": 15,
   "metadata": {
    "executionInfo": {
     "elapsed": 4,
     "status": "ok",
     "timestamp": 1650762503369,
     "user": {
      "displayName": "Dimitry Kirtsman",
      "userId": "11988189828040272864"
     },
     "user_tz": 420
    },
    "id": "3LrzjRnrX8iX"
   },
   "outputs": [],
   "source": [
    "#creating callback class to get the amount of seconds each epoch takes. Code from:\n",
    "#https://stackoverflow.com/questions/43178668/record-the-computation-time-for-each-epoch-in-keras-during-model-fit\n",
    "\n",
    "class EpochTimeHistory(keras.callbacks.Callback):\n",
    "    def on_train_begin(self, logs={}):\n",
    "        self.times = []\n",
    "\n",
    "    def on_epoch_begin(self, batch, logs={}):\n",
    "        self.epoch_time_start = time.time()\n",
    "\n",
    "    def on_epoch_end(self, batch, logs={}):\n",
    "        self.times.append(time.time() - self.epoch_time_start)\n"
   ]
  },
  {
   "cell_type": "code",
   "execution_count": 16,
   "metadata": {
    "executionInfo": {
     "elapsed": 4,
     "status": "ok",
     "timestamp": 1650762503370,
     "user": {
      "displayName": "Dimitry Kirtsman",
      "userId": "11988189828040272864"
     },
     "user_tz": 420
    },
    "id": "s-_zrfnNKYG6"
   },
   "outputs": [],
   "source": [
    "def compile_train_model(model, x_train, y_train, x_valid, y_valid, model_num, epochs=100, patience=3):\n",
    "    timestamp=int(time.time())\n",
    "    epoch_times=EpochTimeHistory()\n",
    "  \n",
    "    # Compile\n",
    "    model.compile(optimizer='adam',\n",
    "                loss = 'SparseCategoricalCrossentropy',\n",
    "                metrics=['accuracy'])\n",
    "\n",
    "  # Train\n",
    "    start_time = time.time()\n",
    "    history = model.fit(\n",
    "      x_train,\n",
    "      y_train,\n",
    "      epochs=epochs,\n",
    "      batch_size=512,\n",
    "      validation_data=(x_valid, y_valid),\n",
    "      verbose=1,\n",
    "      callbacks=[    \n",
    "          EarlyStopping(monitor='val_accuracy', patience=patience, restore_best_weights=True, verbose=0),\n",
    "     \n",
    "        epoch_times]\n",
    "       )\n",
    "    end_time = time.time()\n",
    "    second_elapsed = round(end_time - start_time)\n",
    "    epoch_times_values =epoch_times.times\n",
    "    print(\"\\n\")\n",
    "    print(f'Finished model training in {second_elapsed}s')\n",
    "    print(f'Average time to run each epoch is: {  np.round(np.mean(epoch_times.times[1:-1]),4) }') \n",
    "                                                                      \n",
    "  \n",
    "\n",
    "    return history, model"
   ]
  },
  {
   "cell_type": "code",
   "execution_count": 17,
   "metadata": {
    "executionInfo": {
     "elapsed": 3,
     "status": "ok",
     "timestamp": 1650762503370,
     "user": {
      "displayName": "Dimitry Kirtsman",
      "userId": "11988189828040272864"
     },
     "user_tz": 420
    },
    "id": "dGVokoYVKYJi"
   },
   "outputs": [],
   "source": [
    "#Classificatin report function\n",
    "def print_validation_report(test_labels, predictions):\n",
    "    print(\"Classification Report\")\n",
    "    print(classification_report(test_labels, predictions))\n",
    "    print('Accuracy Score: {}'.format(accuracy_score(test_labels, predictions)))\n",
    "    print('Root Mean Square Error: {}'.format(np.sqrt(MSE(test_labels, predictions))))#included per class instruction "
   ]
  },
  {
   "cell_type": "code",
   "execution_count": 17,
   "metadata": {
    "executionInfo": {
     "elapsed": 3,
     "status": "ok",
     "timestamp": 1650762503370,
     "user": {
      "displayName": "Dimitry Kirtsman",
      "userId": "11988189828040272864"
     },
     "user_tz": 420
    },
    "id": "LCySGp9FKYOi"
   },
   "outputs": [],
   "source": []
  },
  {
   "cell_type": "code",
   "execution_count": 18,
   "metadata": {
    "executionInfo": {
     "elapsed": 3,
     "status": "ok",
     "timestamp": 1650762503370,
     "user": {
      "displayName": "Dimitry Kirtsman",
      "userId": "11988189828040272864"
     },
     "user_tz": 420
    },
    "id": "lQhqv0DaKYR6"
   },
   "outputs": [],
   "source": [
    "#function to print out training and validation set loss and accuracy values of the best model\n",
    "def loss_accuracy_values(model_history, model_num, epochs, patience=3):  \n",
    "  if len(model_history.history[\"val_loss\"])==epochs:\n",
    "      print(\"Model Experiment {} Training Loss: \".format(model_num),np.round(model_history.history[\"loss\"][-1],4))\n",
    "      print(\"Model Experiment {} Training Accuracy: \".format(model_num),np.round(model_history.history[\"accuracy\"][-1],4))\n",
    "      print(\"Model Experiment {}  Validation Loss: \".format(model_num),np.round(model_history.history[\"val_loss\"][-1],4))\n",
    "      print(\"Model Experiment {}  Validation Accuracy: \".format(model_num),np.round(model_history.history[\"val_accuracy\"][-1],4))\n",
    "  else:\n",
    "      print(\"Model Experiment {}  Training Loss: \".format(model_num),np.round(model_history.history[\"loss\"][-(1+patience)],4))\n",
    "      print(\"Model Experiment {}  Training Accuracy: \".format(model_num),np.round(model_history.history[\"accuracy\"][-(1+patience)],4))\n",
    "      print(\"Model Experiment {}  Validation Loss: \".format(model_num), np.round(model_history.history[\"val_loss\"][-(1+patience)],4))\n",
    "      print(\"Model Experiment {}  Validation Accuracy:\".format(model_num), np.round(model_history.history[\"val_accuracy\"][-(1+patience)],4)) "
   ]
  },
  {
   "cell_type": "code",
   "execution_count": 19,
   "metadata": {
    "executionInfo": {
     "elapsed": 187,
     "status": "ok",
     "timestamp": 1650762503554,
     "user": {
      "displayName": "Dimitry Kirtsman",
      "userId": "11988189828040272864"
     },
     "user_tz": 420
    },
    "id": "QOaZ_ewHKYUq"
   },
   "outputs": [],
   "source": [
    "#creating function for charts of train vs validation accuracy and loss functions\n",
    "def train_val_accuracy_and_loss_charts(model_history, model_num):\n",
    "    model_df=pd.DataFrame(model_history.history)\n",
    "\n",
    "    model_df[[\"loss\",\"val_loss\"]].plot(figsize=(9,7))\n",
    "    plt.grid(True)\n",
    "    plt.title(\"Model Experiment {}: Train vs. Validation - Loss\".format(model_num), size =17)\n",
    "    plt.xlabel(\"Epochs\", size=15)\n",
    "\n",
    "    model_df[[\"accuracy\",\"val_accuracy\"]].plot(figsize=(9,7))\n",
    "    plt.grid(True)\n",
    "    plt.title(\"Model Experiment {}: Train vs. Validation - Accuracy\".format(model_num), size =17)\n",
    "    plt.xlabel(\"Epochs\", size=15)\n",
    "\n",
    "    plt.show()    "
   ]
  },
  {
   "cell_type": "code",
   "execution_count": 20,
   "metadata": {
    "executionInfo": {
     "elapsed": 16,
     "status": "ok",
     "timestamp": 1650762503554,
     "user": {
      "displayName": "Dimitry Kirtsman",
      "userId": "11988189828040272864"
     },
     "user_tz": 420
    },
    "id": "HOatJjgzPYol"
   },
   "outputs": [],
   "source": [
    "# Function for creating multi-class confusion matrix\n",
    "\n",
    "#class names for confusion matrix\n",
    "class_names = ['airplane'\n",
    ",'automobile'\n",
    ",'bird'\n",
    ",'cat'\n",
    ",'deer'\n",
    ",'dog'\n",
    ",'frog' \n",
    ",'horse'\n",
    ",'ship'\n",
    ",'truck']\n",
    "\n",
    "\n",
    "\n",
    "def confusion_matrix_multi_class(model_for_matrix,test_set, actual_test_labels, model_num):\n",
    "    #predicting test set with model for confusion matrix and setting as sparse with argmax\n",
    "    confusion_matrix_predictions=model_for_matrix.predict(test_set).argmax(axis=1)\n",
    "\n",
    "\n",
    "\n",
    "    #creating confusion matrix - using test set labels as they were already sparse before one-hot encoding\n",
    "    confusion_matrix_for_model = confusion_matrix( actual_test_labels ,  confusion_matrix_predictions)\n",
    "\n",
    "\n",
    "    confusion_matrix_df = pd.DataFrame(confusion_matrix_for_model,\n",
    "                     #index = [0,1,2,3,4,5,6,7,8,9], \n",
    "                     #columns = [0,1,2,3,4,5,6,7,8,9]\n",
    "                     index=class_names,\n",
    "                     columns=class_names)\n",
    "\n",
    "    #Plotting the confusion matrix\n",
    "    plt.figure(figsize=(10,8))\n",
    "    sns.heatmap(confusion_matrix_df, annot=True, fmt=\"d\", cmap=\"rocket_r\")\n",
    "    plt.title('Confusion Matrix - Model Experiment {}'.format(model_num), size=17)\n",
    "    plt.ylabel('Actual Labels', size=15)\n",
    "    plt.xlabel('Predicted Labels',size=15)\n",
    "    plt.xticks(fontsize=15)\n",
    "    plt.yticks(fontsize=15)\n",
    "    plt.show()"
   ]
  },
  {
   "cell_type": "code",
   "execution_count": 20,
   "metadata": {
    "executionInfo": {
     "elapsed": 14,
     "status": "ok",
     "timestamp": 1650762503555,
     "user": {
      "displayName": "Dimitry Kirtsman",
      "userId": "11988189828040272864"
     },
     "user_tz": 420
    },
    "id": "fGd7eO1ZKYrK"
   },
   "outputs": [],
   "source": []
  },
  {
   "cell_type": "markdown",
   "metadata": {
    "id": "JhlAXR7VldKp"
   },
   "source": [
    "# Experiment 5b_1 - Hyperparameter Tuning with ANN architecture"
   ]
  },
  {
   "cell_type": "code",
   "execution_count": 20,
   "metadata": {
    "executionInfo": {
     "elapsed": 13,
     "status": "ok",
     "timestamp": 1650762503555,
     "user": {
      "displayName": "Dimitry Kirtsman",
      "userId": "11988189828040272864"
     },
     "user_tz": 420
    },
    "id": "M8SzFvmhk19D"
   },
   "outputs": [],
   "source": []
  },
  {
   "cell_type": "code",
   "execution_count": 21,
   "metadata": {
    "colab": {
     "base_uri": "https://localhost:8080/"
    },
    "executionInfo": {
     "elapsed": 12,
     "status": "ok",
     "timestamp": 1650762503555,
     "user": {
      "displayName": "Dimitry Kirtsman",
      "userId": "11988189828040272864"
     },
     "user_tz": 420
    },
    "id": "6xlw9HnDlWFm",
    "outputId": "349836a4-f640-48b9-ff9d-5bb2d187e063"
   },
   "outputs": [
    {
     "data": {
      "text/plain": [
       "<keras.engine.sequential.Sequential at 0x7f25cc0f0750>"
      ]
     },
     "execution_count": 21,
     "metadata": {},
     "output_type": "execute_result"
    }
   ],
   "source": [
    "#Experiment 5b_1 model \n",
    "#create model for KerasTuner hyperparameter testing\n",
    "def create_model_exp_5b_1(hp):\n",
    "    \n",
    "    model=Sequential()\n",
    "    model.add(Flatten(input_shape=(32,32,3)))\n",
    "    #tunning for a choice of 2 or 3 hidden layers\n",
    "    for i in range(hp.Int(\"number_layers\",2,3)):\n",
    "        #within each layer testing for a min of 32 nodes, a max of 256 nodes and any in between by \n",
    "        #multiples of 32. Also testing for activation of \"relu\" or \"tanh\"\n",
    "        model.add(Dense(units=hp.Int(f\"nodes_{i}\", min_value=32, max_value=256, step=32),\n",
    "                        activation=hp.Choice(\"activation_{}\".format(i), [\"relu\", \"tanh\"])))\n",
    "        #testing for dropout of values 0.1 to 0.4 by increments of 0.1 after every hidden layer\n",
    "        model.add(Dropout (hp.Float(\"dropout_{}\".format(i), min_value=0.10, max_value=0.40, step=0.10)))\n",
    "    model.add(Dense(10, activation=\"softmax\"))    \n",
    "    \n",
    "    #testing for optimizer choice of adam, sgd, or rmsprop\n",
    "    model.compile(optimizer=hp.Choice(\"optimizer\", [\"adam\", \"sgd\", \"rmsprop\"]), \\\n",
    "                                            loss=\"sparse_categorical_crossentropy\", metrics=[\"accuracy\"])\n",
    "    \n",
    "    return model\n",
    "\n",
    "create_model_exp_5b_1(kt.HyperParameters())\n"
   ]
  },
  {
   "cell_type": "code",
   "execution_count": 22,
   "metadata": {
    "colab": {
     "base_uri": "https://localhost:8080/"
    },
    "executionInfo": {
     "elapsed": 1018,
     "status": "ok",
     "timestamp": 1650762504563,
     "user": {
      "displayName": "Dimitry Kirtsman",
      "userId": "11988189828040272864"
     },
     "user_tz": 420
    },
    "id": "apoE8V_1hTo2",
    "outputId": "ec8cbe63-be8d-4620-8ff0-d4ee1baa77a4"
   },
   "outputs": [
    {
     "name": "stdout",
     "output_type": "stream",
     "text": [
      "INFO:tensorflow:Found TPU system:\n"
     ]
    },
    {
     "name": "stderr",
     "output_type": "stream",
     "text": [
      "INFO:tensorflow:Found TPU system:\n"
     ]
    },
    {
     "name": "stdout",
     "output_type": "stream",
     "text": [
      "INFO:tensorflow:*** Num TPU Cores: 8\n"
     ]
    },
    {
     "name": "stderr",
     "output_type": "stream",
     "text": [
      "INFO:tensorflow:*** Num TPU Cores: 8\n"
     ]
    },
    {
     "name": "stdout",
     "output_type": "stream",
     "text": [
      "INFO:tensorflow:*** Num TPU Workers: 1\n"
     ]
    },
    {
     "name": "stderr",
     "output_type": "stream",
     "text": [
      "INFO:tensorflow:*** Num TPU Workers: 1\n"
     ]
    },
    {
     "name": "stdout",
     "output_type": "stream",
     "text": [
      "INFO:tensorflow:*** Num TPU Cores Per Worker: 8\n"
     ]
    },
    {
     "name": "stderr",
     "output_type": "stream",
     "text": [
      "INFO:tensorflow:*** Num TPU Cores Per Worker: 8\n"
     ]
    },
    {
     "name": "stdout",
     "output_type": "stream",
     "text": [
      "INFO:tensorflow:*** Available Device: _DeviceAttributes(/job:localhost/replica:0/task:0/device:CPU:0, CPU, 0, 0)\n"
     ]
    },
    {
     "name": "stderr",
     "output_type": "stream",
     "text": [
      "INFO:tensorflow:*** Available Device: _DeviceAttributes(/job:localhost/replica:0/task:0/device:CPU:0, CPU, 0, 0)\n"
     ]
    },
    {
     "name": "stdout",
     "output_type": "stream",
     "text": [
      "INFO:tensorflow:*** Available Device: _DeviceAttributes(/job:worker/replica:0/task:0/device:CPU:0, CPU, 0, 0)\n"
     ]
    },
    {
     "name": "stderr",
     "output_type": "stream",
     "text": [
      "INFO:tensorflow:*** Available Device: _DeviceAttributes(/job:worker/replica:0/task:0/device:CPU:0, CPU, 0, 0)\n"
     ]
    },
    {
     "name": "stdout",
     "output_type": "stream",
     "text": [
      "INFO:tensorflow:*** Available Device: _DeviceAttributes(/job:worker/replica:0/task:0/device:TPU:0, TPU, 0, 0)\n"
     ]
    },
    {
     "name": "stderr",
     "output_type": "stream",
     "text": [
      "INFO:tensorflow:*** Available Device: _DeviceAttributes(/job:worker/replica:0/task:0/device:TPU:0, TPU, 0, 0)\n"
     ]
    },
    {
     "name": "stdout",
     "output_type": "stream",
     "text": [
      "INFO:tensorflow:*** Available Device: _DeviceAttributes(/job:worker/replica:0/task:0/device:TPU:1, TPU, 0, 0)\n"
     ]
    },
    {
     "name": "stderr",
     "output_type": "stream",
     "text": [
      "INFO:tensorflow:*** Available Device: _DeviceAttributes(/job:worker/replica:0/task:0/device:TPU:1, TPU, 0, 0)\n"
     ]
    },
    {
     "name": "stdout",
     "output_type": "stream",
     "text": [
      "INFO:tensorflow:*** Available Device: _DeviceAttributes(/job:worker/replica:0/task:0/device:TPU:2, TPU, 0, 0)\n"
     ]
    },
    {
     "name": "stderr",
     "output_type": "stream",
     "text": [
      "INFO:tensorflow:*** Available Device: _DeviceAttributes(/job:worker/replica:0/task:0/device:TPU:2, TPU, 0, 0)\n"
     ]
    },
    {
     "name": "stdout",
     "output_type": "stream",
     "text": [
      "INFO:tensorflow:*** Available Device: _DeviceAttributes(/job:worker/replica:0/task:0/device:TPU:3, TPU, 0, 0)\n"
     ]
    },
    {
     "name": "stderr",
     "output_type": "stream",
     "text": [
      "INFO:tensorflow:*** Available Device: _DeviceAttributes(/job:worker/replica:0/task:0/device:TPU:3, TPU, 0, 0)\n"
     ]
    },
    {
     "name": "stdout",
     "output_type": "stream",
     "text": [
      "INFO:tensorflow:*** Available Device: _DeviceAttributes(/job:worker/replica:0/task:0/device:TPU:4, TPU, 0, 0)\n"
     ]
    },
    {
     "name": "stderr",
     "output_type": "stream",
     "text": [
      "INFO:tensorflow:*** Available Device: _DeviceAttributes(/job:worker/replica:0/task:0/device:TPU:4, TPU, 0, 0)\n"
     ]
    },
    {
     "name": "stdout",
     "output_type": "stream",
     "text": [
      "INFO:tensorflow:*** Available Device: _DeviceAttributes(/job:worker/replica:0/task:0/device:TPU:5, TPU, 0, 0)\n"
     ]
    },
    {
     "name": "stderr",
     "output_type": "stream",
     "text": [
      "INFO:tensorflow:*** Available Device: _DeviceAttributes(/job:worker/replica:0/task:0/device:TPU:5, TPU, 0, 0)\n"
     ]
    },
    {
     "name": "stdout",
     "output_type": "stream",
     "text": [
      "INFO:tensorflow:*** Available Device: _DeviceAttributes(/job:worker/replica:0/task:0/device:TPU:6, TPU, 0, 0)\n"
     ]
    },
    {
     "name": "stderr",
     "output_type": "stream",
     "text": [
      "INFO:tensorflow:*** Available Device: _DeviceAttributes(/job:worker/replica:0/task:0/device:TPU:6, TPU, 0, 0)\n"
     ]
    },
    {
     "name": "stdout",
     "output_type": "stream",
     "text": [
      "INFO:tensorflow:*** Available Device: _DeviceAttributes(/job:worker/replica:0/task:0/device:TPU:7, TPU, 0, 0)\n"
     ]
    },
    {
     "name": "stderr",
     "output_type": "stream",
     "text": [
      "INFO:tensorflow:*** Available Device: _DeviceAttributes(/job:worker/replica:0/task:0/device:TPU:7, TPU, 0, 0)\n"
     ]
    },
    {
     "name": "stdout",
     "output_type": "stream",
     "text": [
      "INFO:tensorflow:*** Available Device: _DeviceAttributes(/job:worker/replica:0/task:0/device:TPU_SYSTEM:0, TPU_SYSTEM, 0, 0)\n"
     ]
    },
    {
     "name": "stderr",
     "output_type": "stream",
     "text": [
      "INFO:tensorflow:*** Available Device: _DeviceAttributes(/job:worker/replica:0/task:0/device:TPU_SYSTEM:0, TPU_SYSTEM, 0, 0)\n"
     ]
    },
    {
     "name": "stdout",
     "output_type": "stream",
     "text": [
      "INFO:tensorflow:*** Available Device: _DeviceAttributes(/job:worker/replica:0/task:0/device:XLA_CPU:0, XLA_CPU, 0, 0)\n"
     ]
    },
    {
     "name": "stderr",
     "output_type": "stream",
     "text": [
      "INFO:tensorflow:*** Available Device: _DeviceAttributes(/job:worker/replica:0/task:0/device:XLA_CPU:0, XLA_CPU, 0, 0)\n"
     ]
    }
   ],
   "source": [
    "#create tpu strategy\n",
    "strategy_5b_1 = tf.distribute.TPUStrategy(tpu) \n",
    "#Bayesian Optimization Algorithm for KerasTuner\n",
    "tuner_exp_5b_1 = kt.BayesianOptimization(\n",
    "    hypermodel=create_model_exp_5b_1,\n",
    "    objective=\"val_accuracy\",\n",
    "    max_trials=20,\n",
    "    overwrite=True,\n",
    "    distribution_strategy=strategy_5b_1,\n",
    "    directory='/content/gdrive/My Drive/Colab Notebooks/MSDS_458_Assignment_2/keras_tuner_out',\n",
    "    project_name=\"exp_5b_1\")\n"
   ]
  },
  {
   "cell_type": "code",
   "execution_count": 23,
   "metadata": {
    "colab": {
     "base_uri": "https://localhost:8080/"
    },
    "executionInfo": {
     "elapsed": 2236722,
     "status": "ok",
     "timestamp": 1650764741281,
     "user": {
      "displayName": "Dimitry Kirtsman",
      "userId": "11988189828040272864"
     },
     "user_tz": 420
    },
    "id": "P5gUt6s3lWFq",
    "outputId": "7f610c79-7914-43d2-d9e0-32c14cb9015d"
   },
   "outputs": [
    {
     "name": "stdout",
     "output_type": "stream",
     "text": [
      "Trial 20 Complete [00h 01m 14s]\n",
      "val_accuracy: 0.5083999633789062\n",
      "\n",
      "Best val_accuracy So Far: 0.5231999754905701\n",
      "Total elapsed time: 00h 37m 15s\n",
      "INFO:tensorflow:Oracle triggered exit\n"
     ]
    },
    {
     "name": "stderr",
     "output_type": "stream",
     "text": [
      "INFO:tensorflow:Oracle triggered exit\n"
     ]
    }
   ],
   "source": [
    "#setting epochs, patience and early stopping\n",
    "epochs=100\n",
    "patience=3\n",
    "model_number=\"5b_1\"\n",
    "early_stopping= EarlyStopping(patience=patience, restore_best_weights=True )\n",
    "\n",
    "#tunning the model\n",
    "tuner_exp_5b_1.search(x_train_norm, y_train_split, epochs=epochs, batch_size=512, validation_data=(x_valid_norm, y_valid_split), callbacks= [early_stopping])\n"
   ]
  },
  {
   "cell_type": "code",
   "execution_count": 24,
   "metadata": {
    "colab": {
     "base_uri": "https://localhost:8080/"
    },
    "executionInfo": {
     "elapsed": 11,
     "status": "ok",
     "timestamp": 1650764741281,
     "user": {
      "displayName": "Dimitry Kirtsman",
      "userId": "11988189828040272864"
     },
     "user_tz": 420
    },
    "id": "cckBr0v5k2Kp",
    "outputId": "6249de09-91c3-448f-f70e-596670e752b8"
   },
   "outputs": [
    {
     "name": "stdout",
     "output_type": "stream",
     "text": [
      "Number of layers: 2\n",
      "\n",
      "\n",
      "Number of nodes in layer_0: 256\n",
      "Activation function for layer_0: relu\n",
      "Dropout in layer_0: 0.1\n",
      "\n",
      "\n",
      "Number of nodes in layer_1: 96\n",
      "Activation function for layer_1: tanh\n",
      "Dropout in layer_1: 0.1\n",
      "\n",
      "\n",
      "Optimizer Used: adam\n"
     ]
    }
   ],
   "source": [
    "#getting best hyperparameters\n",
    "best_hyper_parameters_exp_5b_1=tuner_exp_5b_1.get_best_hyperparameters(num_trials=1)[0]\n",
    "\n",
    "#function to print out best parameters depending on how many hidden layers there are\n",
    "def best_model_hyperparameters_exp_5b_1(bhp):\n",
    "    num_layers=bhp.get('number_layers')\n",
    "    print(\"Number of layers: {}\".format(num_layers))\n",
    "    print(\"\\n\")\n",
    "    for i in range(0,num_layers):\n",
    "        print(\"Number of nodes in layer_{}:\".format(i), bhp.get(\"nodes_{}\".format(i)))\n",
    "        print(\"Activation function for layer_{}:\".format(i), bhp.get(\"activation_{}\".format(i)))\n",
    "        print(\"Dropout in layer_{}:\".format(i), bhp.get(\"dropout_{}\".format(i)))\n",
    "        print(\"\\n\")\n",
    "    print(\"Optimizer Used: {}\".format(bhp.get('optimizer')))                                                           \n",
    "\n",
    "#printing out best model hyperparameters\n",
    "best_model_hyperparameters_exp_5b_1(best_hyper_parameters_exp_5b_1)                                                              \n"
   ]
  },
  {
   "cell_type": "code",
   "execution_count": 25,
   "metadata": {
    "colab": {
     "base_uri": "https://localhost:8080/"
    },
    "executionInfo": {
     "elapsed": 4,
     "status": "ok",
     "timestamp": 1650764741281,
     "user": {
      "displayName": "Dimitry Kirtsman",
      "userId": "11988189828040272864"
     },
     "user_tz": 420
    },
    "id": "fJLpLM0hADxr",
    "outputId": "42a39ad4-912e-4fde-f390-3e6655c9645f"
   },
   "outputs": [
    {
     "name": "stdout",
     "output_type": "stream",
     "text": [
      "INFO:tensorflow:Found TPU system:\n"
     ]
    },
    {
     "name": "stderr",
     "output_type": "stream",
     "text": [
      "INFO:tensorflow:Found TPU system:\n"
     ]
    },
    {
     "name": "stdout",
     "output_type": "stream",
     "text": [
      "INFO:tensorflow:*** Num TPU Cores: 8\n"
     ]
    },
    {
     "name": "stderr",
     "output_type": "stream",
     "text": [
      "INFO:tensorflow:*** Num TPU Cores: 8\n"
     ]
    },
    {
     "name": "stdout",
     "output_type": "stream",
     "text": [
      "INFO:tensorflow:*** Num TPU Workers: 1\n"
     ]
    },
    {
     "name": "stderr",
     "output_type": "stream",
     "text": [
      "INFO:tensorflow:*** Num TPU Workers: 1\n"
     ]
    },
    {
     "name": "stdout",
     "output_type": "stream",
     "text": [
      "INFO:tensorflow:*** Num TPU Cores Per Worker: 8\n"
     ]
    },
    {
     "name": "stderr",
     "output_type": "stream",
     "text": [
      "INFO:tensorflow:*** Num TPU Cores Per Worker: 8\n"
     ]
    },
    {
     "name": "stdout",
     "output_type": "stream",
     "text": [
      "INFO:tensorflow:*** Available Device: _DeviceAttributes(/job:localhost/replica:0/task:0/device:CPU:0, CPU, 0, 0)\n"
     ]
    },
    {
     "name": "stderr",
     "output_type": "stream",
     "text": [
      "INFO:tensorflow:*** Available Device: _DeviceAttributes(/job:localhost/replica:0/task:0/device:CPU:0, CPU, 0, 0)\n"
     ]
    },
    {
     "name": "stdout",
     "output_type": "stream",
     "text": [
      "INFO:tensorflow:*** Available Device: _DeviceAttributes(/job:worker/replica:0/task:0/device:CPU:0, CPU, 0, 0)\n"
     ]
    },
    {
     "name": "stderr",
     "output_type": "stream",
     "text": [
      "INFO:tensorflow:*** Available Device: _DeviceAttributes(/job:worker/replica:0/task:0/device:CPU:0, CPU, 0, 0)\n"
     ]
    },
    {
     "name": "stdout",
     "output_type": "stream",
     "text": [
      "INFO:tensorflow:*** Available Device: _DeviceAttributes(/job:worker/replica:0/task:0/device:TPU:0, TPU, 0, 0)\n"
     ]
    },
    {
     "name": "stderr",
     "output_type": "stream",
     "text": [
      "INFO:tensorflow:*** Available Device: _DeviceAttributes(/job:worker/replica:0/task:0/device:TPU:0, TPU, 0, 0)\n"
     ]
    },
    {
     "name": "stdout",
     "output_type": "stream",
     "text": [
      "INFO:tensorflow:*** Available Device: _DeviceAttributes(/job:worker/replica:0/task:0/device:TPU:1, TPU, 0, 0)\n"
     ]
    },
    {
     "name": "stderr",
     "output_type": "stream",
     "text": [
      "INFO:tensorflow:*** Available Device: _DeviceAttributes(/job:worker/replica:0/task:0/device:TPU:1, TPU, 0, 0)\n"
     ]
    },
    {
     "name": "stdout",
     "output_type": "stream",
     "text": [
      "INFO:tensorflow:*** Available Device: _DeviceAttributes(/job:worker/replica:0/task:0/device:TPU:2, TPU, 0, 0)\n"
     ]
    },
    {
     "name": "stderr",
     "output_type": "stream",
     "text": [
      "INFO:tensorflow:*** Available Device: _DeviceAttributes(/job:worker/replica:0/task:0/device:TPU:2, TPU, 0, 0)\n"
     ]
    },
    {
     "name": "stdout",
     "output_type": "stream",
     "text": [
      "INFO:tensorflow:*** Available Device: _DeviceAttributes(/job:worker/replica:0/task:0/device:TPU:3, TPU, 0, 0)\n"
     ]
    },
    {
     "name": "stderr",
     "output_type": "stream",
     "text": [
      "INFO:tensorflow:*** Available Device: _DeviceAttributes(/job:worker/replica:0/task:0/device:TPU:3, TPU, 0, 0)\n"
     ]
    },
    {
     "name": "stdout",
     "output_type": "stream",
     "text": [
      "INFO:tensorflow:*** Available Device: _DeviceAttributes(/job:worker/replica:0/task:0/device:TPU:4, TPU, 0, 0)\n"
     ]
    },
    {
     "name": "stderr",
     "output_type": "stream",
     "text": [
      "INFO:tensorflow:*** Available Device: _DeviceAttributes(/job:worker/replica:0/task:0/device:TPU:4, TPU, 0, 0)\n"
     ]
    },
    {
     "name": "stdout",
     "output_type": "stream",
     "text": [
      "INFO:tensorflow:*** Available Device: _DeviceAttributes(/job:worker/replica:0/task:0/device:TPU:5, TPU, 0, 0)\n"
     ]
    },
    {
     "name": "stderr",
     "output_type": "stream",
     "text": [
      "INFO:tensorflow:*** Available Device: _DeviceAttributes(/job:worker/replica:0/task:0/device:TPU:5, TPU, 0, 0)\n"
     ]
    },
    {
     "name": "stdout",
     "output_type": "stream",
     "text": [
      "INFO:tensorflow:*** Available Device: _DeviceAttributes(/job:worker/replica:0/task:0/device:TPU:6, TPU, 0, 0)\n"
     ]
    },
    {
     "name": "stderr",
     "output_type": "stream",
     "text": [
      "INFO:tensorflow:*** Available Device: _DeviceAttributes(/job:worker/replica:0/task:0/device:TPU:6, TPU, 0, 0)\n"
     ]
    },
    {
     "name": "stdout",
     "output_type": "stream",
     "text": [
      "INFO:tensorflow:*** Available Device: _DeviceAttributes(/job:worker/replica:0/task:0/device:TPU:7, TPU, 0, 0)\n"
     ]
    },
    {
     "name": "stderr",
     "output_type": "stream",
     "text": [
      "INFO:tensorflow:*** Available Device: _DeviceAttributes(/job:worker/replica:0/task:0/device:TPU:7, TPU, 0, 0)\n"
     ]
    },
    {
     "name": "stdout",
     "output_type": "stream",
     "text": [
      "INFO:tensorflow:*** Available Device: _DeviceAttributes(/job:worker/replica:0/task:0/device:TPU_SYSTEM:0, TPU_SYSTEM, 0, 0)\n"
     ]
    },
    {
     "name": "stderr",
     "output_type": "stream",
     "text": [
      "INFO:tensorflow:*** Available Device: _DeviceAttributes(/job:worker/replica:0/task:0/device:TPU_SYSTEM:0, TPU_SYSTEM, 0, 0)\n"
     ]
    },
    {
     "name": "stdout",
     "output_type": "stream",
     "text": [
      "INFO:tensorflow:*** Available Device: _DeviceAttributes(/job:worker/replica:0/task:0/device:XLA_CPU:0, XLA_CPU, 0, 0)\n"
     ]
    },
    {
     "name": "stderr",
     "output_type": "stream",
     "text": [
      "INFO:tensorflow:*** Available Device: _DeviceAttributes(/job:worker/replica:0/task:0/device:XLA_CPU:0, XLA_CPU, 0, 0)\n"
     ]
    }
   ],
   "source": [
    "#creating tpu strategy for best 5b_1 model\n",
    "strategy_5b_1_best  = tf.distribute.TPUStrategy(tpu) "
   ]
  },
  {
   "cell_type": "code",
   "execution_count": 26,
   "metadata": {
    "executionInfo": {
     "elapsed": 574,
     "status": "ok",
     "timestamp": 1650764741853,
     "user": {
      "displayName": "Dimitry Kirtsman",
      "userId": "11988189828040272864"
     },
     "user_tz": 420
    },
    "id": "nli5WmxOAXA3"
   },
   "outputs": [],
   "source": [
    "#getting paremeters of best model\n",
    "model_exp_5b_1_best_params = tuner_exp_5b_1.get_best_hyperparameters(2)\n",
    "# Building model exp_5b_1 with best hyper parameters\n",
    "with strategy_5b_1_best.scope():\n",
    "    model_exp_5b_1_best = create_model_exp_5b_1(model_exp_5b_1_best_params[0])"
   ]
  },
  {
   "cell_type": "code",
   "execution_count": 27,
   "metadata": {
    "colab": {
     "base_uri": "https://localhost:8080/"
    },
    "executionInfo": {
     "elapsed": 4,
     "status": "ok",
     "timestamp": 1650764741853,
     "user": {
      "displayName": "Dimitry Kirtsman",
      "userId": "11988189828040272864"
     },
     "user_tz": 420
    },
    "id": "2btu3PCpAXBB",
    "outputId": "f0c0b9e6-3a19-495a-cd1c-5fcbf8036d41"
   },
   "outputs": [
    {
     "name": "stdout",
     "output_type": "stream",
     "text": [
      "Model: \"sequential_1\"\n",
      "_________________________________________________________________\n",
      " Layer (type)                Output Shape              Param #   \n",
      "=================================================================\n",
      " flatten_1 (Flatten)         (None, 3072)              0         \n",
      "                                                                 \n",
      " dense_3 (Dense)             (None, 256)               786688    \n",
      "                                                                 \n",
      " dropout_2 (Dropout)         (None, 256)               0         \n",
      "                                                                 \n",
      " dense_4 (Dense)             (None, 96)                24672     \n",
      "                                                                 \n",
      " dropout_3 (Dropout)         (None, 96)                0         \n",
      "                                                                 \n",
      " dense_5 (Dense)             (None, 10)                970       \n",
      "                                                                 \n",
      "=================================================================\n",
      "Total params: 812,330\n",
      "Trainable params: 812,330\n",
      "Non-trainable params: 0\n",
      "_________________________________________________________________\n"
     ]
    }
   ],
   "source": [
    "model_exp_5b_1_best.summary()"
   ]
  },
  {
   "cell_type": "code",
   "execution_count": 28,
   "metadata": {
    "colab": {
     "base_uri": "https://localhost:8080/"
    },
    "executionInfo": {
     "elapsed": 79223,
     "status": "ok",
     "timestamp": 1650764821074,
     "user": {
      "displayName": "Dimitry Kirtsman",
      "userId": "11988189828040272864"
     },
     "user_tz": 420
    },
    "id": "L_Whqyp4AXBC",
    "outputId": "6e22d5ab-3435-422f-8bfa-6670c23024e9"
   },
   "outputs": [
    {
     "name": "stdout",
     "output_type": "stream",
     "text": [
      "Epoch 1/100\n",
      " 4/88 [>.............................] - ETA: 1s - loss: 3.0087 - accuracy: 0.1128  WARNING:tensorflow:Callback method `on_train_batch_end` is slow compared to the batch time (batch time: 0.0016s vs `on_train_batch_end` time: 0.2012s). Check your callbacks.\n"
     ]
    },
    {
     "name": "stderr",
     "output_type": "stream",
     "text": [
      "WARNING:tensorflow:Callback method `on_train_batch_end` is slow compared to the batch time (batch time: 0.0016s vs `on_train_batch_end` time: 0.2012s). Check your callbacks.\n"
     ]
    },
    {
     "name": "stdout",
     "output_type": "stream",
     "text": [
      "88/88 [==============================] - 9s 63ms/step - loss: 2.2678 - accuracy: 0.1717 - val_loss: 1.9447 - val_accuracy: 0.3092\n",
      "Epoch 2/100\n",
      "88/88 [==============================] - 2s 25ms/step - loss: 1.9173 - accuracy: 0.3065 - val_loss: 1.7659 - val_accuracy: 0.3750\n",
      "Epoch 3/100\n",
      "88/88 [==============================] - 2s 26ms/step - loss: 1.7757 - accuracy: 0.3626 - val_loss: 1.7077 - val_accuracy: 0.3918\n",
      "Epoch 4/100\n",
      "88/88 [==============================] - 2s 25ms/step - loss: 1.7165 - accuracy: 0.3830 - val_loss: 1.6439 - val_accuracy: 0.4082\n",
      "Epoch 5/100\n",
      "88/88 [==============================] - 2s 26ms/step - loss: 1.6687 - accuracy: 0.4024 - val_loss: 1.6152 - val_accuracy: 0.4202\n",
      "Epoch 6/100\n",
      "88/88 [==============================] - 2s 25ms/step - loss: 1.6469 - accuracy: 0.4135 - val_loss: 1.5982 - val_accuracy: 0.4230\n",
      "Epoch 7/100\n",
      "88/88 [==============================] - 2s 25ms/step - loss: 1.6192 - accuracy: 0.4212 - val_loss: 1.5773 - val_accuracy: 0.4342\n",
      "Epoch 8/100\n",
      "88/88 [==============================] - 2s 25ms/step - loss: 1.5905 - accuracy: 0.4331 - val_loss: 1.5843 - val_accuracy: 0.4282\n",
      "Epoch 9/100\n",
      "88/88 [==============================] - 2s 25ms/step - loss: 1.5671 - accuracy: 0.4444 - val_loss: 1.5228 - val_accuracy: 0.4498\n",
      "Epoch 10/100\n",
      "88/88 [==============================] - 3s 30ms/step - loss: 1.5417 - accuracy: 0.4520 - val_loss: 1.5084 - val_accuracy: 0.4630\n",
      "Epoch 11/100\n",
      "88/88 [==============================] - 2s 25ms/step - loss: 1.5293 - accuracy: 0.4522 - val_loss: 1.5296 - val_accuracy: 0.4526\n",
      "Epoch 12/100\n",
      "88/88 [==============================] - 2s 25ms/step - loss: 1.5180 - accuracy: 0.4572 - val_loss: 1.5129 - val_accuracy: 0.4534\n",
      "Epoch 13/100\n",
      "88/88 [==============================] - 2s 25ms/step - loss: 1.5084 - accuracy: 0.4603 - val_loss: 1.4855 - val_accuracy: 0.4670\n",
      "Epoch 14/100\n",
      "88/88 [==============================] - 2s 25ms/step - loss: 1.4791 - accuracy: 0.4692 - val_loss: 1.4718 - val_accuracy: 0.4724\n",
      "Epoch 15/100\n",
      "88/88 [==============================] - 2s 26ms/step - loss: 1.4702 - accuracy: 0.4726 - val_loss: 1.4661 - val_accuracy: 0.4746\n",
      "Epoch 16/100\n",
      "88/88 [==============================] - 2s 25ms/step - loss: 1.4616 - accuracy: 0.4795 - val_loss: 1.4648 - val_accuracy: 0.4658\n",
      "Epoch 17/100\n",
      "88/88 [==============================] - 2s 26ms/step - loss: 1.4504 - accuracy: 0.4826 - val_loss: 1.4585 - val_accuracy: 0.4814\n",
      "Epoch 18/100\n",
      "88/88 [==============================] - 2s 25ms/step - loss: 1.4412 - accuracy: 0.4855 - val_loss: 1.4593 - val_accuracy: 0.4778\n",
      "Epoch 19/100\n",
      "88/88 [==============================] - 2s 26ms/step - loss: 1.4308 - accuracy: 0.4892 - val_loss: 1.4400 - val_accuracy: 0.4828\n",
      "Epoch 20/100\n",
      "88/88 [==============================] - 2s 25ms/step - loss: 1.4245 - accuracy: 0.4900 - val_loss: 1.4535 - val_accuracy: 0.4756\n",
      "Epoch 21/100\n",
      "88/88 [==============================] - 2s 26ms/step - loss: 1.4173 - accuracy: 0.4921 - val_loss: 1.4195 - val_accuracy: 0.4916\n",
      "Epoch 22/100\n",
      "88/88 [==============================] - 2s 26ms/step - loss: 1.4000 - accuracy: 0.4986 - val_loss: 1.4372 - val_accuracy: 0.4842\n",
      "Epoch 23/100\n",
      "88/88 [==============================] - 2s 27ms/step - loss: 1.3964 - accuracy: 0.4985 - val_loss: 1.4080 - val_accuracy: 0.4950\n",
      "Epoch 24/100\n",
      "88/88 [==============================] - 2s 27ms/step - loss: 1.3815 - accuracy: 0.5049 - val_loss: 1.4173 - val_accuracy: 0.4996\n",
      "Epoch 25/100\n",
      "88/88 [==============================] - 2s 26ms/step - loss: 1.3718 - accuracy: 0.5057 - val_loss: 1.3918 - val_accuracy: 0.5058\n",
      "Epoch 26/100\n",
      "88/88 [==============================] - 2s 26ms/step - loss: 1.3812 - accuracy: 0.5040 - val_loss: 1.4254 - val_accuracy: 0.4896\n",
      "Epoch 27/100\n",
      "88/88 [==============================] - 2s 25ms/step - loss: 1.3781 - accuracy: 0.5080 - val_loss: 1.4025 - val_accuracy: 0.5022\n",
      "Epoch 28/100\n",
      "88/88 [==============================] - 2s 25ms/step - loss: 1.3576 - accuracy: 0.5144 - val_loss: 1.3938 - val_accuracy: 0.5048\n",
      "\n",
      "\n",
      "Finished model training in 79s\n",
      "Average time to run each epoch is: 2.287\n"
     ]
    }
   ],
   "source": [
    "# Running best model 5b_1 to get the time to run an epoch and time to run the whole model. Test set metrics will be \n",
    "#based of this model run.\n",
    "epochs=100\n",
    "patience=3\n",
    "model_number=\"5b_1\"\n",
    "history_exp_5b_1_best, model_exp_5b_1_best = compile_train_model(model_exp_5b_1_best,\n",
    "                                     x_train_norm, y_train_split,\n",
    "                                     x_valid_norm, y_valid_split, model_number, epochs\n",
    "                                    )"
   ]
  },
  {
   "cell_type": "code",
   "execution_count": 29,
   "metadata": {
    "colab": {
     "base_uri": "https://localhost:8080/"
    },
    "executionInfo": {
     "elapsed": 13,
     "status": "ok",
     "timestamp": 1650764821075,
     "user": {
      "displayName": "Dimitry Kirtsman",
      "userId": "11988189828040272864"
     },
     "user_tz": 420
    },
    "id": "GWXdbhpE5HQE",
    "outputId": "9a27ff11-b0b1-4751-c81c-a9d0184bcc7f"
   },
   "outputs": [
    {
     "name": "stdout",
     "output_type": "stream",
     "text": [
      "Model Experiment 5b_1  Training Loss:  1.3718\n",
      "Model Experiment 5b_1  Training Accuracy:  0.5057\n",
      "Model Experiment 5b_1  Validation Loss:  1.3918\n",
      "Model Experiment 5b_1  Validation Accuracy: 0.5058\n"
     ]
    }
   ],
   "source": [
    "#printing train and validation loss and accuracy for the model\n",
    "\n",
    "loss_accuracy_values(history_exp_5b_1_best, model_number, epochs, patience=patience)"
   ]
  },
  {
   "cell_type": "code",
   "execution_count": 30,
   "metadata": {
    "colab": {
     "base_uri": "https://localhost:8080/",
     "height": 916
    },
    "executionInfo": {
     "elapsed": 722,
     "status": "ok",
     "timestamp": 1650764821787,
     "user": {
      "displayName": "Dimitry Kirtsman",
      "userId": "11988189828040272864"
     },
     "user_tz": 420
    },
    "id": "fXAThyFb5HQK",
    "outputId": "9e03a91f-0076-41fd-c081-f3ba5a41a31d"
   },
   "outputs": [
    {
     "data": {
      "image/png": "[encoded data removed]",
      "text/plain": [
       "<Figure size 648x504 with 1 Axes>"
      ]
     },
     "metadata": {
      "needs_background": "light"
     },
     "output_type": "display_data"
    },
    {
     "data": {
      "image/png": "[encoded data removed]",
      "text/plain": [
       "<Figure size 648x504 with 1 Axes>"
      ]
     },
     "metadata": {
      "needs_background": "light"
     },
     "output_type": "display_data"
    }
   ],
   "source": [
    "#printing charts of  train vs validation accuracy and loss functions\n",
    "\n",
    "train_val_accuracy_and_loss_charts(history_exp_5b_1_best, model_number)"
   ]
  },
  {
   "cell_type": "code",
   "execution_count": 31,
   "metadata": {
    "colab": {
     "base_uri": "https://localhost:8080/"
    },
    "executionInfo": {
     "elapsed": 5868,
     "status": "ok",
     "timestamp": 1650764827651,
     "user": {
      "displayName": "Dimitry Kirtsman",
      "userId": "11988189828040272864"
     },
     "user_tz": 420
    },
    "id": "1AZl_yi85HQL",
    "outputId": "e19606ab-c249-4f14-8479-8332c38cd157"
   },
   "outputs": [
    {
     "name": "stdout",
     "output_type": "stream",
     "text": [
      "Classification Report\n",
      "              precision    recall  f1-score   support\n",
      "\n",
      "           0       0.52      0.59      0.56      1000\n",
      "           1       0.61      0.62      0.62      1000\n",
      "           2       0.38      0.39      0.38      1000\n",
      "           3       0.36      0.29      0.32      1000\n",
      "           4       0.47      0.40      0.43      1000\n",
      "           5       0.42      0.38      0.40      1000\n",
      "           6       0.49      0.66      0.56      1000\n",
      "           7       0.57      0.56      0.57      1000\n",
      "           8       0.62      0.62      0.62      1000\n",
      "           9       0.57      0.53      0.55      1000\n",
      "\n",
      "    accuracy                           0.51     10000\n",
      "   macro avg       0.50      0.51      0.50     10000\n",
      "weighted avg       0.50      0.51      0.50     10000\n",
      "\n",
      "Accuracy Score: 0.5054\n",
      "Root Mean Square Error: 3.082385439882559\n"
     ]
    }
   ],
   "source": [
    "#creating  classification report\n",
    "\n",
    "#getting predictions\n",
    "\n",
    "model_exp_5b_1_best_predictions=model_exp_5b_1_best.predict(x_test_norm).argmax(axis=1)\n",
    "print_validation_report(test_labels, model_exp_5b_1_best_predictions)"
   ]
  },
  {
   "cell_type": "code",
   "execution_count": 32,
   "metadata": {
    "colab": {
     "base_uri": "https://localhost:8080/",
     "height": 596
    },
    "executionInfo": {
     "elapsed": 5037,
     "status": "ok",
     "timestamp": 1650764832675,
     "user": {
      "displayName": "Dimitry Kirtsman",
      "userId": "11988189828040272864"
     },
     "user_tz": 420
    },
    "id": "3ViIN7b-5HQL",
    "outputId": "ca506ad1-7c95-47f9-b3e7-400194842fdb"
   },
   "outputs": [
    {
     "data": {
      "image/png": "[encoded data removed]",
      "text/plain": [
       "<Figure size 720x576 with 2 Axes>"
      ]
     },
     "metadata": {
      "needs_background": "light"
     },
     "output_type": "display_data"
    }
   ],
   "source": [
    "#printing out confusion matrix\n",
    "confusion_matrix_multi_class(model_exp_5b_1_best, x_test_norm, y_test, model_number)"
   ]
  },
  {
   "cell_type": "code",
   "execution_count": 32,
   "metadata": {
    "executionInfo": {
     "elapsed": 9,
     "status": "ok",
     "timestamp": 1650764832676,
     "user": {
      "displayName": "Dimitry Kirtsman",
      "userId": "11988189828040272864"
     },
     "user_tz": 420
    },
    "id": "IS6Z-Aqy5jOX"
   },
   "outputs": [],
   "source": []
  },
  {
   "cell_type": "markdown",
   "metadata": {
    "id": "OwDMKfdS5osG"
   },
   "source": [
    "# Experiment 5b_2 - Hyperparameter Tuning with CNN architecture"
   ]
  },
  {
   "cell_type": "code",
   "execution_count": 32,
   "metadata": {
    "executionInfo": {
     "elapsed": 8,
     "status": "ok",
     "timestamp": 1650764832676,
     "user": {
      "displayName": "Dimitry Kirtsman",
      "userId": "11988189828040272864"
     },
     "user_tz": 420
    },
    "id": "Tfqn7q535osG"
   },
   "outputs": [],
   "source": []
  },
  {
   "cell_type": "code",
   "execution_count": 33,
   "metadata": {
    "colab": {
     "base_uri": "https://localhost:8080/"
    },
    "executionInfo": {
     "elapsed": 164,
     "status": "ok",
     "timestamp": 1650764832832,
     "user": {
      "displayName": "Dimitry Kirtsman",
      "userId": "11988189828040272864"
     },
     "user_tz": 420
    },
    "id": "W1Nc5EMqSg_W",
    "outputId": "67ffaa6a-7527-41db-e45e-b0cd9aeec5eb"
   },
   "outputs": [
    {
     "data": {
      "text/plain": [
       "<keras.engine.sequential.Sequential at 0x7f25c9d42690>"
      ]
     },
     "execution_count": 33,
     "metadata": {},
     "output_type": "execute_result"
    }
   ],
   "source": [
    "#Experiment 5b_2 model\n",
    "def create_model_exp_5b_2(hp):\n",
    "    \n",
    "    model=Sequential()\n",
    "    model.add(Input(shape=(32,32,3)))\n",
    "    #tunning for a choice of 2 or 3 Convolutional layers\n",
    "    for i in range(hp.Int(\"Number_Conv_layers\",2,3)):\n",
    "        #within each layer testing for a min of 128 filters, a max of 512 filters and any in between by \n",
    "        #multiples of 128. Also testing kernel sized 3, 4, 5. \n",
    "        model.add(Conv2D(filters=hp.Int(\"Conv_Filters_{}\".format(i), min_value=128, max_value=512, step=128),\n",
    "                        kernel_size=hp.Int('Conv_kernel_size_{}'.format(i), 3, 5),\n",
    "                        padding='same',\n",
    "                        activation='relu'))\n",
    "        #testing strides of 1 or 2 for max pooling\n",
    "        model.add(MaxPool2D(pool_size=(2,2), \n",
    "                  strides=hp.Int(\"Max_Pool_strides_{}\".format(i), 1,2     )))\n",
    "        #testing for dropout of values 0.1 to 0.40  by increments of 0.1 after every MaxPool layer\n",
    "        model.add(Dropout (hp.Float(\"Conv_Dropout_{}\".format(i), min_value=0.10, max_value=0.40, step=0.10)))\n",
    "    model.add(Flatten())\n",
    "    #testing for number of nodes from 128 to 512 by multiples of 128 for the dense layer\n",
    "    model.add(Dense(units=hp.Int(\"Dense_nodes\", min_value=128, max_value=512, step=128), activation=\"relu\"))\n",
    "    model.add(BatchNormalization())\n",
    "    #testing for dropout of values 0.1 to 0.4 by increments of 0.1\n",
    "    model.add(Dropout (hp.Float(\"Dropout_Dense_{}\", min_value=0.10, max_value=0.40, step=0.10)))\n",
    "    model.add(Dense(10, activation = \"softmax\"))\n",
    "    \n",
    "    \n",
    "    #testing for optimizer choice of adam, sgd, or rmsprop\n",
    "    model.compile(optimizer=hp.Choice(\"optimizer\", [\"adam\", \"sgd\", \"rmsprop\"]), \\\n",
    "                                            loss=\"sparse_categorical_crossentropy\", metrics=[\"accuracy\"])\n",
    "    \n",
    "    return model\n",
    "\n",
    "create_model_exp_5b_2(kt.HyperParameters())"
   ]
  },
  {
   "cell_type": "code",
   "execution_count": 36,
   "metadata": {
    "colab": {
     "base_uri": "https://localhost:8080/"
    },
    "executionInfo": {
     "elapsed": 279,
     "status": "ok",
     "timestamp": 1650765476458,
     "user": {
      "displayName": "Dimitry Kirtsman",
      "userId": "11988189828040272864"
     },
     "user_tz": 420
    },
    "id": "qMrtdMAXXYmM",
    "outputId": "4a9763da-3b0e-46b0-e719-45094a67d4e2"
   },
   "outputs": [
    {
     "name": "stdout",
     "output_type": "stream",
     "text": [
      "INFO:tensorflow:Found TPU system:\n"
     ]
    },
    {
     "name": "stderr",
     "output_type": "stream",
     "text": [
      "INFO:tensorflow:Found TPU system:\n"
     ]
    },
    {
     "name": "stdout",
     "output_type": "stream",
     "text": [
      "INFO:tensorflow:*** Num TPU Cores: 8\n"
     ]
    },
    {
     "name": "stderr",
     "output_type": "stream",
     "text": [
      "INFO:tensorflow:*** Num TPU Cores: 8\n"
     ]
    },
    {
     "name": "stdout",
     "output_type": "stream",
     "text": [
      "INFO:tensorflow:*** Num TPU Workers: 1\n"
     ]
    },
    {
     "name": "stderr",
     "output_type": "stream",
     "text": [
      "INFO:tensorflow:*** Num TPU Workers: 1\n"
     ]
    },
    {
     "name": "stdout",
     "output_type": "stream",
     "text": [
      "INFO:tensorflow:*** Num TPU Cores Per Worker: 8\n"
     ]
    },
    {
     "name": "stderr",
     "output_type": "stream",
     "text": [
      "INFO:tensorflow:*** Num TPU Cores Per Worker: 8\n"
     ]
    },
    {
     "name": "stdout",
     "output_type": "stream",
     "text": [
      "INFO:tensorflow:*** Available Device: _DeviceAttributes(/job:localhost/replica:0/task:0/device:CPU:0, CPU, 0, 0)\n"
     ]
    },
    {
     "name": "stderr",
     "output_type": "stream",
     "text": [
      "INFO:tensorflow:*** Available Device: _DeviceAttributes(/job:localhost/replica:0/task:0/device:CPU:0, CPU, 0, 0)\n"
     ]
    },
    {
     "name": "stdout",
     "output_type": "stream",
     "text": [
      "INFO:tensorflow:*** Available Device: _DeviceAttributes(/job:worker/replica:0/task:0/device:CPU:0, CPU, 0, 0)\n"
     ]
    },
    {
     "name": "stderr",
     "output_type": "stream",
     "text": [
      "INFO:tensorflow:*** Available Device: _DeviceAttributes(/job:worker/replica:0/task:0/device:CPU:0, CPU, 0, 0)\n"
     ]
    },
    {
     "name": "stdout",
     "output_type": "stream",
     "text": [
      "INFO:tensorflow:*** Available Device: _DeviceAttributes(/job:worker/replica:0/task:0/device:TPU:0, TPU, 0, 0)\n"
     ]
    },
    {
     "name": "stderr",
     "output_type": "stream",
     "text": [
      "INFO:tensorflow:*** Available Device: _DeviceAttributes(/job:worker/replica:0/task:0/device:TPU:0, TPU, 0, 0)\n"
     ]
    },
    {
     "name": "stdout",
     "output_type": "stream",
     "text": [
      "INFO:tensorflow:*** Available Device: _DeviceAttributes(/job:worker/replica:0/task:0/device:TPU:1, TPU, 0, 0)\n"
     ]
    },
    {
     "name": "stderr",
     "output_type": "stream",
     "text": [
      "INFO:tensorflow:*** Available Device: _DeviceAttributes(/job:worker/replica:0/task:0/device:TPU:1, TPU, 0, 0)\n"
     ]
    },
    {
     "name": "stdout",
     "output_type": "stream",
     "text": [
      "INFO:tensorflow:*** Available Device: _DeviceAttributes(/job:worker/replica:0/task:0/device:TPU:2, TPU, 0, 0)\n"
     ]
    },
    {
     "name": "stderr",
     "output_type": "stream",
     "text": [
      "INFO:tensorflow:*** Available Device: _DeviceAttributes(/job:worker/replica:0/task:0/device:TPU:2, TPU, 0, 0)\n"
     ]
    },
    {
     "name": "stdout",
     "output_type": "stream",
     "text": [
      "INFO:tensorflow:*** Available Device: _DeviceAttributes(/job:worker/replica:0/task:0/device:TPU:3, TPU, 0, 0)\n"
     ]
    },
    {
     "name": "stderr",
     "output_type": "stream",
     "text": [
      "INFO:tensorflow:*** Available Device: _DeviceAttributes(/job:worker/replica:0/task:0/device:TPU:3, TPU, 0, 0)\n"
     ]
    },
    {
     "name": "stdout",
     "output_type": "stream",
     "text": [
      "INFO:tensorflow:*** Available Device: _DeviceAttributes(/job:worker/replica:0/task:0/device:TPU:4, TPU, 0, 0)\n"
     ]
    },
    {
     "name": "stderr",
     "output_type": "stream",
     "text": [
      "INFO:tensorflow:*** Available Device: _DeviceAttributes(/job:worker/replica:0/task:0/device:TPU:4, TPU, 0, 0)\n"
     ]
    },
    {
     "name": "stdout",
     "output_type": "stream",
     "text": [
      "INFO:tensorflow:*** Available Device: _DeviceAttributes(/job:worker/replica:0/task:0/device:TPU:5, TPU, 0, 0)\n"
     ]
    },
    {
     "name": "stderr",
     "output_type": "stream",
     "text": [
      "INFO:tensorflow:*** Available Device: _DeviceAttributes(/job:worker/replica:0/task:0/device:TPU:5, TPU, 0, 0)\n"
     ]
    },
    {
     "name": "stdout",
     "output_type": "stream",
     "text": [
      "INFO:tensorflow:*** Available Device: _DeviceAttributes(/job:worker/replica:0/task:0/device:TPU:6, TPU, 0, 0)\n"
     ]
    },
    {
     "name": "stderr",
     "output_type": "stream",
     "text": [
      "INFO:tensorflow:*** Available Device: _DeviceAttributes(/job:worker/replica:0/task:0/device:TPU:6, TPU, 0, 0)\n"
     ]
    },
    {
     "name": "stdout",
     "output_type": "stream",
     "text": [
      "INFO:tensorflow:*** Available Device: _DeviceAttributes(/job:worker/replica:0/task:0/device:TPU:7, TPU, 0, 0)\n"
     ]
    },
    {
     "name": "stderr",
     "output_type": "stream",
     "text": [
      "INFO:tensorflow:*** Available Device: _DeviceAttributes(/job:worker/replica:0/task:0/device:TPU:7, TPU, 0, 0)\n"
     ]
    },
    {
     "name": "stdout",
     "output_type": "stream",
     "text": [
      "INFO:tensorflow:*** Available Device: _DeviceAttributes(/job:worker/replica:0/task:0/device:TPU_SYSTEM:0, TPU_SYSTEM, 0, 0)\n"
     ]
    },
    {
     "name": "stderr",
     "output_type": "stream",
     "text": [
      "INFO:tensorflow:*** Available Device: _DeviceAttributes(/job:worker/replica:0/task:0/device:TPU_SYSTEM:0, TPU_SYSTEM, 0, 0)\n"
     ]
    },
    {
     "name": "stdout",
     "output_type": "stream",
     "text": [
      "INFO:tensorflow:*** Available Device: _DeviceAttributes(/job:worker/replica:0/task:0/device:XLA_CPU:0, XLA_CPU, 0, 0)\n"
     ]
    },
    {
     "name": "stderr",
     "output_type": "stream",
     "text": [
      "INFO:tensorflow:*** Available Device: _DeviceAttributes(/job:worker/replica:0/task:0/device:XLA_CPU:0, XLA_CPU, 0, 0)\n"
     ]
    }
   ],
   "source": [
    "#setting up TPU strategy \n",
    "strategy_5b_2 = tf.distribute.TPUStrategy(tpu) \n",
    "\n",
    "#creating Bayesian Optimization for KerasTuner\n",
    "tuner_exp_5b_2 = kt.BayesianOptimization(\n",
    "    hypermodel=create_model_exp_5b_2,\n",
    "    objective=\"val_accuracy\",\n",
    "    max_trials=20,\n",
    "    overwrite=True,\n",
    "    distribution_strategy=strategy_5b_2,\n",
    "    directory='/content/gdrive/My Drive/Colab Notebooks/MSDS_458_Assignment_2/keras_tuner_out',\n",
    "    project_name=\"exp_5b_2\")"
   ]
  },
  {
   "cell_type": "code",
   "execution_count": 37,
   "metadata": {
    "colab": {
     "base_uri": "https://localhost:8080/"
    },
    "executionInfo": {
     "elapsed": 2337778,
     "status": "ok",
     "timestamp": 1650767816748,
     "user": {
      "displayName": "Dimitry Kirtsman",
      "userId": "11988189828040272864"
     },
     "user_tz": 420
    },
    "id": "ItwMqSVD5osG",
    "outputId": "7dcde405-9840-4bc9-d3aa-63de427fa115"
   },
   "outputs": [
    {
     "name": "stdout",
     "output_type": "stream",
     "text": [
      "Trial 20 Complete [00h 01m 15s]\n",
      "val_accuracy: 0.6233999729156494\n",
      "\n",
      "Best val_accuracy So Far: 0.7823999524116516\n",
      "Total elapsed time: 00h 38m 57s\n",
      "INFO:tensorflow:Oracle triggered exit\n"
     ]
    },
    {
     "name": "stderr",
     "output_type": "stream",
     "text": [
      "INFO:tensorflow:Oracle triggered exit\n"
     ]
    }
   ],
   "source": [
    "#setting epochs, patience and early stopping\n",
    "epochs=100\n",
    "patience=3\n",
    "model_number=\"5b_2\"\n",
    "early_stopping= EarlyStopping(patience=patience, restore_best_weights=True )\n",
    "\n",
    "#tunning the model\n",
    "tuner_exp_5b_2.search(x_train_norm, y_train_split, epochs=epochs, batch_size=512, validation_data=(x_valid_norm, y_valid_split), callbacks= [early_stopping])\n"
   ]
  },
  {
   "cell_type": "code",
   "execution_count": 38,
   "metadata": {
    "colab": {
     "base_uri": "https://localhost:8080/"
    },
    "executionInfo": {
     "elapsed": 151,
     "status": "ok",
     "timestamp": 1650767902087,
     "user": {
      "displayName": "Dimitry Kirtsman",
      "userId": "11988189828040272864"
     },
     "user_tz": 420
    },
    "id": "dhGBniFr5osG",
    "outputId": "a16ec741-91c1-4681-aaef-db7ead494d9f"
   },
   "outputs": [
    {
     "name": "stdout",
     "output_type": "stream",
     "text": [
      "Number of layers: 3\n",
      "\n",
      "\n",
      "Number of filters in Conv_Layer_0: 128\n",
      "Kernel size for Conv Layer_0: 3\n",
      "Strides for Max Pooling Layer_0: 2\n",
      "Dropout in Conv layer_0: 0.2\n",
      "\n",
      "\n",
      "Number of filters in Conv_Layer_1: 384\n",
      "Kernel size for Conv Layer_1: 4\n",
      "Strides for Max Pooling Layer_1: 2\n",
      "Dropout in Conv layer_1: 0.1\n",
      "\n",
      "\n",
      "Number of filters in Conv_Layer_2: 128\n",
      "Kernel size for Conv Layer_2: 3\n",
      "Strides for Max Pooling Layer_2: 1\n",
      "Dropout in Conv layer_2: 0.1\n",
      "\n",
      "\n",
      "Number of nodes in Dense Layer: 256\n",
      "Dropout in Dense Layer: 0.1\n",
      "\n",
      "\n",
      "Optimizer Used: adam\n"
     ]
    }
   ],
   "source": [
    "#getting best hyperparameters for model \n",
    "best_hyper_parameters_exp_5b_2=tuner_exp_5b_2.get_best_hyperparameters(num_trials=1)[0]\n",
    "\n",
    "#function to print out best parameters depending on how many Conv layers there are\n",
    "def best_model_hyperparameters_Conv(bhp):\n",
    "    num_conv_layers=bhp.get('Number_Conv_layers')\n",
    "    print(\"Number of layers: {}\".format(num_conv_layers))\n",
    "    print(\"\\n\")\n",
    "    for i in range(0,num_conv_layers):\n",
    "        print(\"Number of filters in Conv_Layer_{}:\".format(i), bhp.get(\"Conv_Filters_{}\".format(i)))\n",
    "        print(\"Kernel size for Conv Layer_{}:\".format(i), bhp.get(\"Conv_kernel_size_{}\".format(i)))\n",
    "        print(\"Strides for Max Pooling Layer_{}:\".format(i), bhp.get(\"Max_Pool_strides_{}\".format(i)))\n",
    "        print(\"Dropout in Conv layer_{}:\".format(i), bhp.get(\"Conv_Dropout_{}\".format(i)))\n",
    "        print(\"\\n\")\n",
    "    print('Number of nodes in Dense Layer:', bhp.get('Dense_nodes'))\n",
    "    print('Dropout in Dense Layer:', bhp.get('Dropout_Dense_{}'))\n",
    "    print(\"\\n\")\n",
    "    print(\"Optimizer Used: {}\".format(bhp.get('optimizer')))                                                           \n",
    "\n",
    "#printing out best model hyperparameters\n",
    "best_model_hyperparameters_Conv(best_hyper_parameters_exp_5b_2)  "
   ]
  },
  {
   "cell_type": "code",
   "execution_count": null,
   "metadata": {
    "executionInfo": {
     "elapsed": 117,
     "status": "aborted",
     "timestamp": 1650765345362,
     "user": {
      "displayName": "Dimitry Kirtsman",
      "userId": "11988189828040272864"
     },
     "user_tz": 420
    },
    "id": "jFuw9o5adZ_J"
   },
   "outputs": [],
   "source": []
  },
  {
   "cell_type": "code",
   "execution_count": 39,
   "metadata": {
    "colab": {
     "base_uri": "https://localhost:8080/"
    },
    "executionInfo": {
     "elapsed": 162,
     "status": "ok",
     "timestamp": 1650767905543,
     "user": {
      "displayName": "Dimitry Kirtsman",
      "userId": "11988189828040272864"
     },
     "user_tz": 420
    },
    "id": "gBgHNutUdbgp",
    "outputId": "3a1dc8b2-bb0a-4e4c-97bb-46b94cf5334b"
   },
   "outputs": [
    {
     "name": "stdout",
     "output_type": "stream",
     "text": [
      "INFO:tensorflow:Found TPU system:\n"
     ]
    },
    {
     "name": "stderr",
     "output_type": "stream",
     "text": [
      "INFO:tensorflow:Found TPU system:\n"
     ]
    },
    {
     "name": "stdout",
     "output_type": "stream",
     "text": [
      "INFO:tensorflow:*** Num TPU Cores: 8\n"
     ]
    },
    {
     "name": "stderr",
     "output_type": "stream",
     "text": [
      "INFO:tensorflow:*** Num TPU Cores: 8\n"
     ]
    },
    {
     "name": "stdout",
     "output_type": "stream",
     "text": [
      "INFO:tensorflow:*** Num TPU Workers: 1\n"
     ]
    },
    {
     "name": "stderr",
     "output_type": "stream",
     "text": [
      "INFO:tensorflow:*** Num TPU Workers: 1\n"
     ]
    },
    {
     "name": "stdout",
     "output_type": "stream",
     "text": [
      "INFO:tensorflow:*** Num TPU Cores Per Worker: 8\n"
     ]
    },
    {
     "name": "stderr",
     "output_type": "stream",
     "text": [
      "INFO:tensorflow:*** Num TPU Cores Per Worker: 8\n"
     ]
    },
    {
     "name": "stdout",
     "output_type": "stream",
     "text": [
      "INFO:tensorflow:*** Available Device: _DeviceAttributes(/job:localhost/replica:0/task:0/device:CPU:0, CPU, 0, 0)\n"
     ]
    },
    {
     "name": "stderr",
     "output_type": "stream",
     "text": [
      "INFO:tensorflow:*** Available Device: _DeviceAttributes(/job:localhost/replica:0/task:0/device:CPU:0, CPU, 0, 0)\n"
     ]
    },
    {
     "name": "stdout",
     "output_type": "stream",
     "text": [
      "INFO:tensorflow:*** Available Device: _DeviceAttributes(/job:worker/replica:0/task:0/device:CPU:0, CPU, 0, 0)\n"
     ]
    },
    {
     "name": "stderr",
     "output_type": "stream",
     "text": [
      "INFO:tensorflow:*** Available Device: _DeviceAttributes(/job:worker/replica:0/task:0/device:CPU:0, CPU, 0, 0)\n"
     ]
    },
    {
     "name": "stdout",
     "output_type": "stream",
     "text": [
      "INFO:tensorflow:*** Available Device: _DeviceAttributes(/job:worker/replica:0/task:0/device:TPU:0, TPU, 0, 0)\n"
     ]
    },
    {
     "name": "stderr",
     "output_type": "stream",
     "text": [
      "INFO:tensorflow:*** Available Device: _DeviceAttributes(/job:worker/replica:0/task:0/device:TPU:0, TPU, 0, 0)\n"
     ]
    },
    {
     "name": "stdout",
     "output_type": "stream",
     "text": [
      "INFO:tensorflow:*** Available Device: _DeviceAttributes(/job:worker/replica:0/task:0/device:TPU:1, TPU, 0, 0)\n"
     ]
    },
    {
     "name": "stderr",
     "output_type": "stream",
     "text": [
      "INFO:tensorflow:*** Available Device: _DeviceAttributes(/job:worker/replica:0/task:0/device:TPU:1, TPU, 0, 0)\n"
     ]
    },
    {
     "name": "stdout",
     "output_type": "stream",
     "text": [
      "INFO:tensorflow:*** Available Device: _DeviceAttributes(/job:worker/replica:0/task:0/device:TPU:2, TPU, 0, 0)\n"
     ]
    },
    {
     "name": "stderr",
     "output_type": "stream",
     "text": [
      "INFO:tensorflow:*** Available Device: _DeviceAttributes(/job:worker/replica:0/task:0/device:TPU:2, TPU, 0, 0)\n"
     ]
    },
    {
     "name": "stdout",
     "output_type": "stream",
     "text": [
      "INFO:tensorflow:*** Available Device: _DeviceAttributes(/job:worker/replica:0/task:0/device:TPU:3, TPU, 0, 0)\n"
     ]
    },
    {
     "name": "stderr",
     "output_type": "stream",
     "text": [
      "INFO:tensorflow:*** Available Device: _DeviceAttributes(/job:worker/replica:0/task:0/device:TPU:3, TPU, 0, 0)\n"
     ]
    },
    {
     "name": "stdout",
     "output_type": "stream",
     "text": [
      "INFO:tensorflow:*** Available Device: _DeviceAttributes(/job:worker/replica:0/task:0/device:TPU:4, TPU, 0, 0)\n"
     ]
    },
    {
     "name": "stderr",
     "output_type": "stream",
     "text": [
      "INFO:tensorflow:*** Available Device: _DeviceAttributes(/job:worker/replica:0/task:0/device:TPU:4, TPU, 0, 0)\n"
     ]
    },
    {
     "name": "stdout",
     "output_type": "stream",
     "text": [
      "INFO:tensorflow:*** Available Device: _DeviceAttributes(/job:worker/replica:0/task:0/device:TPU:5, TPU, 0, 0)\n"
     ]
    },
    {
     "name": "stderr",
     "output_type": "stream",
     "text": [
      "INFO:tensorflow:*** Available Device: _DeviceAttributes(/job:worker/replica:0/task:0/device:TPU:5, TPU, 0, 0)\n"
     ]
    },
    {
     "name": "stdout",
     "output_type": "stream",
     "text": [
      "INFO:tensorflow:*** Available Device: _DeviceAttributes(/job:worker/replica:0/task:0/device:TPU:6, TPU, 0, 0)\n"
     ]
    },
    {
     "name": "stderr",
     "output_type": "stream",
     "text": [
      "INFO:tensorflow:*** Available Device: _DeviceAttributes(/job:worker/replica:0/task:0/device:TPU:6, TPU, 0, 0)\n"
     ]
    },
    {
     "name": "stdout",
     "output_type": "stream",
     "text": [
      "INFO:tensorflow:*** Available Device: _DeviceAttributes(/job:worker/replica:0/task:0/device:TPU:7, TPU, 0, 0)\n"
     ]
    },
    {
     "name": "stderr",
     "output_type": "stream",
     "text": [
      "INFO:tensorflow:*** Available Device: _DeviceAttributes(/job:worker/replica:0/task:0/device:TPU:7, TPU, 0, 0)\n"
     ]
    },
    {
     "name": "stdout",
     "output_type": "stream",
     "text": [
      "INFO:tensorflow:*** Available Device: _DeviceAttributes(/job:worker/replica:0/task:0/device:TPU_SYSTEM:0, TPU_SYSTEM, 0, 0)\n"
     ]
    },
    {
     "name": "stderr",
     "output_type": "stream",
     "text": [
      "INFO:tensorflow:*** Available Device: _DeviceAttributes(/job:worker/replica:0/task:0/device:TPU_SYSTEM:0, TPU_SYSTEM, 0, 0)\n"
     ]
    },
    {
     "name": "stdout",
     "output_type": "stream",
     "text": [
      "INFO:tensorflow:*** Available Device: _DeviceAttributes(/job:worker/replica:0/task:0/device:XLA_CPU:0, XLA_CPU, 0, 0)\n"
     ]
    },
    {
     "name": "stderr",
     "output_type": "stream",
     "text": [
      "INFO:tensorflow:*** Available Device: _DeviceAttributes(/job:worker/replica:0/task:0/device:XLA_CPU:0, XLA_CPU, 0, 0)\n"
     ]
    }
   ],
   "source": [
    "#setting up TPU strategy to run best 5b_2 model\n",
    "strategy_5b_2_best = tf.distribute.TPUStrategy(tpu) "
   ]
  },
  {
   "cell_type": "code",
   "execution_count": 40,
   "metadata": {
    "executionInfo": {
     "elapsed": 1269,
     "status": "ok",
     "timestamp": 1650767911621,
     "user": {
      "displayName": "Dimitry Kirtsman",
      "userId": "11988189828040272864"
     },
     "user_tz": 420
    },
    "id": "6d0U3advmhKX"
   },
   "outputs": [],
   "source": [
    "#getting paremeters of best model\n",
    "model_exp_5b_2_best_params = tuner_exp_5b_2.get_best_hyperparameters(2)\n",
    "# Building model exp_5b_2 with best hyper parameters\n",
    "with strategy_5b_2_best.scope():\n",
    "    model_exp_5b_2_best = create_model_exp_5b_2(model_exp_5b_2_best_params[0])\n",
    "\n",
    "\n",
    "\n"
   ]
  },
  {
   "cell_type": "code",
   "execution_count": 41,
   "metadata": {
    "colab": {
     "base_uri": "https://localhost:8080/"
    },
    "executionInfo": {
     "elapsed": 121,
     "status": "ok",
     "timestamp": 1650767923195,
     "user": {
      "displayName": "Dimitry Kirtsman",
      "userId": "11988189828040272864"
     },
     "user_tz": 420
    },
    "id": "nNNorp2LoGi9",
    "outputId": "fe8cb71c-c5d9-4112-a868-366e89d42cb3"
   },
   "outputs": [
    {
     "name": "stdout",
     "output_type": "stream",
     "text": [
      "Model: \"sequential_1\"\n",
      "_________________________________________________________________\n",
      " Layer (type)                Output Shape              Param #   \n",
      "=================================================================\n",
      " conv2d_3 (Conv2D)           (None, 32, 32, 128)       3584      \n",
      "                                                                 \n",
      " max_pooling2d_3 (MaxPooling  (None, 16, 16, 128)      0         \n",
      " 2D)                                                             \n",
      "                                                                 \n",
      " dropout_4 (Dropout)         (None, 16, 16, 128)       0         \n",
      "                                                                 \n",
      " conv2d_4 (Conv2D)           (None, 16, 16, 384)       786816    \n",
      "                                                                 \n",
      " max_pooling2d_4 (MaxPooling  (None, 8, 8, 384)        0         \n",
      " 2D)                                                             \n",
      "                                                                 \n",
      " dropout_5 (Dropout)         (None, 8, 8, 384)         0         \n",
      "                                                                 \n",
      " conv2d_5 (Conv2D)           (None, 8, 8, 128)         442496    \n",
      "                                                                 \n",
      " max_pooling2d_5 (MaxPooling  (None, 7, 7, 128)        0         \n",
      " 2D)                                                             \n",
      "                                                                 \n",
      " dropout_6 (Dropout)         (None, 7, 7, 128)         0         \n",
      "                                                                 \n",
      " flatten_1 (Flatten)         (None, 6272)              0         \n",
      "                                                                 \n",
      " dense_2 (Dense)             (None, 256)               1605888   \n",
      "                                                                 \n",
      " batch_normalization_1 (Batc  (None, 256)              1024      \n",
      " hNormalization)                                                 \n",
      "                                                                 \n",
      " dropout_7 (Dropout)         (None, 256)               0         \n",
      "                                                                 \n",
      " dense_3 (Dense)             (None, 10)                2570      \n",
      "                                                                 \n",
      "=================================================================\n",
      "Total params: 2,842,378\n",
      "Trainable params: 2,841,866\n",
      "Non-trainable params: 512\n",
      "_________________________________________________________________\n"
     ]
    }
   ],
   "source": [
    "model_exp_5b_2_best.summary()"
   ]
  },
  {
   "cell_type": "code",
   "execution_count": 42,
   "metadata": {
    "colab": {
     "base_uri": "https://localhost:8080/"
    },
    "executionInfo": {
     "elapsed": 83401,
     "status": "ok",
     "timestamp": 1650768010192,
     "user": {
      "displayName": "Dimitry Kirtsman",
      "userId": "11988189828040272864"
     },
     "user_tz": 420
    },
    "id": "72ffrIGknHpm",
    "outputId": "ae7efb77-4f93-4937-bacc-0115bc2cd50b"
   },
   "outputs": [
    {
     "name": "stdout",
     "output_type": "stream",
     "text": [
      "Epoch 1/100\n",
      " 5/88 [>.............................] - ETA: 2s - loss: 2.3619 - accuracy: 0.1793WARNING:tensorflow:Callback method `on_train_batch_end` is slow compared to the batch time (batch time: 0.0018s vs `on_train_batch_end` time: 0.7458s). Check your callbacks.\n"
     ]
    },
    {
     "name": "stderr",
     "output_type": "stream",
     "text": [
      "WARNING:tensorflow:Callback method `on_train_batch_end` is slow compared to the batch time (batch time: 0.0018s vs `on_train_batch_end` time: 0.7458s). Check your callbacks.\n"
     ]
    },
    {
     "name": "stdout",
     "output_type": "stream",
     "text": [
      "88/88 [==============================] - 19s 133ms/step - loss: 1.5739 - accuracy: 0.4351 - val_loss: 1.6892 - val_accuracy: 0.4658\n",
      "Epoch 2/100\n",
      "88/88 [==============================] - 3s 34ms/step - loss: 1.0784 - accuracy: 0.6190 - val_loss: 1.4757 - val_accuracy: 0.5730\n",
      "Epoch 3/100\n",
      "88/88 [==============================] - 3s 34ms/step - loss: 0.8747 - accuracy: 0.6947 - val_loss: 1.1005 - val_accuracy: 0.6366\n",
      "Epoch 4/100\n",
      "88/88 [==============================] - 3s 33ms/step - loss: 0.7535 - accuracy: 0.7373 - val_loss: 0.9290 - val_accuracy: 0.7014\n",
      "Epoch 5/100\n",
      "88/88 [==============================] - 3s 33ms/step - loss: 0.6671 - accuracy: 0.7675 - val_loss: 0.8573 - val_accuracy: 0.7002\n",
      "Epoch 6/100\n",
      "88/88 [==============================] - 3s 33ms/step - loss: 0.5981 - accuracy: 0.7905 - val_loss: 0.9086 - val_accuracy: 0.6886\n",
      "Epoch 7/100\n",
      "88/88 [==============================] - 3s 33ms/step - loss: 0.5305 - accuracy: 0.8138 - val_loss: 0.7031 - val_accuracy: 0.7586\n",
      "Epoch 8/100\n",
      "88/88 [==============================] - 3s 33ms/step - loss: 0.4732 - accuracy: 0.8347 - val_loss: 0.7253 - val_accuracy: 0.7570\n",
      "Epoch 9/100\n",
      "88/88 [==============================] - 3s 33ms/step - loss: 0.4252 - accuracy: 0.8508 - val_loss: 0.7340 - val_accuracy: 0.7580\n",
      "Epoch 10/100\n",
      "88/88 [==============================] - 3s 34ms/step - loss: 0.3784 - accuracy: 0.8685 - val_loss: 0.6895 - val_accuracy: 0.7778\n",
      "Epoch 11/100\n",
      "88/88 [==============================] - 3s 33ms/step - loss: 0.3368 - accuracy: 0.8815 - val_loss: 0.7022 - val_accuracy: 0.7788\n",
      "Epoch 12/100\n",
      "88/88 [==============================] - 3s 33ms/step - loss: 0.3070 - accuracy: 0.8912 - val_loss: 0.7798 - val_accuracy: 0.7594\n",
      "Epoch 13/100\n",
      "88/88 [==============================] - 3s 33ms/step - loss: 0.2788 - accuracy: 0.9020 - val_loss: 0.9499 - val_accuracy: 0.7426\n",
      "Epoch 14/100\n",
      "88/88 [==============================] - 3s 34ms/step - loss: 0.2483 - accuracy: 0.9132 - val_loss: 0.7319 - val_accuracy: 0.7840\n",
      "Epoch 15/100\n",
      "88/88 [==============================] - 3s 33ms/step - loss: 0.2256 - accuracy: 0.9205 - val_loss: 0.7611 - val_accuracy: 0.7760\n",
      "Epoch 16/100\n",
      "88/88 [==============================] - 3s 33ms/step - loss: 0.2001 - accuracy: 0.9306 - val_loss: 0.8274 - val_accuracy: 0.7660\n",
      "Epoch 17/100\n",
      "88/88 [==============================] - 3s 34ms/step - loss: 0.1894 - accuracy: 0.9346 - val_loss: 0.8088 - val_accuracy: 0.7870\n",
      "Epoch 18/100\n",
      "88/88 [==============================] - 3s 33ms/step - loss: 0.1635 - accuracy: 0.9436 - val_loss: 0.8782 - val_accuracy: 0.7746\n",
      "Epoch 19/100\n",
      "88/88 [==============================] - 3s 32ms/step - loss: 0.1576 - accuracy: 0.9447 - val_loss: 0.7962 - val_accuracy: 0.7840\n",
      "Epoch 20/100\n",
      "88/88 [==============================] - 3s 35ms/step - loss: 0.1445 - accuracy: 0.9500 - val_loss: 0.8515 - val_accuracy: 0.7840\n",
      "\n",
      "\n",
      "Finished model training in 83s\n",
      "Average time to run each epoch is: 2.9299\n"
     ]
    }
   ],
   "source": [
    "# Running best model 5b_2 to get the time to run an epoch and time to run the whole model. Test set metrics will be \n",
    "#based of this model run.\n",
    "epochs=100\n",
    "patience=3\n",
    "model_number=\"5b_2\"\n",
    "history_exp_5b_2_best, model_exp_5b_2_best = compile_train_model(model_exp_5b_2_best,\n",
    "                                     x_train_norm, y_train_split,\n",
    "                                     x_valid_norm, y_valid_split, model_number, epochs\n",
    "                                    )"
   ]
  },
  {
   "cell_type": "code",
   "execution_count": 43,
   "metadata": {
    "colab": {
     "base_uri": "https://localhost:8080/"
    },
    "executionInfo": {
     "elapsed": 13,
     "status": "ok",
     "timestamp": 1650768010193,
     "user": {
      "displayName": "Dimitry Kirtsman",
      "userId": "11988189828040272864"
     },
     "user_tz": 420
    },
    "id": "mnTMNQ8j5osG",
    "outputId": "0de3ab47-3bc7-4b88-cff8-9df11ef16649"
   },
   "outputs": [
    {
     "name": "stdout",
     "output_type": "stream",
     "text": [
      "Model Experiment 5b_2  Training Loss:  0.1894\n",
      "Model Experiment 5b_2  Training Accuracy:  0.9346\n",
      "Model Experiment 5b_2  Validation Loss:  0.8088\n",
      "Model Experiment 5b_2  Validation Accuracy: 0.787\n"
     ]
    }
   ],
   "source": [
    "#printing train and validation loss and accuracy for the model\n",
    "\n",
    "loss_accuracy_values(history_exp_5b_2_best, model_number, epochs, patience=patience)"
   ]
  },
  {
   "cell_type": "code",
   "execution_count": 44,
   "metadata": {
    "colab": {
     "base_uri": "https://localhost:8080/",
     "height": 916
    },
    "executionInfo": {
     "elapsed": 797,
     "status": "ok",
     "timestamp": 1650768010981,
     "user": {
      "displayName": "Dimitry Kirtsman",
      "userId": "11988189828040272864"
     },
     "user_tz": 420
    },
    "id": "lplLvPR65osG",
    "outputId": "f7c6cf71-3e7c-478d-80d9-29b78ae548e1"
   },
   "outputs": [
    {
     "data": {
      "image/png": "[encoded data removed]",
      "text/plain": [
       "<Figure size 648x504 with 1 Axes>"
      ]
     },
     "metadata": {
      "needs_background": "light"
     },
     "output_type": "display_data"
    },
    {
     "data": {
      "image/png": "[encoded data removed]",
      "text/plain": [
       "<Figure size 648x504 with 1 Axes>"
      ]
     },
     "metadata": {
      "needs_background": "light"
     },
     "output_type": "display_data"
    }
   ],
   "source": [
    "#printing charts of  train vs validation accuracy and loss functions\n",
    "\n",
    "train_val_accuracy_and_loss_charts(history_exp_5b_2_best, model_number)"
   ]
  },
  {
   "cell_type": "code",
   "execution_count": 45,
   "metadata": {
    "colab": {
     "base_uri": "https://localhost:8080/"
    },
    "executionInfo": {
     "elapsed": 6161,
     "status": "ok",
     "timestamp": 1650768017138,
     "user": {
      "displayName": "Dimitry Kirtsman",
      "userId": "11988189828040272864"
     },
     "user_tz": 420
    },
    "id": "OV9mmXBu5osG",
    "outputId": "05d21d14-6923-49e4-c188-ff2dddfa6c11"
   },
   "outputs": [
    {
     "name": "stdout",
     "output_type": "stream",
     "text": [
      "Classification Report\n",
      "              precision    recall  f1-score   support\n",
      "\n",
      "           0       0.88      0.76      0.82      1000\n",
      "           1       0.89      0.90      0.89      1000\n",
      "           2       0.72      0.69      0.70      1000\n",
      "           3       0.62      0.60      0.61      1000\n",
      "           4       0.78      0.72      0.75      1000\n",
      "           5       0.61      0.80      0.69      1000\n",
      "           6       0.90      0.77      0.83      1000\n",
      "           7       0.74      0.89      0.81      1000\n",
      "           8       0.89      0.87      0.88      1000\n",
      "           9       0.89      0.83      0.86      1000\n",
      "\n",
      "    accuracy                           0.78     10000\n",
      "   macro avg       0.79      0.78      0.78     10000\n",
      "weighted avg       0.79      0.78      0.78     10000\n",
      "\n",
      "Accuracy Score: 0.7833\n",
      "Root Mean Square Error: 1.8229920460605418\n"
     ]
    }
   ],
   "source": [
    "#creating  classification report\n",
    "\n",
    "#getting predictions\n",
    "\n",
    "model_exp_5b_2_best_predictions=model_exp_5b_2_best.predict(x_test_norm).argmax(axis=1)\n",
    "print_validation_report(test_labels, model_exp_5b_2_best_predictions)"
   ]
  },
  {
   "cell_type": "code",
   "execution_count": 46,
   "metadata": {
    "colab": {
     "base_uri": "https://localhost:8080/",
     "height": 596
    },
    "executionInfo": {
     "elapsed": 4898,
     "status": "ok",
     "timestamp": 1650768022022,
     "user": {
      "displayName": "Dimitry Kirtsman",
      "userId": "11988189828040272864"
     },
     "user_tz": 420
    },
    "id": "zSs0KmhH5osH",
    "outputId": "aa4a735e-e8c2-4a06-f3b4-e4cb02120ca7"
   },
   "outputs": [
    {
     "data": {
      "image/png": "[encoded data removed]",
      "text/plain": [
       "<Figure size 720x576 with 2 Axes>"
      ]
     },
     "metadata": {
      "needs_background": "light"
     },
     "output_type": "display_data"
    }
   ],
   "source": [
    "#printing out confusion matrix\n",
    "confusion_matrix_multi_class(model_exp_5b_2_best, x_test_norm, y_test, model_number)"
   ]
  },
  {
   "cell_type": "code",
   "execution_count": 46,
   "metadata": {
    "executionInfo": {
     "elapsed": 123,
     "status": "ok",
     "timestamp": 1650770430044,
     "user": {
      "displayName": "Dimitry Kirtsman",
      "userId": "11988189828040272864"
     },
     "user_tz": 420
    },
    "id": "ElTBeas0C6ha"
   },
   "outputs": [],
   "source": []
  }
 ],
 "metadata": {
  "accelerator": "TPU",
  "colab": {
   "authorship_tag": "ABX9TyOqApv0JM5beNzV4QyM2hI7",
   "machine_shape": "hm",
   "name": "MSDS 458 - Assignment 2 - Experiments 5B_1 - 5B_2_v2.ipynb",
   "provenance": []
  },
  "kernelspec": {
   "display_name": "Python 3 (ipykernel)",
   "language": "python",
   "name": "python3"
  },
  "language_info": {
   "codemirror_mode": {
    "name": "ipython",
    "version": 3
   },
   "file_extension": ".py",
   "mimetype": "text/x-python",
   "name": "python",
   "nbconvert_exporter": "python",
   "pygments_lexer": "ipython3",
   "version": "3.8.8"
  }
 },
 "nbformat": 4,
 "nbformat_minor": 1
}
