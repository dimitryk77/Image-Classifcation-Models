{
 "cells": [
  {
   "cell_type": "code",
   "execution_count": 1,
   "metadata": {
    "executionInfo": {
     "elapsed": 6158,
     "status": "ok",
     "timestamp": 1650932359040,
     "user": {
      "displayName": "Dimitry Kirtsman",
      "userId": "11988189828040272864"
     },
     "user_tz": 420
    },
    "id": "hRVedTQ-D6EJ"
   },
   "outputs": [],
   "source": [
    "import datetime\n",
    "import time\n",
    "import numpy as np\n",
    "import pandas as pd\n",
    "from packaging import version\n",
    "from collections import Counter\n",
    "\n",
    "from sklearn.metrics import confusion_matrix, classification_report\n",
    "from sklearn.metrics import accuracy_score\n",
    "from sklearn.metrics import mean_squared_error as MSE\n",
    "from sklearn.model_selection import train_test_split\n",
    "from sklearn.manifold import TSNE\n",
    "\n",
    "import matplotlib.pyplot as plt\n",
    "import matplotlib as mpl\n",
    "import seaborn as sns\n",
    "!pip install -q -U keras-tuner\n",
    "import keras_tuner as kt\n",
    "import tensorflow as tf\n",
    "from tensorflow import keras\n",
    "from tensorflow.keras import models, layers\n",
    "from tensorflow.keras.models import Sequential\n",
    "from tensorflow.keras.layers import Conv2D, MaxPool2D, BatchNormalization, Dropout, Flatten, Input, Dense\n",
    "from tensorflow.keras.layers import Rescaling, RandomFlip, RandomRotation, RandomZoom, RandomContrast#, RandomBrightness\n",
    "from tensorflow.keras.callbacks import ModelCheckpoint, EarlyStopping\n",
    "from tensorflow.keras.preprocessing import image\n",
    "from tensorflow.keras.utils import to_categorical\n",
    "tf.keras.utils.set_random_seed(7)\n",
    "%matplotlib inline\n",
    "np.set_printoptions(precision=3, suppress=True)\n",
    "\n",
    "#tpu = tf.distribute.cluster_resolver.TPUClusterResolver.connect()\n",
    "#print(\"Device:\", tpu.master())\n"
   ]
  },
  {
   "cell_type": "code",
   "execution_count": 2,
   "metadata": {
    "colab": {
     "base_uri": "https://localhost:8080/"
    },
    "executionInfo": {
     "elapsed": 12,
     "status": "ok",
     "timestamp": 1650932359040,
     "user": {
      "displayName": "Dimitry Kirtsman",
      "userId": "11988189828040272864"
     },
     "user_tz": 420
    },
    "id": "6FoDS9G2EI8y",
    "outputId": "42c632cd-1948-49f1-fa45-9a1feeb38055"
   },
   "outputs": [
    {
     "name": "stdout",
     "output_type": "stream",
     "text": [
      "This notebook requires TensorFlow 2.0 or above\n",
      "TensorFlow version:  2.8.0\n"
     ]
    }
   ],
   "source": [
    "print(\"This notebook requires TensorFlow 2.0 or above\")\n",
    "print(\"TensorFlow version: \", tf.__version__)\n",
    "assert version.parse(tf.__version__).release[0] >=2"
   ]
  },
  {
   "cell_type": "code",
   "execution_count": 3,
   "metadata": {
    "colab": {
     "base_uri": "https://localhost:8080/"
    },
    "executionInfo": {
     "elapsed": 8,
     "status": "ok",
     "timestamp": 1650932359041,
     "user": {
      "displayName": "Dimitry Kirtsman",
      "userId": "11988189828040272864"
     },
     "user_tz": 420
    },
    "id": "jvSH_ClREI_Q",
    "outputId": "30ddf64c-273d-420e-e331-8420256cd555"
   },
   "outputs": [
    {
     "name": "stdout",
     "output_type": "stream",
     "text": [
      "Keras version:  2.8.0\n"
     ]
    }
   ],
   "source": [
    "print(\"Keras version: \", keras.__version__)"
   ]
  },
  {
   "cell_type": "code",
   "execution_count": 4,
   "metadata": {
    "colab": {
     "base_uri": "https://localhost:8080/"
    },
    "executionInfo": {
     "elapsed": 964,
     "status": "ok",
     "timestamp": 1650932359998,
     "user": {
      "displayName": "Dimitry Kirtsman",
      "userId": "11988189828040272864"
     },
     "user_tz": 420
    },
    "id": "mNQpZd4nEJBh",
    "outputId": "d80a8628-9da2-46b2-be90-819c5b761fa6"
   },
   "outputs": [
    {
     "name": "stdout",
     "output_type": "stream",
     "text": [
      "Drive already mounted at /content/gdrive; to attempt to forcibly remount, call drive.mount(\"/content/gdrive\", force_remount=True).\n"
     ]
    }
   ],
   "source": [
    "#mounting Google Drive\n",
    "from google.colab import drive\n",
    "drive.mount('/content/gdrive')"
   ]
  },
  {
   "cell_type": "code",
   "execution_count": 5,
   "metadata": {
    "executionInfo": {
     "elapsed": 812,
     "status": "ok",
     "timestamp": 1650932360807,
     "user": {
      "displayName": "Dimitry Kirtsman",
      "userId": "11988189828040272864"
     },
     "user_tz": 420
    },
    "id": "PPExqJzYEJEA"
   },
   "outputs": [],
   "source": [
    "#getting dataset\n",
    "(x_train, y_train), (x_test, y_test) = keras.datasets.cifar10.load_data()"
   ]
  },
  {
   "cell_type": "code",
   "execution_count": 6,
   "metadata": {
    "colab": {
     "base_uri": "https://localhost:8080/"
    },
    "executionInfo": {
     "elapsed": 11,
     "status": "ok",
     "timestamp": 1650932360807,
     "user": {
      "displayName": "Dimitry Kirtsman",
      "userId": "11988189828040272864"
     },
     "user_tz": 420
    },
    "id": "dKNP-y2dEJGh",
    "outputId": "d055ded8-2c24-44ca-d663-d6b0156fa291"
   },
   "outputs": [
    {
     "name": "stdout",
     "output_type": "stream",
     "text": [
      "train_images:\t(50000, 32, 32, 3)\n",
      "train_labels:\t(50000, 1)\n",
      "test_images:\t(10000, 32, 32, 3)\n",
      "test_labels:\t(10000, 1)\n"
     ]
    }
   ],
   "source": [
    "#checking train and test size\n",
    "print('train_images:\\t{}'.format(x_train.shape))\n",
    "print('train_labels:\\t{}'.format(y_train.shape))\n",
    "print('test_images:\\t{}'.format(x_test.shape))\n",
    "print('test_labels:\\t{}'.format(y_test.shape))"
   ]
  },
  {
   "cell_type": "code",
   "execution_count": 6,
   "metadata": {
    "executionInfo": {
     "elapsed": 7,
     "status": "ok",
     "timestamp": 1650932360807,
     "user": {
      "displayName": "Dimitry Kirtsman",
      "userId": "11988189828040272864"
     },
     "user_tz": 420
    },
    "id": "hDzZK1FxEJI4"
   },
   "outputs": [],
   "source": []
  },
  {
   "cell_type": "code",
   "execution_count": 6,
   "metadata": {
    "executionInfo": {
     "elapsed": 7,
     "status": "ok",
     "timestamp": 1650932360808,
     "user": {
      "displayName": "Dimitry Kirtsman",
      "userId": "11988189828040272864"
     },
     "user_tz": 420
    },
    "id": "LPUK29FIHKpa"
   },
   "outputs": [],
   "source": []
  },
  {
   "cell_type": "markdown",
   "metadata": {
    "id": "Fj7LlZXWII5v"
   },
   "source": [
    "# Data Preprocessing"
   ]
  },
  {
   "cell_type": "code",
   "execution_count": 7,
   "metadata": {
    "executionInfo": {
     "elapsed": 7,
     "status": "ok",
     "timestamp": 1650932360808,
     "user": {
      "displayName": "Dimitry Kirtsman",
      "userId": "11988189828040272864"
     },
     "user_tz": 420
    },
    "id": "Z1jEwhuOHgfi"
   },
   "outputs": [],
   "source": [
    "#use train_test_split to create validation set.\n",
    "x_train_split, x_valid_split, y_train_split, y_valid_split = train_test_split(x_train\n",
    "                                                                              ,y_train\n",
    "                                                                              ,test_size=.1\n",
    "                                                                              ,random_state=10\n",
    "                                                                              ,shuffle=True)"
   ]
  },
  {
   "cell_type": "code",
   "execution_count": 8,
   "metadata": {
    "colab": {
     "base_uri": "https://localhost:8080/"
    },
    "executionInfo": {
     "elapsed": 7,
     "status": "ok",
     "timestamp": 1650932360808,
     "user": {
      "displayName": "Dimitry Kirtsman",
      "userId": "11988189828040272864"
     },
     "user_tz": 420
    },
    "id": "tkVWQ1n2Hgh6",
    "outputId": "8641ff81-e3fb-4807-c6c6-32a729f52ef6"
   },
   "outputs": [
    {
     "name": "stdout",
     "output_type": "stream",
     "text": [
      "(45000, 32, 32, 3) (5000, 32, 32, 3) (10000, 32, 32, 3)\n"
     ]
    }
   ],
   "source": [
    "#looking at train, validation and test set shapes\n",
    "print(x_train_split.shape, x_valid_split.shape, x_test.shape)"
   ]
  },
  {
   "cell_type": "code",
   "execution_count": 9,
   "metadata": {
    "executionInfo": {
     "elapsed": 7,
     "status": "ok",
     "timestamp": 1650932360809,
     "user": {
      "displayName": "Dimitry Kirtsman",
      "userId": "11988189828040272864"
     },
     "user_tz": 420
    },
    "id": "NX3BpfQWJRFo"
   },
   "outputs": [],
   "source": [
    "#scaling done in the model\n",
    "#scaling the train, validation and test sets by 255. Equivelant to min_max scaling\n",
    "\n",
    "#x_train_norm = x_train_split/255\n",
    "#x_valid_norm = x_valid_split/255\n",
    "#x_test_norm = x_test/255"
   ]
  },
  {
   "cell_type": "code",
   "execution_count": 9,
   "metadata": {
    "executionInfo": {
     "elapsed": 6,
     "status": "ok",
     "timestamp": 1650932360809,
     "user": {
      "displayName": "Dimitry Kirtsman",
      "userId": "11988189828040272864"
     },
     "user_tz": 420
    },
    "id": "M8xGmK_GJRII"
   },
   "outputs": [],
   "source": []
  },
  {
   "cell_type": "markdown",
   "metadata": {
    "id": "5rRVNorpKQnM"
   },
   "source": [
    "# Helpful Model Fitting and Results Functions"
   ]
  },
  {
   "cell_type": "code",
   "execution_count": 9,
   "metadata": {
    "executionInfo": {
     "elapsed": 6,
     "status": "ok",
     "timestamp": 1650932360809,
     "user": {
      "displayName": "Dimitry Kirtsman",
      "userId": "11988189828040272864"
     },
     "user_tz": 420
    },
    "id": "AdR4YftkX8fQ"
   },
   "outputs": [],
   "source": []
  },
  {
   "cell_type": "code",
   "execution_count": 10,
   "metadata": {
    "executionInfo": {
     "elapsed": 6,
     "status": "ok",
     "timestamp": 1650932360809,
     "user": {
      "displayName": "Dimitry Kirtsman",
      "userId": "11988189828040272864"
     },
     "user_tz": 420
    },
    "id": "3LrzjRnrX8iX"
   },
   "outputs": [],
   "source": [
    "#creating callback class to get the amount of seconds each epoch takes. Code from:\n",
    "#https://stackoverflow.com/questions/43178668/record-the-computation-time-for-each-epoch-in-keras-during-model-fit\n",
    "\n",
    "class EpochTimeHistory(keras.callbacks.Callback):\n",
    "    def on_train_begin(self, logs={}):\n",
    "        self.times = []\n",
    "\n",
    "    def on_epoch_begin(self, batch, logs={}):\n",
    "        self.epoch_time_start = time.time()\n",
    "\n",
    "    def on_epoch_end(self, batch, logs={}):\n",
    "        self.times.append(time.time() - self.epoch_time_start)\n"
   ]
  },
  {
   "cell_type": "code",
   "execution_count": 11,
   "metadata": {
    "executionInfo": {
     "elapsed": 7,
     "status": "ok",
     "timestamp": 1650932360810,
     "user": {
      "displayName": "Dimitry Kirtsman",
      "userId": "11988189828040272864"
     },
     "user_tz": 420
    },
    "id": "s-_zrfnNKYG6"
   },
   "outputs": [],
   "source": [
    "def compile_train_model(model, x_train, y_train, x_valid, y_valid, model_num, epochs=100, patience=3):\n",
    "    timestamp=int(time.time())\n",
    "    epoch_times=EpochTimeHistory()\n",
    "  \n",
    "    # Compile\n",
    "    model.compile(optimizer='adam',\n",
    "                loss = 'SparseCategoricalCrossentropy',\n",
    "                metrics=['accuracy'])\n",
    "\n",
    "  # Train\n",
    "    start_time = time.time()\n",
    "    history = model.fit(\n",
    "      x_train,\n",
    "      y_train,\n",
    "      epochs=epochs,\n",
    "      batch_size=512,\n",
    "      validation_data=(x_valid, y_valid),\n",
    "      verbose=1,\n",
    "      callbacks=[    \n",
    "          EarlyStopping(monitor='val_accuracy', patience=patience, restore_best_weights=True, verbose=0),\n",
    "        \n",
    "        epoch_times]\n",
    "       )\n",
    "    end_time = time.time()\n",
    "    second_elapsed = round(end_time - start_time)\n",
    "    epoch_times_values =epoch_times.times\n",
    "    print(\"\\n\")\n",
    "    print(f'Finished model training in {second_elapsed}s')\n",
    "    print(f'Average time to run each epoch is: {  np.round(np.mean(epoch_times.times[1:-1]),4) }')\n",
    "                                                                       \n",
    "\n",
    "    return history, model"
   ]
  },
  {
   "cell_type": "code",
   "execution_count": 12,
   "metadata": {
    "executionInfo": {
     "elapsed": 7,
     "status": "ok",
     "timestamp": 1650932360810,
     "user": {
      "displayName": "Dimitry Kirtsman",
      "userId": "11988189828040272864"
     },
     "user_tz": 420
    },
    "id": "dGVokoYVKYJi"
   },
   "outputs": [],
   "source": [
    "#Classificatin report function\n",
    "def print_validation_report(test_labels, predictions):\n",
    "    print(\"Classification Report\")\n",
    "    print(classification_report(test_labels, predictions))\n",
    "    print('Accuracy Score: {}'.format(accuracy_score(test_labels, predictions)))\n",
    "    print('Root Mean Square Error: {}'.format(np.sqrt(MSE(test_labels, predictions))))#included per class instruction "
   ]
  },
  {
   "cell_type": "code",
   "execution_count": 12,
   "metadata": {
    "executionInfo": {
     "elapsed": 7,
     "status": "ok",
     "timestamp": 1650932360810,
     "user": {
      "displayName": "Dimitry Kirtsman",
      "userId": "11988189828040272864"
     },
     "user_tz": 420
    },
    "id": "LCySGp9FKYOi"
   },
   "outputs": [],
   "source": []
  },
  {
   "cell_type": "code",
   "execution_count": 13,
   "metadata": {
    "executionInfo": {
     "elapsed": 7,
     "status": "ok",
     "timestamp": 1650932360810,
     "user": {
      "displayName": "Dimitry Kirtsman",
      "userId": "11988189828040272864"
     },
     "user_tz": 420
    },
    "id": "lQhqv0DaKYR6"
   },
   "outputs": [],
   "source": [
    "#function to print out training and validation set loss and accuracy values of the best model\n",
    "def loss_accuracy_values(model_history, model_num, epochs, patience=3):  \n",
    "  if len(model_history.history[\"val_loss\"])==epochs:\n",
    "      print(\"Model Experiment {} Training Loss: \".format(model_num),np.round(model_history.history[\"loss\"][-1],4))\n",
    "      print(\"Model Experiment {} Training Accuracy: \".format(model_num),np.round(model_history.history[\"accuracy\"][-1],4))\n",
    "      print(\"Model Experiment {}  Validation Loss: \".format(model_num),np.round(model_history.history[\"val_loss\"][-1],4))\n",
    "      print(\"Model Experiment {}  Validation Accuracy: \".format(model_num),np.round(model_history.history[\"val_accuracy\"][-1],4))\n",
    "  else:\n",
    "      print(\"Model Experiment {}  Training Loss: \".format(model_num),np.round(model_history.history[\"loss\"][-(1+patience)],4))\n",
    "      print(\"Model Experiment {}  Training Accuracy: \".format(model_num),np.round(model_history.history[\"accuracy\"][-(1+patience)],4))\n",
    "      print(\"Model Experiment {}  Validation Loss: \".format(model_num), np.round(model_history.history[\"val_loss\"][-(1+patience)],4))\n",
    "      print(\"Model Experiment {}  Validation Accuracy:\".format(model_num), np.round(model_history.history[\"val_accuracy\"][-(1+patience)],4)) "
   ]
  },
  {
   "cell_type": "code",
   "execution_count": 14,
   "metadata": {
    "executionInfo": {
     "elapsed": 6,
     "status": "ok",
     "timestamp": 1650932360810,
     "user": {
      "displayName": "Dimitry Kirtsman",
      "userId": "11988189828040272864"
     },
     "user_tz": 420
    },
    "id": "QOaZ_ewHKYUq"
   },
   "outputs": [],
   "source": [
    "#creating function for charts of train vs validation accuracy and loss functions\n",
    "def train_val_accuracy_and_loss_charts(model_history, model_num):\n",
    "    model_df=pd.DataFrame(model_history.history)\n",
    "\n",
    "    model_df[[\"loss\",\"val_loss\"]].plot(figsize=(9,7))\n",
    "    plt.grid(True)\n",
    "    plt.title(\"Model Experiment {}: Train vs. Validation - Loss\".format(model_num), size =17)\n",
    "    plt.xlabel(\"Epochs\", size=15)\n",
    "\n",
    "    model_df[[\"accuracy\",\"val_accuracy\"]].plot(figsize=(9,7))\n",
    "    plt.grid(True)\n",
    "    plt.title(\"Model Experiment {}: Train vs. Validation - Accuracy\".format(model_num), size =17)\n",
    "    plt.xlabel(\"Epochs\", size=15)\n",
    "\n",
    "    plt.show()    "
   ]
  },
  {
   "cell_type": "code",
   "execution_count": 15,
   "metadata": {
    "executionInfo": {
     "elapsed": 6,
     "status": "ok",
     "timestamp": 1650932360810,
     "user": {
      "displayName": "Dimitry Kirtsman",
      "userId": "11988189828040272864"
     },
     "user_tz": 420
    },
    "id": "HOatJjgzPYol"
   },
   "outputs": [],
   "source": [
    "# Function for creating multi-class confusion matrix\n",
    "\n",
    "#class names for confusion matrix\n",
    "class_names = ['airplane'\n",
    ",'automobile'\n",
    ",'bird'\n",
    ",'cat'\n",
    ",'deer'\n",
    ",'dog'\n",
    ",'frog' \n",
    ",'horse'\n",
    ",'ship'\n",
    ",'truck']\n",
    "\n",
    "\n",
    "\n",
    "def confusion_matrix_multi_class(model_for_matrix,test_set, actual_test_labels, model_num):\n",
    "    #predicting test set with model for confusion matrix and setting as sparse with argmax\n",
    "    confusion_matrix_predictions=model_for_matrix.predict(test_set).argmax(axis=1)\n",
    "\n",
    "\n",
    "\n",
    "    #creating confusion matrix - using test set labels as they were already sparse before one-hot encoding\n",
    "    confusion_matrix_for_model = confusion_matrix( actual_test_labels ,  confusion_matrix_predictions)\n",
    "\n",
    "\n",
    "    confusion_matrix_df = pd.DataFrame(confusion_matrix_for_model,\n",
    "                     #index = [0,1,2,3,4,5,6,7,8,9], \n",
    "                     #columns = [0,1,2,3,4,5,6,7,8,9]\n",
    "                     index=class_names,\n",
    "                     columns=class_names)\n",
    "\n",
    "    #Plotting the confusion matrix\n",
    "    plt.figure(figsize=(10,8))\n",
    "    sns.heatmap(confusion_matrix_df, annot=True, fmt=\"d\", cmap=\"rocket_r\")\n",
    "    plt.title('Confusion Matrix - Model Experiment {}'.format(model_num), size=17)\n",
    "    plt.ylabel('Actual Labels', size=15)\n",
    "    plt.xlabel('Predicted Labels',size=15)\n",
    "    plt.xticks(fontsize=15)\n",
    "    plt.yticks(fontsize=15)\n",
    "    plt.show()"
   ]
  },
  {
   "cell_type": "code",
   "execution_count": 15,
   "metadata": {
    "executionInfo": {
     "elapsed": 6,
     "status": "ok",
     "timestamp": 1650932360810,
     "user": {
      "displayName": "Dimitry Kirtsman",
      "userId": "11988189828040272864"
     },
     "user_tz": 420
    },
    "id": "XCWwT6IHPYzD"
   },
   "outputs": [],
   "source": []
  },
  {
   "cell_type": "code",
   "execution_count": 15,
   "metadata": {
    "executionInfo": {
     "elapsed": 7,
     "status": "ok",
     "timestamp": 1650932360811,
     "user": {
      "displayName": "Dimitry Kirtsman",
      "userId": "11988189828040272864"
     },
     "user_tz": 420
    },
    "id": "t7N31HnD5osF"
   },
   "outputs": [],
   "source": []
  },
  {
   "cell_type": "markdown",
   "metadata": {
    "id": "OwDMKfdS5osG"
   },
   "source": [
    "# Experiment 6 - Hyperparameter Tuning with CNN architecture and Data Augmentation"
   ]
  },
  {
   "cell_type": "code",
   "execution_count": 16,
   "metadata": {
    "executionInfo": {
     "elapsed": 1076,
     "status": "ok",
     "timestamp": 1650932361880,
     "user": {
      "displayName": "Dimitry Kirtsman",
      "userId": "11988189828040272864"
     },
     "user_tz": 420
    },
    "id": "Tfqn7q535osG"
   },
   "outputs": [],
   "source": [
    "#Data augmentation model which will serve as a layer in the hyperparameter tuned model below\n",
    "data_augmentation = Sequential()\n",
    "data_augmentation.add(RandomFlip(\"horizontal\", input_shape=(32,32,3)))\n",
    "data_augmentation.add(RandomRotation(0.1))\n",
    "data_augmentation.add(RandomZoom(0.2))\n",
    "data_augmentation.add(RandomContrast(0.2))"
   ]
  },
  {
   "cell_type": "code",
   "execution_count": 17,
   "metadata": {
    "colab": {
     "base_uri": "https://localhost:8080/"
    },
    "executionInfo": {
     "elapsed": 367,
     "status": "ok",
     "timestamp": 1650932362242,
     "user": {
      "displayName": "Dimitry Kirtsman",
      "userId": "11988189828040272864"
     },
     "user_tz": 420
    },
    "id": "W1Nc5EMqSg_W",
    "outputId": "9004ba75-9daf-473a-c8be-6c2a25bfacc4"
   },
   "outputs": [
    {
     "data": {
      "text/plain": [
       "<keras.engine.sequential.Sequential at 0x7f1ba0509bd0>"
      ]
     },
     "execution_count": 17,
     "metadata": {},
     "output_type": "execute_result"
    }
   ],
   "source": [
    "#Experiment 6 model\n",
    "def create_model_exp_6(hp):\n",
    "    \n",
    "    model=Sequential()\n",
    "    model.add(Input(shape=(32,32,3)))\n",
    "    model.add(data_augmentation)\n",
    "    model.add(Rescaling(1./255))\n",
    "    #tunning for a choice of 2 or 3 Convolutional layers\n",
    "    for i in range(hp.Int(\"Number_Conv_layers\",2,3)):\n",
    "        #within each layer testing for a min of 128 filters, a max of 512 filters and any in between by \n",
    "        #multiples of 128. Also testing kernel sized 3, 4, 5. \n",
    "        model.add(Conv2D(filters=hp.Int(\"Conv_Filters_{}\".format(i), min_value=128, max_value=512, step=128),\n",
    "                        kernel_size=hp.Int('Conv_kernel_size_{}'.format(i), 3, 5),\n",
    "                        padding='same',\n",
    "                        activation='relu'))\n",
    "        #testing strides of 1 or 2 for max pooling\n",
    "        model.add(MaxPool2D(pool_size=(2,2), \n",
    "                  strides=hp.Int(\"Max_Pool_strides_{}\".format(i), 1,2     )))\n",
    "        #testing for dropout of values 0.1 to 0.40  by increments of 0.10 after every MaxPool layer\n",
    "        model.add(Dropout (hp.Float(\"Conv_Dropout_{}\".format(i), min_value=0.10, max_value=0.40, step=0.10)))\n",
    "    model.add(Flatten())\n",
    "    #testing for number of nodes from 128 to 512 by multiples of 128 for the dense layer\n",
    "    model.add(Dense(units=hp.Int(\"Dense_nodes\", min_value=128, max_value=512, step=128), activation=\"relu\"))\n",
    "    model.add(BatchNormalization())\n",
    "    #testing for dropout of values 0.10 to 0.40 by increments of 0.10 for Dense Layer\n",
    "    model.add(Dropout (hp.Float(\"Dropout_Dense_{}\", min_value=0.10, max_value=0.40, step=0.10)))\n",
    "    model.add(Dense(10, activation = \"softmax\"))\n",
    "    \n",
    "    \n",
    "    #testing for optimizer choice of adam, sgd, or rmsprop\n",
    "    model.compile(optimizer=hp.Choice(\"optimizer\", [\"adam\", \"sgd\", \"rmsprop\"]), \\\n",
    "                                            loss=\"sparse_categorical_crossentropy\", metrics=[\"accuracy\"])\n",
    "    \n",
    "    return model\n",
    "\n",
    "create_model_exp_6(kt.HyperParameters())"
   ]
  },
  {
   "cell_type": "code",
   "execution_count": 18,
   "metadata": {
    "executionInfo": {
     "elapsed": 283,
     "status": "ok",
     "timestamp": 1650932362524,
     "user": {
      "displayName": "Dimitry Kirtsman",
      "userId": "11988189828040272864"
     },
     "user_tz": 420
    },
    "id": "qMrtdMAXXYmM"
   },
   "outputs": [],
   "source": [
    "\n",
    "#creating Bayesian Optimization for KerasTuner\n",
    "tuner_exp_6 = kt.BayesianOptimization(\n",
    "    hypermodel=create_model_exp_6,\n",
    "    objective=\"val_accuracy\",\n",
    "    max_trials=20,\n",
    "    overwrite=True,\n",
    "    \n",
    "    directory='/content/gdrive/My Drive/Colab Notebooks/MSDS_458_Assignment_2/keras_tuner_out',\n",
    "    project_name=\"exp_6\")"
   ]
  },
  {
   "cell_type": "code",
   "execution_count": 19,
   "metadata": {
    "colab": {
     "base_uri": "https://localhost:8080/"
    },
    "executionInfo": {
     "elapsed": 2416020,
     "status": "ok",
     "timestamp": 1650934778542,
     "user": {
      "displayName": "Dimitry Kirtsman",
      "userId": "11988189828040272864"
     },
     "user_tz": 420
    },
    "id": "ItwMqSVD5osG",
    "outputId": "16e97b16-6132-4826-d441-55ec186aafcf"
   },
   "outputs": [
    {
     "name": "stdout",
     "output_type": "stream",
     "text": [
      "Trial 20 Complete [00h 04m 49s]\n",
      "val_accuracy: 0.7832000255584717\n",
      "\n",
      "Best val_accuracy So Far: 0.7868000268936157\n",
      "Total elapsed time: 00h 40m 15s\n",
      "INFO:tensorflow:Oracle triggered exit\n"
     ]
    }
   ],
   "source": [
    "#setting epochs, patience and early stopping\n",
    "epochs=100\n",
    "patience=3\n",
    "model_number=\"6\"\n",
    "early_stopping= EarlyStopping(patience=patience, restore_best_weights=True )\n",
    "\n",
    "#tunning the model\n",
    "tuner_exp_6.search(x_train_split, y_train_split, epochs=epochs, batch_size=512, validation_data=(x_valid_split, y_valid_split), callbacks= [early_stopping])\n"
   ]
  },
  {
   "cell_type": "code",
   "execution_count": 20,
   "metadata": {
    "colab": {
     "base_uri": "https://localhost:8080/"
    },
    "executionInfo": {
     "elapsed": 9,
     "status": "ok",
     "timestamp": 1650934778542,
     "user": {
      "displayName": "Dimitry Kirtsman",
      "userId": "11988189828040272864"
     },
     "user_tz": 420
    },
    "id": "dhGBniFr5osG",
    "outputId": "7c926dd3-b6a8-43c0-86a7-14e45a737eb8"
   },
   "outputs": [
    {
     "name": "stdout",
     "output_type": "stream",
     "text": [
      "Number of layers: 3\n",
      "\n",
      "\n",
      "Number of filters in Conv_Layer_0: 128\n",
      "Kernel size for Conv Layer_0: 3\n",
      "Strides for Max Pooling Layer_0: 2\n",
      "Dropout in Conv layer_0: 0.1\n",
      "\n",
      "\n",
      "Number of filters in Conv_Layer_1: 512\n",
      "Kernel size for Conv Layer_1: 5\n",
      "Strides for Max Pooling Layer_1: 1\n",
      "Dropout in Conv layer_1: 0.4\n",
      "\n",
      "\n",
      "Number of filters in Conv_Layer_2: 256\n",
      "Kernel size for Conv Layer_2: 5\n",
      "Strides for Max Pooling Layer_2: 1\n",
      "Dropout in Conv layer_2: 0.1\n",
      "\n",
      "\n",
      "Number of nodes in Dense Layer: 512\n",
      "Dropout in Dense Layer: 0.4\n",
      "\n",
      "\n",
      "Optimizer Used: adam\n"
     ]
    }
   ],
   "source": [
    "#getting best hyperparameters for model \n",
    "best_hyper_parameters_exp_6=tuner_exp_6.get_best_hyperparameters(num_trials=1)[0]\n",
    "\n",
    "#function to print out best parameters depending on how many Conv layers there are\n",
    "def best_model_hyperparameters_Conv(bhp):\n",
    "    num_conv_layers=bhp.get('Number_Conv_layers')\n",
    "    print(\"Number of layers: {}\".format(num_conv_layers))\n",
    "    print(\"\\n\")\n",
    "    for i in range(0,num_conv_layers):\n",
    "        print(\"Number of filters in Conv_Layer_{}:\".format(i), bhp.get(\"Conv_Filters_{}\".format(i)))\n",
    "        print(\"Kernel size for Conv Layer_{}:\".format(i), bhp.get(\"Conv_kernel_size_{}\".format(i)))\n",
    "        print(\"Strides for Max Pooling Layer_{}:\".format(i), bhp.get(\"Max_Pool_strides_{}\".format(i)))\n",
    "        print(\"Dropout in Conv layer_{}:\".format(i), bhp.get(\"Conv_Dropout_{}\".format(i)))\n",
    "        print(\"\\n\")\n",
    "    print('Number of nodes in Dense Layer:', bhp.get('Dense_nodes'))\n",
    "    print('Dropout in Dense Layer:', bhp.get('Dropout_Dense_{}'))\n",
    "    print(\"\\n\")\n",
    "    print(\"Optimizer Used: {}\".format(bhp.get('optimizer')))                                                           \n",
    "\n",
    "#printing out best model hyperparameters\n",
    "best_model_hyperparameters_Conv(best_hyper_parameters_exp_6)  "
   ]
  },
  {
   "cell_type": "code",
   "execution_count": 20,
   "metadata": {
    "executionInfo": {
     "elapsed": 7,
     "status": "ok",
     "timestamp": 1650934778542,
     "user": {
      "displayName": "Dimitry Kirtsman",
      "userId": "11988189828040272864"
     },
     "user_tz": 420
    },
    "id": "jFuw9o5adZ_J"
   },
   "outputs": [],
   "source": []
  },
  {
   "cell_type": "code",
   "execution_count": 21,
   "metadata": {
    "executionInfo": {
     "elapsed": 6,
     "status": "ok",
     "timestamp": 1650934778542,
     "user": {
      "displayName": "Dimitry Kirtsman",
      "userId": "11988189828040272864"
     },
     "user_tz": 420
    },
    "id": "xyl4xiL159GL"
   },
   "outputs": [],
   "source": [
    "#getting paremeters of best model\n",
    "model_exp_6_best_params = tuner_exp_6.get_best_hyperparameters(2)\n",
    "# Building model exp_6 with best hyper parameters\n",
    "\n",
    "model_exp_6_best = create_model_exp_6(model_exp_6_best_params[0])"
   ]
  },
  {
   "cell_type": "code",
   "execution_count": 22,
   "metadata": {
    "colab": {
     "base_uri": "https://localhost:8080/"
    },
    "executionInfo": {
     "elapsed": 400,
     "status": "ok",
     "timestamp": 1650934778936,
     "user": {
      "displayName": "Dimitry Kirtsman",
      "userId": "11988189828040272864"
     },
     "user_tz": 420
    },
    "id": "nNNorp2LoGi9",
    "outputId": "425eba01-a5f1-4929-bf4e-3e5db12f7852"
   },
   "outputs": [
    {
     "name": "stdout",
     "output_type": "stream",
     "text": [
      "Model: \"sequential_1\"\n",
      "_________________________________________________________________\n",
      " Layer (type)                Output Shape              Param #   \n",
      "=================================================================\n",
      " sequential (Sequential)     (None, 32, 32, 3)         0         \n",
      "                                                                 \n",
      " rescaling_1 (Rescaling)     (None, 32, 32, 3)         0         \n",
      "                                                                 \n",
      " conv2d_3 (Conv2D)           (None, 32, 32, 128)       3584      \n",
      "                                                                 \n",
      " max_pooling2d_3 (MaxPooling  (None, 16, 16, 128)      0         \n",
      " 2D)                                                             \n",
      "                                                                 \n",
      " dropout_4 (Dropout)         (None, 16, 16, 128)       0         \n",
      "                                                                 \n",
      " conv2d_4 (Conv2D)           (None, 16, 16, 512)       1638912   \n",
      "                                                                 \n",
      " max_pooling2d_4 (MaxPooling  (None, 15, 15, 512)      0         \n",
      " 2D)                                                             \n",
      "                                                                 \n",
      " dropout_5 (Dropout)         (None, 15, 15, 512)       0         \n",
      "                                                                 \n",
      " conv2d_5 (Conv2D)           (None, 15, 15, 256)       3277056   \n",
      "                                                                 \n",
      " max_pooling2d_5 (MaxPooling  (None, 14, 14, 256)      0         \n",
      " 2D)                                                             \n",
      "                                                                 \n",
      " dropout_6 (Dropout)         (None, 14, 14, 256)       0         \n",
      "                                                                 \n",
      " flatten_1 (Flatten)         (None, 50176)             0         \n",
      "                                                                 \n",
      " dense_2 (Dense)             (None, 512)               25690624  \n",
      "                                                                 \n",
      " batch_normalization_1 (Batc  (None, 512)              2048      \n",
      " hNormalization)                                                 \n",
      "                                                                 \n",
      " dropout_7 (Dropout)         (None, 512)               0         \n",
      "                                                                 \n",
      " dense_3 (Dense)             (None, 10)                5130      \n",
      "                                                                 \n",
      "=================================================================\n",
      "Total params: 30,617,354\n",
      "Trainable params: 30,616,330\n",
      "Non-trainable params: 1,024\n",
      "_________________________________________________________________\n"
     ]
    }
   ],
   "source": [
    "model_exp_6_best.summary()"
   ]
  },
  {
   "cell_type": "code",
   "execution_count": 23,
   "metadata": {
    "colab": {
     "base_uri": "https://localhost:8080/"
    },
    "executionInfo": {
     "elapsed": 191755,
     "status": "ok",
     "timestamp": 1650934970690,
     "user": {
      "displayName": "Dimitry Kirtsman",
      "userId": "11988189828040272864"
     },
     "user_tz": 420
    },
    "id": "72ffrIGknHpm",
    "outputId": "71d678d2-f76d-4278-dff4-e8c8ee4a6d05"
   },
   "outputs": [
    {
     "name": "stdout",
     "output_type": "stream",
     "text": [
      "Epoch 1/100\n",
      " 6/88 [=>............................] - ETA: 6s - loss: 2.5813 - accuracy: 0.1826WARNING:tensorflow:Callback method `on_train_batch_end` is slow compared to the batch time (batch time: 0.0353s vs `on_train_batch_end` time: 0.0431s). Check your callbacks.\n",
      "88/88 [==============================] - 9s 87ms/step - loss: 1.9258 - accuracy: 0.3188 - val_loss: 2.9828 - val_accuracy: 0.2348\n",
      "Epoch 2/100\n",
      "88/88 [==============================] - 7s 83ms/step - loss: 1.5331 - accuracy: 0.4488 - val_loss: 1.7376 - val_accuracy: 0.3740\n",
      "Epoch 3/100\n",
      "88/88 [==============================] - 7s 83ms/step - loss: 1.3557 - accuracy: 0.5171 - val_loss: 1.2888 - val_accuracy: 0.5432\n",
      "Epoch 4/100\n",
      "88/88 [==============================] - 7s 83ms/step - loss: 1.2169 - accuracy: 0.5670 - val_loss: 1.3068 - val_accuracy: 0.5452\n",
      "Epoch 5/100\n",
      "88/88 [==============================] - 7s 83ms/step - loss: 1.1235 - accuracy: 0.6026 - val_loss: 1.1019 - val_accuracy: 0.6202\n",
      "Epoch 6/100\n",
      "88/88 [==============================] - 7s 83ms/step - loss: 1.0438 - accuracy: 0.6326 - val_loss: 1.8494 - val_accuracy: 0.4664\n",
      "Epoch 7/100\n",
      "88/88 [==============================] - 7s 83ms/step - loss: 1.0008 - accuracy: 0.6480 - val_loss: 1.0463 - val_accuracy: 0.6386\n",
      "Epoch 8/100\n",
      "88/88 [==============================] - 7s 83ms/step - loss: 0.9423 - accuracy: 0.6698 - val_loss: 0.8162 - val_accuracy: 0.7144\n",
      "Epoch 9/100\n",
      "88/88 [==============================] - 7s 82ms/step - loss: 0.9098 - accuracy: 0.6825 - val_loss: 0.9606 - val_accuracy: 0.6704\n",
      "Epoch 10/100\n",
      "88/88 [==============================] - 7s 82ms/step - loss: 0.8771 - accuracy: 0.6915 - val_loss: 0.8761 - val_accuracy: 0.7010\n",
      "Epoch 11/100\n",
      "88/88 [==============================] - 7s 83ms/step - loss: 0.8539 - accuracy: 0.7014 - val_loss: 0.7973 - val_accuracy: 0.7170\n",
      "Epoch 12/100\n",
      "88/88 [==============================] - 7s 83ms/step - loss: 0.8270 - accuracy: 0.7118 - val_loss: 0.8044 - val_accuracy: 0.7298\n",
      "Epoch 13/100\n",
      "88/88 [==============================] - 7s 83ms/step - loss: 0.8004 - accuracy: 0.7200 - val_loss: 0.7173 - val_accuracy: 0.7596\n",
      "Epoch 14/100\n",
      "88/88 [==============================] - 7s 83ms/step - loss: 0.7737 - accuracy: 0.7307 - val_loss: 0.6772 - val_accuracy: 0.7710\n",
      "Epoch 15/100\n",
      "88/88 [==============================] - 7s 82ms/step - loss: 0.7587 - accuracy: 0.7354 - val_loss: 0.8100 - val_accuracy: 0.7288\n",
      "Epoch 16/100\n",
      "88/88 [==============================] - 7s 82ms/step - loss: 0.7411 - accuracy: 0.7426 - val_loss: 0.6855 - val_accuracy: 0.7710\n",
      "Epoch 17/100\n",
      "88/88 [==============================] - 7s 83ms/step - loss: 0.7222 - accuracy: 0.7493 - val_loss: 0.6526 - val_accuracy: 0.7784\n",
      "Epoch 18/100\n",
      "88/88 [==============================] - 7s 82ms/step - loss: 0.7097 - accuracy: 0.7516 - val_loss: 0.6806 - val_accuracy: 0.7710\n",
      "Epoch 19/100\n",
      "88/88 [==============================] - 7s 83ms/step - loss: 0.6898 - accuracy: 0.7600 - val_loss: 0.6459 - val_accuracy: 0.7850\n",
      "Epoch 20/100\n",
      "88/88 [==============================] - 7s 84ms/step - loss: 0.6738 - accuracy: 0.7642 - val_loss: 0.6414 - val_accuracy: 0.7862\n",
      "Epoch 21/100\n",
      "88/88 [==============================] - 7s 84ms/step - loss: 0.6556 - accuracy: 0.7715 - val_loss: 0.6175 - val_accuracy: 0.7904\n",
      "Epoch 22/100\n",
      "88/88 [==============================] - 7s 82ms/step - loss: 0.6469 - accuracy: 0.7737 - val_loss: 0.6129 - val_accuracy: 0.7876\n",
      "Epoch 23/100\n",
      "88/88 [==============================] - 7s 83ms/step - loss: 0.6366 - accuracy: 0.7771 - val_loss: 0.6172 - val_accuracy: 0.7922\n",
      "Epoch 24/100\n",
      "88/88 [==============================] - 7s 82ms/step - loss: 0.6239 - accuracy: 0.7850 - val_loss: 0.6572 - val_accuracy: 0.7826\n",
      "Epoch 25/100\n",
      "88/88 [==============================] - 7s 82ms/step - loss: 0.6077 - accuracy: 0.7889 - val_loss: 0.6040 - val_accuracy: 0.7922\n",
      "Epoch 26/100\n",
      "88/88 [==============================] - 7s 83ms/step - loss: 0.6025 - accuracy: 0.7881 - val_loss: 0.6236 - val_accuracy: 0.7900\n",
      "\n",
      "\n",
      "Finished model training in 192s\n",
      "Average time to run each epoch is: 7.298\n"
     ]
    }
   ],
   "source": [
    "# Running best model 6 to get the time to run an epoch and time to run the whole model. Test set metrics will be \n",
    "#based of this model run.\n",
    "epochs=100\n",
    "patience=3\n",
    "model_number=\"6\"\n",
    "history_exp_6_best, model_exp_6_best = compile_train_model(model_exp_6_best,\n",
    "                                     x_train_split, y_train_split,\n",
    "                                     x_valid_split, y_valid_split, model_number, epochs\n",
    "                                    )"
   ]
  },
  {
   "cell_type": "code",
   "execution_count": 24,
   "metadata": {
    "colab": {
     "base_uri": "https://localhost:8080/"
    },
    "executionInfo": {
     "elapsed": 10,
     "status": "ok",
     "timestamp": 1650934970690,
     "user": {
      "displayName": "Dimitry Kirtsman",
      "userId": "11988189828040272864"
     },
     "user_tz": 420
    },
    "id": "mnTMNQ8j5osG",
    "outputId": "dbe5cdc2-1d48-47be-8270-5d98c0b28d62"
   },
   "outputs": [
    {
     "name": "stdout",
     "output_type": "stream",
     "text": [
      "Model Experiment 6  Training Loss:  0.6366\n",
      "Model Experiment 6  Training Accuracy:  0.7771\n",
      "Model Experiment 6  Validation Loss:  0.6172\n",
      "Model Experiment 6  Validation Accuracy: 0.7922\n"
     ]
    }
   ],
   "source": [
    "#printing train and validation loss and accuracy for the model\n",
    "\n",
    "loss_accuracy_values(history_exp_6_best, model_number, epochs, patience=patience)"
   ]
  },
  {
   "cell_type": "code",
   "execution_count": 25,
   "metadata": {
    "colab": {
     "base_uri": "https://localhost:8080/",
     "height": 0
    },
    "executionInfo": {
     "elapsed": 455,
     "status": "ok",
     "timestamp": 1650934971143,
     "user": {
      "displayName": "Dimitry Kirtsman",
      "userId": "11988189828040272864"
     },
     "user_tz": 420
    },
    "id": "lplLvPR65osG",
    "outputId": "9c2ab9d4-e87c-491c-e359-9836f3fb054c"
   },
   "outputs": [
    {
     "data": {
      "image/png": "[encoded data removed]",
      "text/plain": [
       "<Figure size 648x504 with 1 Axes>"
      ]
     },
     "metadata": {
      "needs_background": "light"
     },
     "output_type": "display_data"
    },
    {
     "data": {
      "image/png": "[encoded data removed]",
      "text/plain": [
       "<Figure size 648x504 with 1 Axes>"
      ]
     },
     "metadata": {
      "needs_background": "light"
     },
     "output_type": "display_data"
    }
   ],
   "source": [
    "#printing charts of  train vs validation accuracy and loss functions\n",
    "\n",
    "train_val_accuracy_and_loss_charts(history_exp_6_best, model_number)"
   ]
  },
  {
   "cell_type": "code",
   "execution_count": 26,
   "metadata": {
    "colab": {
     "base_uri": "https://localhost:8080/"
    },
    "executionInfo": {
     "elapsed": 1346,
     "status": "ok",
     "timestamp": 1650934972486,
     "user": {
      "displayName": "Dimitry Kirtsman",
      "userId": "11988189828040272864"
     },
     "user_tz": 420
    },
    "id": "OV9mmXBu5osG",
    "outputId": "1e495cfe-0250-406c-a8b0-da61b5ee6840"
   },
   "outputs": [
    {
     "name": "stdout",
     "output_type": "stream",
     "text": [
      "Classification Report\n",
      "              precision    recall  f1-score   support\n",
      "\n",
      "           0       0.77      0.86      0.81      1000\n",
      "           1       0.89      0.91      0.90      1000\n",
      "           2       0.77      0.69      0.73      1000\n",
      "           3       0.76      0.48      0.59      1000\n",
      "           4       0.80      0.75      0.77      1000\n",
      "           5       0.71      0.74      0.73      1000\n",
      "           6       0.71      0.92      0.80      1000\n",
      "           7       0.87      0.81      0.84      1000\n",
      "           8       0.92      0.85      0.88      1000\n",
      "           9       0.76      0.90      0.82      1000\n",
      "\n",
      "    accuracy                           0.79     10000\n",
      "   macro avg       0.80      0.79      0.79     10000\n",
      "weighted avg       0.80      0.79      0.79     10000\n",
      "\n",
      "Accuracy Score: 0.7921\n",
      "Root Mean Square Error: 1.9406442229321683\n"
     ]
    }
   ],
   "source": [
    "#creating  classification report\n",
    "\n",
    "#getting predictions\n",
    "\n",
    "model_exp_6_best_predictions=model_exp_6_best.predict(x_test).argmax(axis=1)\n",
    "print_validation_report(y_test, model_exp_6_best_predictions)"
   ]
  },
  {
   "cell_type": "code",
   "execution_count": 27,
   "metadata": {
    "colab": {
     "base_uri": "https://localhost:8080/",
     "height": 0
    },
    "executionInfo": {
     "elapsed": 2089,
     "status": "ok",
     "timestamp": 1650934974571,
     "user": {
      "displayName": "Dimitry Kirtsman",
      "userId": "11988189828040272864"
     },
     "user_tz": 420
    },
    "id": "zSs0KmhH5osH",
    "outputId": "b6c5d199-1c33-408c-cfef-741d841b6f7a"
   },
   "outputs": [
    {
     "data": {
      "image/png": "[encoded data removed]",
      "text/plain": [
       "<Figure size 720x576 with 2 Axes>"
      ]
     },
     "metadata": {
      "needs_background": "light"
     },
     "output_type": "display_data"
    }
   ],
   "source": [
    "#printing out confusion matrix\n",
    "confusion_matrix_multi_class(model_exp_6_best, x_test, y_test, model_number)"
   ]
  },
  {
   "cell_type": "code",
   "execution_count": 27,
   "metadata": {
    "executionInfo": {
     "elapsed": 6,
     "status": "ok",
     "timestamp": 1650934974571,
     "user": {
      "displayName": "Dimitry Kirtsman",
      "userId": "11988189828040272864"
     },
     "user_tz": 420
    },
    "id": "ElTBeas0C6ha"
   },
   "outputs": [],
   "source": []
  }
 ],
 "metadata": {
  "accelerator": "GPU",
  "colab": {
   "authorship_tag": "ABX9TyPzttjG9BT3/LHJwWEniMLt",
   "machine_shape": "hm",
   "name": "MSDS 458 - Assignment 2 - Experiments 6_more_trials.ipynb",
   "provenance": []
  },
  "kernelspec": {
   "display_name": "Python 3 (ipykernel)",
   "language": "python",
   "name": "python3"
  },
  "language_info": {
   "codemirror_mode": {
    "name": "ipython",
    "version": 3
   },
   "file_extension": ".py",
   "mimetype": "text/x-python",
   "name": "python",
   "nbconvert_exporter": "python",
   "pygments_lexer": "ipython3",
   "version": "3.8.8"
  }
 },
 "nbformat": 4,
 "nbformat_minor": 1
}
